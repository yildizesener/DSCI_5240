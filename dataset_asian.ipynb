{
 "cells": [
  {
   "cell_type": "markdown",
   "metadata": {},
   "source": [
    "# Data Cleaning Process"
   ]
  },
  {
   "cell_type": "markdown",
   "metadata": {},
   "source": [
    "Get the codebook from https://data.austintexas.gov/City-Government/Final-Report-of-the-Asian-American-Quality-of-Life/hc5t-p62z"
   ]
  },
  {
   "cell_type": "markdown",
   "metadata": {},
   "source": [
    "## Import Libraries and Read Data"
   ]
  },
  {
   "cell_type": "code",
   "execution_count": 1,
   "metadata": {
    "ExecuteTime": {
     "end_time": "2020-10-18T01:27:34.810459Z",
     "start_time": "2020-10-18T01:27:33.970571Z"
    }
   },
   "outputs": [],
   "source": [
    "import pandas as pd\n",
    "import numpy as np"
   ]
  },
  {
   "cell_type": "code",
   "execution_count": 2,
   "metadata": {
    "ExecuteTime": {
     "end_time": "2020-10-18T01:27:35.057866Z",
     "start_time": "2020-10-18T01:27:34.810459Z"
    }
   },
   "outputs": [],
   "source": [
    "df = pd.read_csv('Dataset_Asian.csv')"
   ]
  },
  {
   "cell_type": "markdown",
   "metadata": {},
   "source": [
    "## Explore Dataset"
   ]
  },
  {
   "cell_type": "code",
   "execution_count": 3,
   "metadata": {
    "ExecuteTime": {
     "end_time": "2020-10-18T01:27:35.111252Z",
     "start_time": "2020-10-18T01:27:35.057866Z"
    }
   },
   "outputs": [
    {
     "data": {
      "text/html": [
       "<div>\n",
       "<style scoped>\n",
       "    .dataframe tbody tr th:only-of-type {\n",
       "        vertical-align: middle;\n",
       "    }\n",
       "\n",
       "    .dataframe tbody tr th {\n",
       "        vertical-align: top;\n",
       "    }\n",
       "\n",
       "    .dataframe thead th {\n",
       "        text-align: right;\n",
       "    }\n",
       "</style>\n",
       "<table border=\"1\" class=\"dataframe\">\n",
       "  <thead>\n",
       "    <tr style=\"text-align: right;\">\n",
       "      <th></th>\n",
       "      <th>Survey ID</th>\n",
       "      <th>Age</th>\n",
       "      <th>Gender</th>\n",
       "      <th>Ethnicity</th>\n",
       "      <th>Marital Status</th>\n",
       "      <th>Education Completed</th>\n",
       "      <th>Household Size</th>\n",
       "      <th>No One</th>\n",
       "      <th>Spouse</th>\n",
       "      <th>Children</th>\n",
       "      <th>...</th>\n",
       "      <th>Other Description (Non-city-based Ethnic)</th>\n",
       "      <th>Paper (Non-city-based General)</th>\n",
       "      <th>TV/Radio (Non-city-based General)</th>\n",
       "      <th>Website (Non-city-based General)</th>\n",
       "      <th>Social Networks (Non-city-based General)</th>\n",
       "      <th>People (Non-city-based General)</th>\n",
       "      <th>Other (Non-city-based General)</th>\n",
       "      <th>Other Description (Non-city-based General)</th>\n",
       "      <th>Preferred Type</th>\n",
       "      <th>Concerns</th>\n",
       "    </tr>\n",
       "  </thead>\n",
       "  <tbody>\n",
       "    <tr>\n",
       "      <th>0</th>\n",
       "      <td>80314</td>\n",
       "      <td>NaN</td>\n",
       "      <td>NaN</td>\n",
       "      <td>Vietnamese</td>\n",
       "      <td>NaN</td>\n",
       "      <td>NaN</td>\n",
       "      <td>NaN</td>\n",
       "      <td>NaN</td>\n",
       "      <td>NaN</td>\n",
       "      <td>NaN</td>\n",
       "      <td>...</td>\n",
       "      <td>NaN</td>\n",
       "      <td>NaN</td>\n",
       "      <td>NaN</td>\n",
       "      <td>NaN</td>\n",
       "      <td>NaN</td>\n",
       "      <td>NaN</td>\n",
       "      <td>NaN</td>\n",
       "      <td>NaN</td>\n",
       "      <td>NaN</td>\n",
       "      <td>NaN</td>\n",
       "    </tr>\n",
       "    <tr>\n",
       "      <th>1</th>\n",
       "      <td>60171</td>\n",
       "      <td>60.0</td>\n",
       "      <td>Male</td>\n",
       "      <td>Chinese</td>\n",
       "      <td>Married</td>\n",
       "      <td>13.0</td>\n",
       "      <td>6.0</td>\n",
       "      <td>0</td>\n",
       "      <td>0</td>\n",
       "      <td>Living with children</td>\n",
       "      <td>...</td>\n",
       "      <td>NaN</td>\n",
       "      <td>NaN</td>\n",
       "      <td>NaN</td>\n",
       "      <td>NaN</td>\n",
       "      <td>NaN</td>\n",
       "      <td>NaN</td>\n",
       "      <td>NaN</td>\n",
       "      <td>NaN</td>\n",
       "      <td>NaN</td>\n",
       "      <td>NaN</td>\n",
       "    </tr>\n",
       "    <tr>\n",
       "      <th>2</th>\n",
       "      <td>1011601</td>\n",
       "      <td>23.0</td>\n",
       "      <td>Female</td>\n",
       "      <td>Chinese</td>\n",
       "      <td>Single</td>\n",
       "      <td>16.0</td>\n",
       "      <td>3.0</td>\n",
       "      <td>0</td>\n",
       "      <td>0</td>\n",
       "      <td>0</td>\n",
       "      <td>...</td>\n",
       "      <td>NaN</td>\n",
       "      <td>No</td>\n",
       "      <td>No</td>\n",
       "      <td>No</td>\n",
       "      <td>No</td>\n",
       "      <td>Yes</td>\n",
       "      <td>No</td>\n",
       "      <td>NaN</td>\n",
       "      <td>email</td>\n",
       "      <td>traffic</td>\n",
       "    </tr>\n",
       "    <tr>\n",
       "      <th>3</th>\n",
       "      <td>50046</td>\n",
       "      <td>73.0</td>\n",
       "      <td>Female</td>\n",
       "      <td>Chinese</td>\n",
       "      <td>Other</td>\n",
       "      <td>13.0</td>\n",
       "      <td>1.0</td>\n",
       "      <td>Living with no one</td>\n",
       "      <td>0</td>\n",
       "      <td>0</td>\n",
       "      <td>...</td>\n",
       "      <td>NaN</td>\n",
       "      <td>NaN</td>\n",
       "      <td>NaN</td>\n",
       "      <td>NaN</td>\n",
       "      <td>NaN</td>\n",
       "      <td>NaN</td>\n",
       "      <td>NaN</td>\n",
       "      <td>NaN</td>\n",
       "      <td>NaN</td>\n",
       "      <td>NaN</td>\n",
       "    </tr>\n",
       "    <tr>\n",
       "      <th>4</th>\n",
       "      <td>10494</td>\n",
       "      <td>29.0</td>\n",
       "      <td>Male</td>\n",
       "      <td>Asian Indian</td>\n",
       "      <td>Single</td>\n",
       "      <td>17.0</td>\n",
       "      <td>1.0</td>\n",
       "      <td>Living with no one</td>\n",
       "      <td>0</td>\n",
       "      <td>0</td>\n",
       "      <td>...</td>\n",
       "      <td>NaN</td>\n",
       "      <td>NaN</td>\n",
       "      <td>NaN</td>\n",
       "      <td>NaN</td>\n",
       "      <td>NaN</td>\n",
       "      <td>NaN</td>\n",
       "      <td>NaN</td>\n",
       "      <td>NaN</td>\n",
       "      <td>NaN</td>\n",
       "      <td>NaN</td>\n",
       "    </tr>\n",
       "  </tbody>\n",
       "</table>\n",
       "<p>5 rows × 231 columns</p>\n",
       "</div>"
      ],
      "text/plain": [
       "   Survey ID   Age  Gender     Ethnicity Marital Status  Education Completed  \\\n",
       "0      80314   NaN     NaN    Vietnamese            NaN                  NaN   \n",
       "1      60171  60.0    Male       Chinese        Married                 13.0   \n",
       "2    1011601  23.0  Female       Chinese         Single                 16.0   \n",
       "3      50046  73.0  Female       Chinese          Other                 13.0   \n",
       "4      10494  29.0    Male  Asian Indian         Single                 17.0   \n",
       "\n",
       "   Household Size              No One Spouse              Children  ...  \\\n",
       "0             NaN                 NaN    NaN                   NaN  ...   \n",
       "1             6.0                   0      0  Living with children  ...   \n",
       "2             3.0                   0      0                     0  ...   \n",
       "3             1.0  Living with no one      0                     0  ...   \n",
       "4             1.0  Living with no one      0                     0  ...   \n",
       "\n",
       "  Other Description (Non-city-based Ethnic) Paper (Non-city-based General)  \\\n",
       "0                                       NaN                            NaN   \n",
       "1                                       NaN                            NaN   \n",
       "2                                       NaN                             No   \n",
       "3                                       NaN                            NaN   \n",
       "4                                       NaN                            NaN   \n",
       "\n",
       "   TV/Radio (Non-city-based General) Website (Non-city-based General)  \\\n",
       "0                                NaN                              NaN   \n",
       "1                                NaN                              NaN   \n",
       "2                                 No                               No   \n",
       "3                                NaN                              NaN   \n",
       "4                                NaN                              NaN   \n",
       "\n",
       "   Social Networks (Non-city-based General) People (Non-city-based General)  \\\n",
       "0                                       NaN                             NaN   \n",
       "1                                       NaN                             NaN   \n",
       "2                                        No                             Yes   \n",
       "3                                       NaN                             NaN   \n",
       "4                                       NaN                             NaN   \n",
       "\n",
       "   Other (Non-city-based General) Other Description (Non-city-based General)  \\\n",
       "0                             NaN                                        NaN   \n",
       "1                             NaN                                        NaN   \n",
       "2                              No                                        NaN   \n",
       "3                             NaN                                        NaN   \n",
       "4                             NaN                                        NaN   \n",
       "\n",
       "  Preferred Type Concerns  \n",
       "0            NaN      NaN  \n",
       "1            NaN      NaN  \n",
       "2          email  traffic  \n",
       "3            NaN      NaN  \n",
       "4            NaN      NaN  \n",
       "\n",
       "[5 rows x 231 columns]"
      ]
     },
     "execution_count": 3,
     "metadata": {},
     "output_type": "execute_result"
    }
   ],
   "source": [
    "df.head()"
   ]
  },
  {
   "cell_type": "code",
   "execution_count": 4,
   "metadata": {
    "ExecuteTime": {
     "end_time": "2020-10-18T01:27:35.126877Z",
     "start_time": "2020-10-18T01:27:35.111252Z"
    },
    "scrolled": false
   },
   "outputs": [
    {
     "data": {
      "text/plain": [
       "Survey ID                                       int64\n",
       "Age                                           float64\n",
       "Gender                                         object\n",
       "Ethnicity                                      object\n",
       "Marital Status                                 object\n",
       "Education Completed                           float64\n",
       "Household Size                                float64\n",
       "No One                                         object\n",
       "Spouse                                         object\n",
       "Children                                       object\n",
       "Grand Children                                 object\n",
       "Parent                                         object\n",
       "Grandparent                                   float64\n",
       "Brother/Sister                                 object\n",
       "Other Relative                                float64\n",
       "Friends                                        object\n",
       "Other                                         float64\n",
       "Other Description                              object\n",
       "Religion                                       object\n",
       "Religion Other                                 object\n",
       "Full Time Employment                           object\n",
       "Part Time Employment                           object\n",
       "Self Employed Full Time                       float64\n",
       "Self Employed Part Time                       float64\n",
       "Student                                        object\n",
       "Homemaker                                      object\n",
       "Disabled                                      float64\n",
       "Unemployed                                    float64\n",
       "Retired                                        object\n",
       "Other Employement                             float64\n",
       "                                               ...   \n",
       "Public Meeting                                 object\n",
       "Council Meeting                                object\n",
       "Contact City Official                          object\n",
       "City Election                                  object\n",
       "Focus Group                                    object\n",
       "Informed                                       object\n",
       "City Effort Satisfaction                       object\n",
       "Paper (City-based)                             object\n",
       "TV/Radio (City-based)                          object\n",
       "Website (City-based)                           object\n",
       "Social Networks (City-based)                   object\n",
       "People (City-based)                            object\n",
       "Other (City-based)                             object\n",
       "Other Description (City-based)                 object\n",
       "Paper (Non-city-based Ethnic)                  object\n",
       "TV/Radio (Non-city-based Ethnic)               object\n",
       "Website (Non-city-based Ethnic)                object\n",
       "Social Networks (Non-city-based Ethnic)        object\n",
       "People (Non-city-based Ethnic)                 object\n",
       "Other (Non-city-based Ethnic)                  object\n",
       "Other Description (Non-city-based Ethnic)      object\n",
       "Paper (Non-city-based General)                 object\n",
       "TV/Radio (Non-city-based General)              object\n",
       "Website (Non-city-based General)               object\n",
       "Social Networks (Non-city-based General)       object\n",
       "People (Non-city-based General)                object\n",
       "Other (Non-city-based General)                 object\n",
       "Other Description (Non-city-based General)     object\n",
       "Preferred Type                                 object\n",
       "Concerns                                       object\n",
       "Length: 231, dtype: object"
      ]
     },
     "execution_count": 4,
     "metadata": {},
     "output_type": "execute_result"
    }
   ],
   "source": [
    "df.dtypes"
   ]
  },
  {
   "cell_type": "markdown",
   "metadata": {},
   "source": [
    "### Calculate Percentage of Missing Values per Feature"
   ]
  },
  {
   "cell_type": "code",
   "execution_count": 5,
   "metadata": {
    "ExecuteTime": {
     "end_time": "2020-10-18T01:27:35.289667Z",
     "start_time": "2020-10-18T01:27:35.126877Z"
    }
   },
   "outputs": [],
   "source": [
    "columns = df.columns\n",
    "percentages = []\n",
    "for column in columns:\n",
    "    percentages.append((df[column].isnull().sum()/df.shape[0])*100)\n",
    "df_perc = pd.DataFrame({'percentages' : percentages}, index = columns)"
   ]
  },
  {
   "cell_type": "code",
   "execution_count": 6,
   "metadata": {
    "ExecuteTime": {
     "end_time": "2020-10-18T01:27:35.311806Z",
     "start_time": "2020-10-18T01:27:35.289667Z"
    }
   },
   "outputs": [
    {
     "data": {
      "text/html": [
       "<div>\n",
       "<style scoped>\n",
       "    .dataframe tbody tr th:only-of-type {\n",
       "        vertical-align: middle;\n",
       "    }\n",
       "\n",
       "    .dataframe tbody tr th {\n",
       "        vertical-align: top;\n",
       "    }\n",
       "\n",
       "    .dataframe thead th {\n",
       "        text-align: right;\n",
       "    }\n",
       "</style>\n",
       "<table border=\"1\" class=\"dataframe\">\n",
       "  <thead>\n",
       "    <tr style=\"text-align: right;\">\n",
       "      <th></th>\n",
       "      <th>percentages</th>\n",
       "    </tr>\n",
       "  </thead>\n",
       "  <tbody>\n",
       "    <tr>\n",
       "      <th>Other Description</th>\n",
       "      <td>98.581832</td>\n",
       "    </tr>\n",
       "    <tr>\n",
       "      <th>Religion Other</th>\n",
       "      <td>98.428517</td>\n",
       "    </tr>\n",
       "    <tr>\n",
       "      <th>Other Employment Description</th>\n",
       "      <td>99.386738</td>\n",
       "    </tr>\n",
       "    <tr>\n",
       "      <th>Occupation</th>\n",
       "      <td>30.471445</td>\n",
       "    </tr>\n",
       "    <tr>\n",
       "      <th>Occupation Other</th>\n",
       "      <td>91.107704</td>\n",
       "    </tr>\n",
       "    <tr>\n",
       "      <th>Satisfaction</th>\n",
       "      <td>25.833653</td>\n",
       "    </tr>\n",
       "    <tr>\n",
       "      <th>Health Info Discription</th>\n",
       "      <td>97.201993</td>\n",
       "    </tr>\n",
       "    <tr>\n",
       "      <th>Housing (Other)</th>\n",
       "      <td>98.313530</td>\n",
       "    </tr>\n",
       "    <tr>\n",
       "      <th>Status of Ownership (Other)</th>\n",
       "      <td>98.658490</td>\n",
       "    </tr>\n",
       "    <tr>\n",
       "      <th>Other Transportation Description</th>\n",
       "      <td>99.923342</td>\n",
       "    </tr>\n",
       "    <tr>\n",
       "      <th>Other Description (City-based)</th>\n",
       "      <td>99.080107</td>\n",
       "    </tr>\n",
       "    <tr>\n",
       "      <th>Other Description (Non-city-based Ethnic)</th>\n",
       "      <td>99.310080</td>\n",
       "    </tr>\n",
       "    <tr>\n",
       "      <th>Other Description (Non-city-based General)</th>\n",
       "      <td>99.463396</td>\n",
       "    </tr>\n",
       "    <tr>\n",
       "      <th>Concerns</th>\n",
       "      <td>50.095822</td>\n",
       "    </tr>\n",
       "  </tbody>\n",
       "</table>\n",
       "</div>"
      ],
      "text/plain": [
       "                                            percentages\n",
       "Other Description                             98.581832\n",
       "Religion Other                                98.428517\n",
       "Other Employment Description                  99.386738\n",
       "Occupation                                    30.471445\n",
       "Occupation Other                              91.107704\n",
       "Satisfaction                                  25.833653\n",
       "Health Info Discription                       97.201993\n",
       "Housing (Other)                               98.313530\n",
       "Status of Ownership (Other)                   98.658490\n",
       "Other Transportation Description              99.923342\n",
       "Other Description (City-based)                99.080107\n",
       "Other Description (Non-city-based Ethnic)     99.310080\n",
       "Other Description (Non-city-based General)    99.463396\n",
       "Concerns                                      50.095822"
      ]
     },
     "execution_count": 6,
     "metadata": {},
     "output_type": "execute_result"
    }
   ],
   "source": [
    "df_over_25 = df_perc[df_perc['percentages'] > 25]\n",
    "df_over_25"
   ]
  },
  {
   "cell_type": "markdown",
   "metadata": {},
   "source": [
    "### Compare Features with Codebook"
   ]
  },
  {
   "cell_type": "code",
   "execution_count": 7,
   "metadata": {
    "ExecuteTime": {
     "end_time": "2020-10-18T01:27:35.360779Z",
     "start_time": "2020-10-18T01:27:35.311806Z"
    }
   },
   "outputs": [
    {
     "name": "stdout",
     "output_type": "stream",
     "text": [
      "Survey ID, Age, Gender, Ethnicity, Marital Status, Education Completed, Household Size, No One, Spouse, Children, Grand Children, Parent, Grandparent, Brother/Sister, Other Relative, Friends, Other , Other Description, Religion, Religion Other, Full Time Employment, Part Time Employment, Self Employed Full Time, Self Employed Part Time, Student, Homemaker, Disabled, Unemployed, Retired, Other Employement, Other Employment Description, Occupation, Occupation Other, Income, Achieving Ends Meet, US Born, Duration of Residency, Primary Language, English Speaking, English Difficulties, Familiarity with America, Familiarity with Ethnic Origin, Identify Ethnically, Belonging, Discrimination , Present Health, Present Mental Health, Present Oral Health, Hygiene Assistance, Smoking, Drinking, Regular Exercise, Healthy Diet, Hypertension, Heart Disease, Stroke, Diabetes, Cancer, Arthritis, Hepatitis, Kidney Problem, Asthma, COPD, Physical Check-up, Dentist Check-up, Urgentcare, Folkmedicine, Primary Care, Health Insurance, Dental Insurance, Unmet Health Need, Unmet Dental Needs, Transportation (Medical), Interpretation (Medical), Comunication Problem, Preferance, Language, users, Satisfaction, Family, Close Friend, Acquaintances, Heal Professionals, Mobile Apps, Email, Social Networks, Online Communities, Health Website, Other, Health Info Discription, Quality of Life, Satisfied With Life 1, Satisfied With Life 2, Psychiatrist, General Practitioner, Therapist/Counselor , Religious Leader, Weakness, Shame, Disappointment, Disclosure, Antidepressants, Danger, Recovery, Treatment, Counseling, Preference, Knowledge, Diagnosed, Concern for Self (AD), Concern for Others (AD), Prevention, Plan (AD), Education (AD), Services (AD), Language Barrier (AD), Fate (AD), Aging (AD), Embarrassing (AD), Avoidance (AD), Cure (AD), Nursing Home (AD), Advanced Directives, Have an Advanced Directive, Superstition, See Family, Close Family, Helpful Family, See Friends, Close Friends, Helpful Friends, Family Respect, Similar Values, Successful Family, Trust, Loyalty, Family Pride, Expression, Spend Time Together, Feel Close , Togetherness, Religious Attendance, Religious Importance, Close-knit Community, Helpful Community, Community Shares Values, Get Along, Community Trust, Residency , Place to Live, Raising Children, Place to Work, Small Businesses , Place to Retire, Arts and Culture, Safety, Traffic, Qualtiy of Life, Quality of Service, Parks and Recs, Libraries, Public Safety, Airport, Austin Energy, Court, Social Services, Aware of AARC, Visit Frequency , Activities, EMS Classes, Fire Alarm, Public Computer, Library Internet Acess, Literature, Citizenship Class, Small Business, English Classes, 9-1-1, 3-1-1, APD Languages , District, Housing , Housing (Other), Status of Ownership, Status of Ownership (Other), Satisfaction With Housing., Nursing Home, Smoke Detector, Recycle, Compost, Public Transportation, Bicycling, Carpooling, Personal Car, Car Share, Walking, Other Transportation, Other Transportation Description, Access to a Computer, Mobile Devices, Home Phone, Public Meeting, Council Meeting, Contact City Official, City Election, Focus Group, Informed, City Effort Satisfaction, Paper (City-based), TV/Radio (City-based), Website (City-based), Social Networks (City-based), People (City-based), Other (City-based), Other Description (City-based), Paper (Non-city-based Ethnic), TV/Radio (Non-city-based Ethnic), Website (Non-city-based Ethnic), Social Networks (Non-city-based Ethnic), People (Non-city-based Ethnic), Other (Non-city-based Ethnic), Other Description (Non-city-based Ethnic), Paper (Non-city-based General), TV/Radio (Non-city-based General), Website (Non-city-based General), Social Networks (Non-city-based General), People (Non-city-based General), Other (Non-city-based General), Other Description (Non-city-based General), Preferred Type, Concerns, "
     ]
    }
   ],
   "source": [
    "_ = [print(column, end=', ') for column in df.columns]"
   ]
  },
  {
   "cell_type": "markdown",
   "metadata": {},
   "source": [
    "* The features are aligned with the codebook and many of them are already transformed into dummy variables. Let's first handle the feature names"
   ]
  },
  {
   "cell_type": "code",
   "execution_count": 8,
   "metadata": {
    "ExecuteTime": {
     "end_time": "2020-10-18T01:27:35.411698Z",
     "start_time": "2020-10-18T01:27:35.376402Z"
    }
   },
   "outputs": [],
   "source": [
    "columns = df.columns\n",
    "discard = r' /-()'\n",
    "c_names = []\n",
    "for column in columns:\n",
    "    t = list(column)\n",
    "    t = [s.lower() for s in t]\n",
    "    for letter in t:\n",
    "        if letter in discard:\n",
    "            index = t.index(letter)\n",
    "            t[index] = '_'\n",
    "    t = ''.join(t)\n",
    "    c_names.append(t)\n",
    "df.columns = c_names"
   ]
  },
  {
   "cell_type": "code",
   "execution_count": 9,
   "metadata": {
    "ExecuteTime": {
     "end_time": "2020-10-18T01:27:35.474201Z",
     "start_time": "2020-10-18T01:27:35.411698Z"
    }
   },
   "outputs": [
    {
     "data": {
      "text/html": [
       "<div>\n",
       "<style scoped>\n",
       "    .dataframe tbody tr th:only-of-type {\n",
       "        vertical-align: middle;\n",
       "    }\n",
       "\n",
       "    .dataframe tbody tr th {\n",
       "        vertical-align: top;\n",
       "    }\n",
       "\n",
       "    .dataframe thead th {\n",
       "        text-align: right;\n",
       "    }\n",
       "</style>\n",
       "<table border=\"1\" class=\"dataframe\">\n",
       "  <thead>\n",
       "    <tr style=\"text-align: right;\">\n",
       "      <th></th>\n",
       "      <th>survey_id</th>\n",
       "      <th>age</th>\n",
       "      <th>gender</th>\n",
       "      <th>ethnicity</th>\n",
       "      <th>marital_status</th>\n",
       "      <th>education_completed</th>\n",
       "      <th>household_size</th>\n",
       "      <th>no_one</th>\n",
       "      <th>spouse</th>\n",
       "      <th>children</th>\n",
       "      <th>...</th>\n",
       "      <th>other_description__non_city_based_ethnic_</th>\n",
       "      <th>paper__non_city_based_general_</th>\n",
       "      <th>tv_radio__non_city_based_general_</th>\n",
       "      <th>website__non_city_based_general_</th>\n",
       "      <th>social_networks__non_city_based_general_</th>\n",
       "      <th>people__non_city_based_general_</th>\n",
       "      <th>other__non_city_based_general_</th>\n",
       "      <th>other_description__non_city_based_general_</th>\n",
       "      <th>preferred_type</th>\n",
       "      <th>concerns</th>\n",
       "    </tr>\n",
       "  </thead>\n",
       "  <tbody>\n",
       "    <tr>\n",
       "      <th>0</th>\n",
       "      <td>80314</td>\n",
       "      <td>NaN</td>\n",
       "      <td>NaN</td>\n",
       "      <td>Vietnamese</td>\n",
       "      <td>NaN</td>\n",
       "      <td>NaN</td>\n",
       "      <td>NaN</td>\n",
       "      <td>NaN</td>\n",
       "      <td>NaN</td>\n",
       "      <td>NaN</td>\n",
       "      <td>...</td>\n",
       "      <td>NaN</td>\n",
       "      <td>NaN</td>\n",
       "      <td>NaN</td>\n",
       "      <td>NaN</td>\n",
       "      <td>NaN</td>\n",
       "      <td>NaN</td>\n",
       "      <td>NaN</td>\n",
       "      <td>NaN</td>\n",
       "      <td>NaN</td>\n",
       "      <td>NaN</td>\n",
       "    </tr>\n",
       "    <tr>\n",
       "      <th>1</th>\n",
       "      <td>60171</td>\n",
       "      <td>60.0</td>\n",
       "      <td>Male</td>\n",
       "      <td>Chinese</td>\n",
       "      <td>Married</td>\n",
       "      <td>13.0</td>\n",
       "      <td>6.0</td>\n",
       "      <td>0</td>\n",
       "      <td>0</td>\n",
       "      <td>Living with children</td>\n",
       "      <td>...</td>\n",
       "      <td>NaN</td>\n",
       "      <td>NaN</td>\n",
       "      <td>NaN</td>\n",
       "      <td>NaN</td>\n",
       "      <td>NaN</td>\n",
       "      <td>NaN</td>\n",
       "      <td>NaN</td>\n",
       "      <td>NaN</td>\n",
       "      <td>NaN</td>\n",
       "      <td>NaN</td>\n",
       "    </tr>\n",
       "    <tr>\n",
       "      <th>2</th>\n",
       "      <td>1011601</td>\n",
       "      <td>23.0</td>\n",
       "      <td>Female</td>\n",
       "      <td>Chinese</td>\n",
       "      <td>Single</td>\n",
       "      <td>16.0</td>\n",
       "      <td>3.0</td>\n",
       "      <td>0</td>\n",
       "      <td>0</td>\n",
       "      <td>0</td>\n",
       "      <td>...</td>\n",
       "      <td>NaN</td>\n",
       "      <td>No</td>\n",
       "      <td>No</td>\n",
       "      <td>No</td>\n",
       "      <td>No</td>\n",
       "      <td>Yes</td>\n",
       "      <td>No</td>\n",
       "      <td>NaN</td>\n",
       "      <td>email</td>\n",
       "      <td>traffic</td>\n",
       "    </tr>\n",
       "    <tr>\n",
       "      <th>3</th>\n",
       "      <td>50046</td>\n",
       "      <td>73.0</td>\n",
       "      <td>Female</td>\n",
       "      <td>Chinese</td>\n",
       "      <td>Other</td>\n",
       "      <td>13.0</td>\n",
       "      <td>1.0</td>\n",
       "      <td>Living with no one</td>\n",
       "      <td>0</td>\n",
       "      <td>0</td>\n",
       "      <td>...</td>\n",
       "      <td>NaN</td>\n",
       "      <td>NaN</td>\n",
       "      <td>NaN</td>\n",
       "      <td>NaN</td>\n",
       "      <td>NaN</td>\n",
       "      <td>NaN</td>\n",
       "      <td>NaN</td>\n",
       "      <td>NaN</td>\n",
       "      <td>NaN</td>\n",
       "      <td>NaN</td>\n",
       "    </tr>\n",
       "    <tr>\n",
       "      <th>4</th>\n",
       "      <td>10494</td>\n",
       "      <td>29.0</td>\n",
       "      <td>Male</td>\n",
       "      <td>Asian Indian</td>\n",
       "      <td>Single</td>\n",
       "      <td>17.0</td>\n",
       "      <td>1.0</td>\n",
       "      <td>Living with no one</td>\n",
       "      <td>0</td>\n",
       "      <td>0</td>\n",
       "      <td>...</td>\n",
       "      <td>NaN</td>\n",
       "      <td>NaN</td>\n",
       "      <td>NaN</td>\n",
       "      <td>NaN</td>\n",
       "      <td>NaN</td>\n",
       "      <td>NaN</td>\n",
       "      <td>NaN</td>\n",
       "      <td>NaN</td>\n",
       "      <td>NaN</td>\n",
       "      <td>NaN</td>\n",
       "    </tr>\n",
       "  </tbody>\n",
       "</table>\n",
       "<p>5 rows × 231 columns</p>\n",
       "</div>"
      ],
      "text/plain": [
       "   survey_id   age  gender     ethnicity marital_status  education_completed  \\\n",
       "0      80314   NaN     NaN    Vietnamese            NaN                  NaN   \n",
       "1      60171  60.0    Male       Chinese        Married                 13.0   \n",
       "2    1011601  23.0  Female       Chinese         Single                 16.0   \n",
       "3      50046  73.0  Female       Chinese          Other                 13.0   \n",
       "4      10494  29.0    Male  Asian Indian         Single                 17.0   \n",
       "\n",
       "   household_size              no_one spouse              children  ...  \\\n",
       "0             NaN                 NaN    NaN                   NaN  ...   \n",
       "1             6.0                   0      0  Living with children  ...   \n",
       "2             3.0                   0      0                     0  ...   \n",
       "3             1.0  Living with no one      0                     0  ...   \n",
       "4             1.0  Living with no one      0                     0  ...   \n",
       "\n",
       "  other_description__non_city_based_ethnic_ paper__non_city_based_general_  \\\n",
       "0                                       NaN                            NaN   \n",
       "1                                       NaN                            NaN   \n",
       "2                                       NaN                             No   \n",
       "3                                       NaN                            NaN   \n",
       "4                                       NaN                            NaN   \n",
       "\n",
       "   tv_radio__non_city_based_general_ website__non_city_based_general_  \\\n",
       "0                                NaN                              NaN   \n",
       "1                                NaN                              NaN   \n",
       "2                                 No                               No   \n",
       "3                                NaN                              NaN   \n",
       "4                                NaN                              NaN   \n",
       "\n",
       "   social_networks__non_city_based_general_ people__non_city_based_general_  \\\n",
       "0                                       NaN                             NaN   \n",
       "1                                       NaN                             NaN   \n",
       "2                                        No                             Yes   \n",
       "3                                       NaN                             NaN   \n",
       "4                                       NaN                             NaN   \n",
       "\n",
       "   other__non_city_based_general_ other_description__non_city_based_general_  \\\n",
       "0                             NaN                                        NaN   \n",
       "1                             NaN                                        NaN   \n",
       "2                              No                                        NaN   \n",
       "3                             NaN                                        NaN   \n",
       "4                             NaN                                        NaN   \n",
       "\n",
       "  preferred_type concerns  \n",
       "0            NaN      NaN  \n",
       "1            NaN      NaN  \n",
       "2          email  traffic  \n",
       "3            NaN      NaN  \n",
       "4            NaN      NaN  \n",
       "\n",
       "[5 rows x 231 columns]"
      ]
     },
     "execution_count": 9,
     "metadata": {},
     "output_type": "execute_result"
    }
   ],
   "source": [
    "df.head()"
   ]
  },
  {
   "cell_type": "code",
   "execution_count": 10,
   "metadata": {
    "ExecuteTime": {
     "end_time": "2020-10-18T01:27:43.765014Z",
     "start_time": "2020-10-18T01:27:35.474201Z"
    }
   },
   "outputs": [
    {
     "name": "stdout",
     "output_type": "stream",
     "text": [
      "survey_id, age, gender, ethnicity, marital_status, education_completed, household_size, no_one, spouse, children, grand_children, parent, grandparent, brother_sister, other_relative, friends, other_, other_description, religion, religion_other, full_time_employment, part_time_employment, self_employed_full_time, self_employed_part_time, student, homemaker, disabled, unemployed, retired, other_employement, other_employment_description, occupation, occupation_other, income, achieving_ends_meet, us_born, duration_of_residency, primary_language, english_speaking, english_difficulties, familiarity_with_america, familiarity_with_ethnic_origin, identify_ethnically, belonging, discrimination_, present_health, present_mental_health, present_oral_health, hygiene_assistance, smoking, drinking, regular_exercise, healthy_diet, hypertension, heart_disease, stroke, diabetes, cancer, arthritis, hepatitis, kidney_problem, asthma, copd, physical_check_up, dentist_check_up, urgentcare, folkmedicine, primary_care, health_insurance, dental_insurance, unmet_health_need, unmet_dental_needs, transportation__medical_, interpretation__medical_, comunication_problem, preferance, language, users, satisfaction, family, close_friend, acquaintances, heal_professionals, mobile_apps, email, social_networks, online_communities, health_website, other, health_info_discription, quality_of_life, satisfied_with_life_1, satisfied_with_life_2, psychiatrist, general_practitioner, therapist_counselor_, religious_leader, weakness, shame, disappointment, disclosure, antidepressants, danger, recovery, treatment, counseling, preference, knowledge, diagnosed, concern_for_self__ad_, concern_for_others__ad_, prevention, plan__ad_, education__ad_, services__ad_, language_barrier__ad_, fate__ad_, aging__ad_, embarrassing__ad_, avoidance__ad_, cure__ad_, nursing_home__ad_, advanced_directives, have_an_advanced_directive, superstition, see_family, close_family, helpful_family, see_friends, close_friends, helpful_friends, family_respect, similar_values, successful_family, trust, loyalty, family_pride, expression, spend_time_together, feel_close_, togetherness, religious_attendance, religious_importance, close_knit_community, helpful_community, community_shares_values, get_along, community_trust, residency_, place_to_live, raising_children, place_to_work, small_businesses_, place_to_retire, arts_and_culture, safety, traffic, qualtiy_of_life, quality_of_service, parks_and_recs, libraries, public_safety, airport, austin_energy, court, social_services, aware_of_aarc, visit_frequency_, activities, ems_classes, fire_alarm, public_computer, library_internet_acess, literature, citizenship_class, small_business, english_classes, 9_1_1, 3_1_1, apd_languages_, district, housing_, housing__other_, status_of_ownership, status_of_ownership__other_, satisfaction_with_housing., nursing_home, smoke_detector, recycle, compost, public_transportation, bicycling, carpooling, personal_car, car_share, walking, other_transportation, other_transportation_description, access_to_a_computer, mobile_devices, home_phone, public_meeting, council_meeting, contact_city_official, city_election, focus_group, informed, city_effort_satisfaction, paper__city_based_, tv_radio__city_based_, website__city_based_, social_networks__city_based_, people__city_based_, other__city_based_, other_description__city_based_, paper__non_city_based_ethnic_, tv_radio__non_city_based_ethnic_, website__non_city_based_ethnic_, social_networks__non_city_based_ethnic_, people__non_city_based_ethnic_, other__non_city_based_ethnic_, other_description__non_city_based_ethnic_, paper__non_city_based_general_, tv_radio__non_city_based_general_, website__non_city_based_general_, social_networks__non_city_based_general_, people__non_city_based_general_, other__non_city_based_general_, other_description__non_city_based_general_, preferred_type, concerns, "
     ]
    }
   ],
   "source": [
    "_ = [print(column, end=', ') for column in df.columns]"
   ]
  },
  {
   "cell_type": "markdown",
   "metadata": {},
   "source": [
    "### Check for the Open-Ended Questions"
   ]
  },
  {
   "cell_type": "code",
   "execution_count": 11,
   "metadata": {
    "ExecuteTime": {
     "end_time": "2020-10-18T01:27:43.796284Z",
     "start_time": "2020-10-18T01:27:43.765014Z"
    }
   },
   "outputs": [
    {
     "data": {
      "text/plain": [
       "array([nan,  0.])"
      ]
     },
     "execution_count": 11,
     "metadata": {},
     "output_type": "execute_result"
    }
   ],
   "source": [
    "df.other_.unique()"
   ]
  },
  {
   "cell_type": "code",
   "execution_count": 12,
   "metadata": {
    "ExecuteTime": {
     "end_time": "2020-10-18T01:27:43.834029Z",
     "start_time": "2020-10-18T01:27:43.796284Z"
    },
    "scrolled": true
   },
   "outputs": [
    {
     "data": {
      "text/plain": [
       "array([nan, 'classmate', 'Dog', 'Girlfriend', 'roommate', 'boyfriend',\n",
       "       'Boyfriend', 'Domestic partner', 'Niece', 'Significant Other',\n",
       "       'Fiance', 'Parents sometimes', 'fiance', 'Grandchild on & off',\n",
       "       'In-laws', 'Son In Law', 'Cousins', 'Coworker', 'Brother-in-law',\n",
       "       'guidian', 'Grand Uncle', 'Partner', 'Mother-in-law', 'Other nuns',\n",
       "       'brother-in-law', 'Housemates (renting room in house)',\n",
       "       'girlfriend'], dtype=object)"
      ]
     },
     "execution_count": 12,
     "metadata": {},
     "output_type": "execute_result"
    }
   ],
   "source": [
    "df.other_description.unique()"
   ]
  },
  {
   "cell_type": "code",
   "execution_count": 13,
   "metadata": {
    "ExecuteTime": {
     "end_time": "2020-10-18T01:27:43.878382Z",
     "start_time": "2020-10-18T01:27:43.834029Z"
    }
   },
   "outputs": [
    {
     "data": {
      "text/plain": [
       "array([nan, 'daoist', 'and 6', 'Agnostic', 'not sure yet', 'Jain',\n",
       "       'Jainism', 'Christian Orthodox', 'Orthodox Christian', 'Christian',\n",
       "       'INC', 'Caodaism', 'Cao Dai', 'Catholic and Buddhist', 'Lutheran',\n",
       "       'Catholic, and Buddhism', 'Ancestors Veneration',\n",
       "       'worship ancestors', 'christian', 'Born again Christian', 'SDA',\n",
       "       'Pentecostal Christian', 'Bahai', 'Jewish', 'Shinto'], dtype=object)"
      ]
     },
     "execution_count": 13,
     "metadata": {},
     "output_type": "execute_result"
    }
   ],
   "source": [
    "df.religion_other.unique()"
   ]
  },
  {
   "cell_type": "code",
   "execution_count": 14,
   "metadata": {
    "ExecuteTime": {
     "end_time": "2020-10-18T01:27:43.899102Z",
     "start_time": "2020-10-18T01:27:43.881437Z"
    }
   },
   "outputs": [
    {
     "data": {
      "text/plain": [
       "array([nan,  0.])"
      ]
     },
     "execution_count": 14,
     "metadata": {},
     "output_type": "execute_result"
    }
   ],
   "source": [
    "df.other_employement.unique()"
   ]
  },
  {
   "cell_type": "code",
   "execution_count": 15,
   "metadata": {
    "ExecuteTime": {
     "end_time": "2020-10-18T01:27:43.933869Z",
     "start_time": "2020-10-18T01:27:43.899102Z"
    }
   },
   "outputs": [
    {
     "data": {
      "text/plain": [
       "array([nan, 'Other', 'other', 'parttime TA', 'visiting scholar',\n",
       "       'Part time Registered Nurse', 'volunteer', 'In-between jobs',\n",
       "       'Looking for a job', 'TA', 'temporary retirement', 'Volunteer',\n",
       "       'Seasonal employee', 'Contractor', 'Pastor'], dtype=object)"
      ]
     },
     "execution_count": 15,
     "metadata": {},
     "output_type": "execute_result"
    }
   ],
   "source": [
    "df.other_employment_description.unique()"
   ]
  },
  {
   "cell_type": "code",
   "execution_count": 16,
   "metadata": {
    "ExecuteTime": {
     "end_time": "2020-10-18T01:27:43.965114Z",
     "start_time": "2020-10-18T01:27:43.933869Z"
    }
   },
   "outputs": [
    {
     "data": {
      "text/plain": [
       "array([nan, 'IT', 'Surgical tech', 'Software Engineer',\n",
       "       'Graduate Research Assistant', 'other', 'Teacher', 'Cashier',\n",
       "       'engineering', 'Research Assistant',\n",
       "       'Research Assistant/ Teaching Assistant', 'TA', 'works at campus',\n",
       "       'resident assistant', 'Advertising', 'research assistant',\n",
       "       'Pastor', 'Engineer', 'Dental assistant', 'translator',\n",
       "       'University', 'teaching assistant', 'Teaching Assistant',\n",
       "       'Accountant', 'computer', 'Data Analyst', 'Computer', 'media',\n",
       "       'Other', 'software engineer', 'Farmer', 'Public Safety',\n",
       "       'scientific research', 'Children Minister at Church',\n",
       "       'Software architect', 'Government Job', 'Chef',\n",
       "       'IT software engineer', 'Pharmacy Tech', 'Data analyst',\n",
       "       'Coach Gymnastics', 'Food service', 'light and salt service',\n",
       "       'Consultant', '1&4', 'Electrical Engineer', 'Real estate',\n",
       "       'Information technology software Engineer', 'Idk',\n",
       "       'Research Scientist', 'IT Professional', 'Information technology',\n",
       "       'Software engineer', 'Warehouse Worker', 'Computer engineer',\n",
       "       'Software', 'Systems Analyst', 'Software Engineering',\n",
       "       'Hardware Engineer', 'Information Technology', 'Home',\n",
       "       'manages all household work', 'Systems Administrator',\n",
       "       'Software (IT)', 'House Wife', 'Student employee',\n",
       "       'Computer programmer', 'Analyst', 'Manufacturing engineer',\n",
       "       'Teaching assistant', 'Teaching assistant at UT',\n",
       "       'Software professional', 'Scholarship foundation (management)',\n",
       "       'PCB Board Inspector', 'cook', 'Warehouse', 'School Food Service',\n",
       "       'Grocery/corporation', 'Programmer', 'operator, manufacturer',\n",
       "       'Retired', 'Interior Design', 'media/design', 'Graphic Design',\n",
       "       'Construction manager', 'Graduate student', 'Volunteer',\n",
       "       'Computer Engineer', 'desginer', 'Post Doc Researcher',\n",
       "       'web developer', 'student', 'Game Industry', 'IT manager',\n",
       "       'Food market', 'Research assistant', 'Project cordinator',\n",
       "       'Research', 'Amway distributor', 'College Science Researcher',\n",
       "       'Manufacturing Industry', 'Cook', 'pastor',\n",
       "       'city employee-scheduler analyst', 'Assistant Pre-K Teacher',\n",
       "       'domestic help', 'office', 'teacher', 'Safety', 'Monk', '4,5',\n",
       "       'mentor/tutor/photographer', 'mentor', 'Student', 'unemployed',\n",
       "       'Tutor', 'Pharmacy Technician', 'Administrative',\n",
       "       'alteration &babysister', 'Construction project manager',\n",
       "       'School Worker', 'Nail', '1,3', 'RETIRED', 'Laundry Service',\n",
       "       'factory worker', 'Failure Analysis Technician',\n",
       "       'Career Navigator', 'Homemaker', 'Electronics Technician',\n",
       "       'Attendant', 'Farming', 'Production specialist', 'Cook Helper',\n",
       "       'Electronic + Computer', 'Prep cook (cook 1)', 'Patient Registrar',\n",
       "       'Intern', 'Call center', 'Journalist', 'Unemployed',\n",
       "       'Academic Mentor', 'Nanny', 'Food Service', 'Housewife',\n",
       "       'Coordinator for Study Abroad', 'church music minister',\n",
       "       'School staff', 'Disability examiner', 'Realtor',\n",
       "       'Home business helper', 'Designer/Producer',\n",
       "       'Health care industry', 'Tech', 'Lab tech', 'Logistics',\n",
       "       'manufacturing Section Lead', 'GIS Technician', 'Machine Operator',\n",
       "       'Ph. D Student', 'Hospitality', 'Government Administrative'],\n",
       "      dtype=object)"
      ]
     },
     "execution_count": 16,
     "metadata": {},
     "output_type": "execute_result"
    }
   ],
   "source": [
    "df.occupation_other.unique()"
   ]
  },
  {
   "cell_type": "code",
   "execution_count": 17,
   "metadata": {
    "ExecuteTime": {
     "end_time": "2020-10-18T01:27:43.980733Z",
     "start_time": "2020-10-18T01:27:43.965114Z"
    }
   },
   "outputs": [
    {
     "data": {
      "text/plain": [
       "array([nan,  0.,  1.])"
      ]
     },
     "execution_count": 17,
     "metadata": {},
     "output_type": "execute_result"
    }
   ],
   "source": [
    "df.other.unique()"
   ]
  },
  {
   "cell_type": "code",
   "execution_count": 18,
   "metadata": {
    "ExecuteTime": {
     "end_time": "2020-10-18T01:27:44.011991Z",
     "start_time": "2020-10-18T01:27:43.980733Z"
    }
   },
   "outputs": [
    {
     "data": {
      "text/plain": [
       "array([nan, 'TV Health program', 'courses', 'magazine/google', 'Yelp',\n",
       "       'at school', 'TV, Book', 'Light and Salt Association and AARC',\n",
       "       'University/School', 'HED329K / HED370',\n",
       "       'Taiwanese heath info TV program', 'none', 'CS439', 'Related news',\n",
       "       'church', 'insurance agent', 'myself', 'work', 'Google',\n",
       "       'magazine', 'Yelp, Health web',\n",
       "       'self, worked in the healthcare business',\n",
       "       'higher research education. I am at nurse practitioner',\n",
       "       'Internet, google', 'reading', 'workplace', 'Self', 'Internet',\n",
       "       'Office clinic', 'CDC, NIH-NLM', 'Neighbors', 'self',\n",
       "       'Dr. Oz show', 'zoc doc', 'through employment',\n",
       "       'Health & News XXX', 'word of mouth', 'Family Doctor',\n",
       "       'Co-workers', 'Work', 'mass media TV, newspaper', 'School',\n",
       "       'medical journals', 'books and radio', 'Korean Newspaper',\n",
       "       'google/personal research', 'newspaper, media', 'Army Base',\n",
       "       'Doctors in my country of origin', 'Television, Newspapers',\n",
       "       'Self-assessment', 'Insurance seller', 'Online', \"Don't know\",\n",
       "       'News', 'Books; learned from college', 'co-worker/trainings', 'Me',\n",
       "       'Health Coverage', 'From work', 'Professionally',\n",
       "       'Conference,literatures', 'google reviews, yelp'], dtype=object)"
      ]
     },
     "execution_count": 18,
     "metadata": {},
     "output_type": "execute_result"
    }
   ],
   "source": [
    "df.health_info_discription.unique()"
   ]
  },
  {
   "cell_type": "code",
   "execution_count": 19,
   "metadata": {
    "ExecuteTime": {
     "end_time": "2020-10-18T01:27:44.034163Z",
     "start_time": "2020-10-18T01:27:44.011991Z"
    }
   },
   "outputs": [
    {
     "data": {
      "text/plain": [
       "array([nan, 'Apartment/ Townhouse/ Condominium', 'One-family house', '5',\n",
       "       'Mobile house', 'Two-family house/ duplex', '6'], dtype=object)"
      ]
     },
     "execution_count": 19,
     "metadata": {},
     "output_type": "execute_result"
    }
   ],
   "source": [
    "df.housing_.unique()"
   ]
  },
  {
   "cell_type": "code",
   "execution_count": 20,
   "metadata": {
    "ExecuteTime": {
     "end_time": "2020-10-18T01:27:44.065413Z",
     "start_time": "2020-10-18T01:27:44.034163Z"
    }
   },
   "outputs": [
    {
     "data": {
      "text/plain": [
       "array([nan, \"children's home\", 'dorm at UT', 'Dorm', 'Apartment', 'dorm',\n",
       "       'apartment', 'dorms', 'residence hall', ']', 'Dormitory',\n",
       "       \"Friend's House\", 'Coop', 'Room', 'Mansion', \"Don't know\",\n",
       "       'Share a garage room', '4', 'duplex', 'Sharing', 'Up & down',\n",
       "       'trailer'], dtype=object)"
      ]
     },
     "execution_count": 20,
     "metadata": {},
     "output_type": "execute_result"
    }
   ],
   "source": [
    "df.housing__other_.unique()"
   ]
  },
  {
   "cell_type": "code",
   "execution_count": 21,
   "metadata": {
    "ExecuteTime": {
     "end_time": "2020-10-18T01:27:44.096643Z",
     "start_time": "2020-10-18T01:27:44.065413Z"
    }
   },
   "outputs": [
    {
     "data": {
      "text/plain": [
       "array([nan, \"Daughter's House\", \"Child's residence\", 'Parents` house',\n",
       "       \"In-laws' home\", 'Offspring`s House', \"Friend's House\",\n",
       "       \"Child's home\", 'Just live in it', \"Son's house\",\n",
       "       \"residing in son's home\", \"Child's House\", 'Live with family',\n",
       "       'Relative Housing', 'Public Housing', '3',\n",
       "       'Relatives owned the residence', '2',\n",
       "       \"Brother's house. They live in San Jose\", 'share', \"Son's home\",\n",
       "       'Sharing', 'rent w/ another family', 'Family owned',\n",
       "       'live with aunt', 'Live at home??', '??', 'Living w/ son-in-law',\n",
       "       'Parsonage', 'Paying Guest', 'Family', 'rent a room', 'apartment',\n",
       "       'dorm? Financial aid'], dtype=object)"
      ]
     },
     "execution_count": 21,
     "metadata": {},
     "output_type": "execute_result"
    }
   ],
   "source": [
    "df.status_of_ownership__other_.unique()"
   ]
  },
  {
   "cell_type": "code",
   "execution_count": 22,
   "metadata": {
    "ExecuteTime": {
     "end_time": "2020-10-18T01:27:44.112269Z",
     "start_time": "2020-10-18T01:27:44.096643Z"
    }
   },
   "outputs": [
    {
     "data": {
      "text/plain": [
       "array([nan,  0.,  1.])"
      ]
     },
     "execution_count": 22,
     "metadata": {},
     "output_type": "execute_result"
    }
   ],
   "source": [
    "df.other_transportation.unique()"
   ]
  },
  {
   "cell_type": "code",
   "execution_count": 23,
   "metadata": {
    "ExecuteTime": {
     "end_time": "2020-10-18T01:27:44.150035Z",
     "start_time": "2020-10-18T01:27:44.112269Z"
    }
   },
   "outputs": [
    {
     "data": {
      "text/plain": [
       "array([nan, 'Skateboarding', 'bus'], dtype=object)"
      ]
     },
     "execution_count": 23,
     "metadata": {},
     "output_type": "execute_result"
    }
   ],
   "source": [
    "df.other_transportation_description.unique()"
   ]
  },
  {
   "cell_type": "code",
   "execution_count": 24,
   "metadata": {
    "ExecuteTime": {
     "end_time": "2020-10-18T01:27:44.196910Z",
     "start_time": "2020-10-18T01:27:44.150035Z"
    },
    "scrolled": false
   },
   "outputs": [
    {
     "data": {
      "text/plain": [
       "array([nan, 'email', 'TV, News', 'Wechat, chinese newspaper', 'internet',\n",
       "       'Social networking', 'Internet', 'social network',\n",
       "       'Chinese website', 'Chinese', 'facebook', 'Phone', 'Email',\n",
       "       'TV, Website', 'FB, TV', 'chinese organizations', 'phone call',\n",
       "       'flyers, social media, teach-in activities',\n",
       "       'internet, mobile apps, internet', 'people', 'Website',\n",
       "       'government website', 'social media', 'website',\n",
       "       'internet, newspaper', 'internet and social network',\n",
       "       'flyers/handbooks', 'intenet', 'news', 'text message',\n",
       "       'Wechat, LINE', 'Internet, email', 'message, internet',\n",
       "       'TV/ Website', 'no', 'internet and newspaper', 'mobile phone',\n",
       "       'information brought home by children', 'Social Media/ Newsletter',\n",
       "       'email, web, TV', 'Wechat (a messeging software...)',\n",
       "       'internet, TV', 'Social Media', 'Newspaper, internet',\n",
       "       'facebook, Pinterest', 'weibo, wechat', 'TV',\n",
       "       'newspaper, internet', 'SNS', 'personnel', 'telephone', 'phone',\n",
       "       'facebook, twitter', 'email or public media', 'webbased',\n",
       "       'Facebook', 'None', 'network', 'SNS, People', 'website, TV/Radio',\n",
       "       'Internet, Email', 'TV/radio', 'social networking and meet ups',\n",
       "       'email, university teach-ins', 'not necessary', 'newspaper',\n",
       "       'email/newspaper/website', 'Radio, websites',\n",
       "       'SNS/ Twitter/ Facebook', 'Facebook; weibo; line; wechat', 'AARC',\n",
       "       'Website; email', 'mail, email, internet',\n",
       "       'internet, TV, brochure', 'news, weather', 'internet, wechat',\n",
       "       'internet, TV, newspaper', 'newspaper/network', 'Email, text',\n",
       "       'newspaper and magazine', 'website, social network',\n",
       "       'Internet, nwespaer', 'website, email', 'Website, News',\n",
       "       'Email/ Phone Call/ Text',\n",
       "       'Chinese newspaper and magazine in Supermarkets',\n",
       "       'Mails/ Impact newspaper/ Radio (NPR)', 'newspaper, TV', 'no need',\n",
       "       'email, website', 'news channel', 'internet, app',\n",
       "       'chinese ethnic organizations', 'newspaper,', 'website or email',\n",
       "       'Email, internet', 'Internet articles', 'ATXN', 'TV, Internet',\n",
       "       'Newspaper', 'Line', 'Newsletter/ Radio',\n",
       "       'local chinese newspaper/magazine (e.g. Austin Capital News); Impact',\n",
       "       'Social network', 'socail network', 'email, sns',\n",
       "       'newspaper, radio', 'Internet, TV', 'Website/news',\n",
       "       'internet, mobile app', 'email, wechat', 'web', 'Tv & Internet',\n",
       "       'SMS message', 'email, websites, and Facebook',\n",
       "       'Website, Newspaper', 'library', 'Newpaper, Newsletter, magazine',\n",
       "       'Online/ Email', 'mail', 'Internet&TV', 'Online', 'email is fine',\n",
       "       'wechat, internet', 'weibo', 'Email; Facebook', 'TV & Website',\n",
       "       'TV news', 'Statesman', 'Web', 'Radio',\n",
       "       'website, newspaper, radio, TV', 'email, internet',\n",
       "       'internet/newsletter', 'na', 'twitter, TV, Radio',\n",
       "       'internet, social network', 'Social Media, radio',\n",
       "       'TV, internet, newspaper, wechat', 'chinese newspaper',\n",
       "       'Line, wechat (social networking sites)', 'Website/ Newsletter',\n",
       "       'Next door', 'Local Neighborhood Newspaper', 'TV, internet',\n",
       "       'Wechat', 'radio, community newspaper', 'wechat', 'Email/ Website',\n",
       "       'chinese newspaper, TV, Computer and internet', 'Newspaper, email',\n",
       "       'phone app', 'facebook, wechat', 'Chinese magazine', 'online',\n",
       "       'website or SNS', 'internet, email', 'Website/ Email',\n",
       "       'Social media, online news', 'news on tv or social media',\n",
       "       'tv, internet', 'News/TV', 'TV News or online news', 'TV News',\n",
       "       'Internet/email', 'email, local news media',\n",
       "       'email via asian organizations', 'news or web', 'TV/ Radio',\n",
       "       'Email; web; radio', 'facebook/email', 'TV, Radio',\n",
       "       'radio, internet', 'Website, Mail', 'TV, Radio, Website, Library',\n",
       "       'website, online', 'Facebook&Line', 'Chinese Newspaper',\n",
       "       'email, newsletter', 'Newsletter, Web',\n",
       "       'TV, internet and newspaper', 'none', 'Flyer/email',\n",
       "       'TV/ Internet', 'Newspaper/ TV', 'social media, political culture',\n",
       "       'Weibo', 'TV, newspaper', 'FB', 'TV broadcast',\n",
       "       'Chinese newspaper', 'Newspaper, Website, SNS',\n",
       "       'local organization, TV and Internet', 'website and newsletter',\n",
       "       'TV, email', 'Internet, Magazine', 'Gov Website',\n",
       "       'recreational activity', 'Website, Facebook', 'TV and Facebook',\n",
       "       'TV, facebook', 'E-news, Nextdoor', 'internet and radio',\n",
       "       'TV, newspaper, email', 'Telephone', 'email/website',\n",
       "       'social networking and website', 'TV/Facebook', 'Newspapers',\n",
       "       'Facebook, Radio', 'Mail, TV', 'Mail, TV, Newspaper',\n",
       "       'Website, Alert', 'emails', 'Mail', 'Phone, mail', 'Radio Station',\n",
       "       'newsletter', 'G-mail', 'Social media and radio',\n",
       "       'Internet, media', 'emails, e-newsletters, website',\n",
       "       'rajitha.kirankumar@gmail.com', 'Newspaper and website',\n",
       "       'Social Networking', 'internet and website', 'website and email',\n",
       "       'Social network, online news',\n",
       "       'social networking service, website', 'online and website',\n",
       "       'Social Network Service', 'TV/Radio, hordings, oral communcation',\n",
       "       'social networking; website', 'Websites',\n",
       "       'Social networking, TV, and Newspaper', 'English',\n",
       "       'Website and SNS', 'Website, social networking site (FB)',\n",
       "       'Mail/Social Media', 'People', 'Public Transportation',\n",
       "       'Text msg, email', 'Email, newsletters, web', 'Website, mail',\n",
       "       'mail by post', 'Radio, TV', 'Google', 'SNS, Website, Gathering',\n",
       "       'Email; SNS', 'Email, sns', 'Internet (website)', 'Mobile',\n",
       "       'Radio/TV', 'Internet, FB, Twitter', 'acquaintances',\n",
       "       'Email, website', 'email and online', 'Newsletter and email',\n",
       "       'SNS, TV', 'Radio, SNS', 'Internet, Facebook', 'Website, Phone',\n",
       "       'Text, Email', 'Website or Internet', 'FM Radio',\n",
       "       'Email and Facebook', 'klebaili and TV', 'TV/Radio station',\n",
       "       'Newsletters/Magazines', 'Facebook, SNS, and Email',\n",
       "       'Email, social networking', 'Newspaper & websites', 'Car',\n",
       "       'Online website, internet', 'website and social media',\n",
       "       'Facebook, Twitter, phone', 'web and email', 'Website/newsletter',\n",
       "       'TV through cable', 'Newsletter', 'Email, social network', 'Paper',\n",
       "       'email, radio', 'Email, Website', 'TV/radio & Website',\n",
       "       'Facebook, email', 'Website/online', 'English online',\n",
       "       'Radio/News Channel KXAN', 'Newspaper, TV/Radio station',\n",
       "       'TV, radio', 'Social networking (Facebook, twitter)',\n",
       "       'Website, email', 'Television', 'tupu_patel@gmail.com',\n",
       "       'internet, website, and social media',\n",
       "       'Website, email, and phone.', 'Phone or email', 'TV/Radio',\n",
       "       'Social networking service', 'Website, People', 'Webiste',\n",
       "       'English spoken', 'Facebook, TV, radio', 'Social network/mail',\n",
       "       'Best City Austin', 'SNS, Email', 'Public Broadcast, TV/Radio',\n",
       "       'Mail (magazine)', 'SNS; TV/radio; Facebook',\n",
       "       'Website, Newsletter', 'Website and Social Networking sites',\n",
       "       'Social networking site', 'Email; news', 'Website online',\n",
       "       'Broadcasting', 'NPR', 'Website and sns', 'Newsletter, TV, Radio',\n",
       "       'TV, Newspaper, website', 'Newspaper, TV, Website', 'KUT',\n",
       "       'Website; SNS', 'APP', 'radio and signboards', 'Online Newsletter',\n",
       "       'Website. Newspaper', 'Cellphone', 'Email, telephone',\n",
       "       'Magazine Impact & Focus Points', 'internet and email',\n",
       "       'Walk-in/phone', 'TV, website',\n",
       "       'Public notices in newspaper articles and news/reminders on phones',\n",
       "       'News', 'Social networking/friends', 'Newspaper, TV, website,',\n",
       "       'News Channel', 'TV or Newspaper', 'Regular mail',\n",
       "       'Radio, Website, Email', 'TV/Internet', 'TV, SNS',\n",
       "       'Media & Internet', 'Goggle News', 'network, emails', 'Radio/News',\n",
       "       'People, Family, Newsletter', 'Newsletter, people',\n",
       "       'Facebook and Email', 'Website, next door, news station',\n",
       "       'radio or TV', 'Radio, Television',\n",
       "       'Newspaper, newsletter, people', 'Newspaper and TV',\n",
       "       'Email, newspaper', 'Radio, TV, newspaper', 'Email/newsletter',\n",
       "       'School', 'N/a', 'newspaper or website',\n",
       "       'Mobile phone - social network',\n",
       "       'newsletter, newspaper, and magazine', 'School, TV',\n",
       "       'mobile internet & email', 'Email, or mail', 'radio', 'E-mail',\n",
       "       'SMS', 'newspaper & internet', 'People around me.',\n",
       "       'korean newspaper', 'text', 'tv', 'internet website',\n",
       "       'townpaper, TV', 'News paper', 'No interest',\n",
       "       'Internet, Newspaper',\n",
       "       'newspaper, informational news letter, magazine & TV',\n",
       "       'Smart phone app', 'Post mail',\n",
       "       'Email and local newspaper (\"Impact\").', 'SNS & website',\n",
       "       'Email/TV', 'newspaper/newsletter/magazine', 'Newpaper',\n",
       "       'Email, SNS', 'twitter; google', 'Online news', 'flyer & website',\n",
       "       'sns, newsletter', 'internet or acquaintances', 'email; website',\n",
       "       'Newspapers/ Flyer is enough', 'computer', 'Newpaper, website',\n",
       "       'SNS, people', 'internet and facebook',\n",
       "       'Newspaper, Korean website', 'Email and website.', 'Event',\n",
       "       'Newspaper, Website', 'Korean Informationals', 'Newspaper, Radio',\n",
       "       'email & SNS', 'Newsletters, Radio', 'TV/radio/mail',\n",
       "       'close friends + family', 'Internet news', 'city newsletter',\n",
       "       'Face book', 'From Friends and Family', 'radio station',\n",
       "       'Newspaper, Magazine', 'Korean News paper', 'radio & website',\n",
       "       'City of Austin website and social networking', 'email & news',\n",
       "       'newspaper, tv & SNS', 'Computer or internet', 'TV news and email',\n",
       "       'People (Husband)', 'TV & internet', 'email and korean newsletter',\n",
       "       'newspaper, tv, korean community', 'Korean neighbors',\n",
       "       'Internet website', 'newspaper, website', 'Newspaper and website.',\n",
       "       'newspaper & TV', 'email. radio, ad', 'TV or Website or people',\n",
       "       'news and web search', 'facebook & twitter',\n",
       "       'Channel 8 News (YNN), community impact newsletter KUT', 'media',\n",
       "       'Radio, TV, Newspaper, Magazine', 'Internet/website',\n",
       "       'Website (mobile)', 'Korean Newspaper', 'city website',\n",
       "       'social networking', 'radio, SNS, postcard', 'Facebook, News',\n",
       "       'Through Korean Committee', 'Internet, Radio', 'online news',\n",
       "       'online-sns', 'Newspaper and internet websites.',\n",
       "       'TV and newspaper.', 'magazine', 'ethnic newspaper',\n",
       "       'people/friends', 'website, twitter', 'Good neighborhood',\n",
       "       'Newspaper, TV', 'Email; website', 'Police and TV',\n",
       "       'Information handed out at the Korean Grocery Store',\n",
       "       'Korean People', 'TV and News', 'newspaper, tv & korean newspaper',\n",
       "       'Newspaper, Church, friends', 'From next door', 'TV, Newspaper',\n",
       "       'Newspapers, magazines, bulletins', 'Youth newspapers', 'TV, Web',\n",
       "       'TV, Website, Email', 'Website, TV', 'newspaper, magazine',\n",
       "       'Vietnamese community', 'Newspaper, Radio, Film',\n",
       "       'International student', 'Vietnamese Community', 'Social Network',\n",
       "       'Traffic', 'Social media', 'Newspapers, Social Networks',\n",
       "       'Television, newspapers', 'TV, or from childern',\n",
       "       'SNS, Newspaper, Radio, TV', 'School newspaper', 'Twitter',\n",
       "       'Newspaper, News', 'Nextdoor', 'Mailbox', 'Television, Websites',\n",
       "       'People around', 'Television, Radio, Website', 'acquaintance',\n",
       "       'TV/ radio station', 'TV, Radio, News', 'Television, Radio VN',\n",
       "       'Website, SNS', 'facebook and email', 'Phone call',\n",
       "       'TV, co-workers, friends', 'Vietnamese in Austin', 'Wbsite',\n",
       "       'Newspaper, magazine, TV, Radio', 'Intenet', 'Facebook, Website',\n",
       "       'Mail, Website', 'Facebook. Newspapers', 'Website & newspaper',\n",
       "       'Newspaper, SNS', 'Facebook, Social Apps', 'Newspapers/Bulletin',\n",
       "       'SNS, TV/Radio, Website', 'TV ad', 'Email/website',\n",
       "       'Television, Website', 'Email, News', 'Newspaper/ letters',\n",
       "       'Update Information and Report on newspapers such as Youth Newspaper',\n",
       "       'Website, Email', 'Mail or email', 'Do not know how to use',\n",
       "       'Television, Radio', 'TELEVISION', 'Mobile Phone',\n",
       "       'TV, Radio, Newsletter', 'Email, Newsletter', 'TV/Radio/Newspaper',\n",
       "       'Email/internet', 'NPR, Public Radio', 'Austin', 'Magazines',\n",
       "       'the citizens/people', 'Twitter, Facebook, TV', 'Local News',\n",
       "       'Word of Mouth, Online, Social Media', 'Friends',\n",
       "       'Radio, Social media', 'TV/Website', 'Newspaper, Radio, Website',\n",
       "       'Television, Internet', 'Websites, Email', 'TV, News, SNS',\n",
       "       'website, newspaper', \"City Council's Staff\", 'Email/Radio',\n",
       "       'Citizenship application', 'Newspaper, TV, Websitr', 'Letter',\n",
       "       'Newspaper, TV, Radio, Website',\n",
       "       'Local TV News, KXAN, KEYE, 6&10pm News', 'Text or Email',\n",
       "       'Bullentin, Newspaper', 'TV, Radio, website', 'Local TV News',\n",
       "       'Sports + Music', 'Newsletters', 'Television news',\n",
       "       'Website or phone', 'Mass Media (Tv, Radio)',\n",
       "       'Newspaper and internet', 'EMAIL',\n",
       "       'Cell phone, social media, city website, 360Austin.com',\n",
       "       'Social media, friends', 'Free Newspaper',\n",
       "       'Scial network, internet', 'Email/Newspaper',\n",
       "       'TV/Radio/Networking', 'English, Mandarin Chinese',\n",
       "       'Newspaper of Facebook', 'Twitter, facebook', 'TV, news',\n",
       "       'TV; website', 'News; TV', 'Phone/ social media',\n",
       "       'Websites; newspapers; social media', 'TV, newspaper, people',\n",
       "       'my address', 'newspaper/online', 'Internet; Social media',\n",
       "       'newspaper,magazine', 'Website; newspaper', 'Text/Email', 'AFSA',\n",
       "       'Internet and web based communication',\n",
       "       'Website, people, newsletter', 'Filipino Austin', 'Website; text',\n",
       "       'Website; email; FB', 'email; facebook',\n",
       "       'Balita (Tagalog Newspaper)', 'TV; Newspaper',\n",
       "       'Newspaper; Newsletter', 'web, internet', 'Facebook, TV',\n",
       "       'TV; newspaper', 'Newspaper; website', 'Internet; social media',\n",
       "       'Website and news', 'TV; Facebook', 'Flyers', 'Website; internet',\n",
       "       'Website; news', 'Social network/internet', 'Website (email)',\n",
       "       'English/newspaper/tv', 'Phone call; tv', 'Parks, trails',\n",
       "       'Radio & SNS', 'Email, twitter, facebook', 'Email or TV',\n",
       "       'Phone, Email', 'Art', 'City Website', 'Cable TV',\n",
       "       'Social Networking (Facebook)', 'Newsletter and website',\n",
       "       'TV/radio station', 'Mail or Emails', 'social networking services',\n",
       "       'App, Email, and Website', 'SSN', 'Word of Mouth',\n",
       "       'SNS, Website, people', 'education', 'english', 'email, wesbsite',\n",
       "       'Newspaper/newsletter/magazine, social networking',\n",
       "       'email, SNS, website', 'letter', 'Websites, SNS',\n",
       "       'website, mobile phone', 'TV/ Newspapeer', 'Website/TV',\n",
       "       'web, mobile, email, etc.', 'Telephone, Email',\n",
       "       'KXAN Website, TV, Internet', 'newsletters',\n",
       "       'Social networking/email', 'website and TV', 'English Language',\n",
       "       'email; text'], dtype=object)"
      ]
     },
     "execution_count": 24,
     "metadata": {},
     "output_type": "execute_result"
    }
   ],
   "source": [
    "df.preferred_type.unique()"
   ]
  },
  {
   "cell_type": "code",
   "execution_count": 25,
   "metadata": {
    "ExecuteTime": {
     "end_time": "2020-10-18T01:27:44.234679Z",
     "start_time": "2020-10-18T01:27:44.196910Z"
    },
    "scrolled": false
   },
   "outputs": [
    {
     "data": {
      "text/plain": [
       "array([nan, 'traffic', 'Traffic, Trees',\n",
       "       'Please improve public transportation, bus services, and provide senior housing.',\n",
       "       'Traffic jam', 'none', 'Traffic problems, overpopulation',\n",
       "       'more benefit for senior', 'speedup services like building permit',\n",
       "       'tax too high', 'Public Safety, Water Supply', 'Traffic', 'no',\n",
       "       'More Public Transportation & direct flight',\n",
       "       'traffic is bad during rushhour',\n",
       "       'Public Transportation, traffic problem', 'improve traffic system',\n",
       "       'Street lights are always off/ broken', 'Good Job!',\n",
       "       'more public transportation option, more metropolitan parks',\n",
       "       'improve public transportation system',\n",
       "       'inconvenient public trans, waiting time is too long', 'Water',\n",
       "       'Solid waste disposal service is way too expensive; should have been based on need, i.e. I do not have much trash as others.  I should pay less.  The same service is charged by different item fees.  Re',\n",
       "       'improve highway infrastructure', 'solve the traffic problem',\n",
       "       'driving test has chinese version', 'Safety',\n",
       "       'Pay more attention to the physical and emotional health of the elderlies',\n",
       "       'city transportation grid', 'expansion of highway/traffic problem',\n",
       "       'Austin has too much homeless',\n",
       "       'Safer busses and better transportation.',\n",
       "       'Create asian organizations for differing functions',\n",
       "       'I would like more Asian markets and restaurants near the University.',\n",
       "       'safety and traffic', 'Traffic problems, infrastructure',\n",
       "       'more public transportation',\n",
       "       'service aiding people with heatstroke',\n",
       "       'improve public transportation', 'more internationalization',\n",
       "       'more public transportation service', 'Austin is a very nice city',\n",
       "       'Traffic, drug',\n",
       "       'Traffic is not very good.  Airport is too small.',\n",
       "       'why the survey is so long', 'no advice', 'homeless and drug',\n",
       "       'Public transport has to be improved. Suggest to build subway (public metro)',\n",
       "       'Drought/ Public safety', 'safety', 'None',\n",
       "       'public transportation need upgrade, lower the medical cost',\n",
       "       'traffic problem is getting slightly worse', 'hot weather',\n",
       "       'driving license test should have chinese version', 'newspaper',\n",
       "       'enhance security in downtown area',\n",
       "       'Public transportaion problem, Mopac too busy',\n",
       "       'drainage system should be improved, especially in rainy days',\n",
       "       'traffics horrible',\n",
       "       'Traffic and city infrastructure as more people are moving in.',\n",
       "       'improve the public transportation system',\n",
       "       'program to help with heatstroke during summer',\n",
       "       'Traffic is really bad now',\n",
       "       'every information center has chinese service',\n",
       "       'Traffic/ Housing Pricing', 'traffic problem, pithole on roads',\n",
       "       'traffic problem', 'Crime Rate',\n",
       "       'strengthen environmental education',\n",
       "       'want to meet more American friends',\n",
       "       'about medical insurance, in-patient service and emergency medical service (because I am not working)',\n",
       "       'City electricity management is a little unclear at times, especially with the changes',\n",
       "       'highway infrastuture construction',\n",
       "       'More biking lane and public transportation',\n",
       "       'should promote and plan for utility conservation, such as regulating air conditioner temperature in public buildings',\n",
       "       'High water rate.', 'traffics, increasing rent', 'No',\n",
       "       'traffic congestion problem',\n",
       "       'Please provide psychologist/psychiatrist who can speak Chinese.',\n",
       "       'Looking for more indoor facilities for kids to hang out.',\n",
       "       'Transportation sucks! please consider building public transportation systems!',\n",
       "       'infrastructure needs for growing population', 'Traffic, water',\n",
       "       'Public Transportation',\n",
       "       'That public transportation (cap metro) has nothing to do with providing a public service',\n",
       "       'preserve our preserve', 'Traffic is horrible!',\n",
       "       'Chinese version of city-related information', 'Traffic problems',\n",
       "       'city is growing, need a highway to expand the roads',\n",
       "       'Rent increase too rapidly', 'Traffic, Construction',\n",
       "       'Please improve traffic jam (esp. 35)', 'Road Conditions',\n",
       "       'traffic problem, public facility for leisure',\n",
       "       'Traffic on I-35 and TX-1', 'shuttle or bus to RR outlet',\n",
       "       'parking', 'public transportation', 'Traffic; speeding.',\n",
       "       'there is not senior day care center equipped with Chinese speakers..',\n",
       "       'build more senior housing community',\n",
       "       'better control of traffic light on Anderson Mill near 183', 'Web',\n",
       "       'Traffic and increase of rent.', 'improve the traffic',\n",
       "       'I35, 183 and Mopac need some upgrade', 'na',\n",
       "       'be considerate to alien residents', 'Traffic is getting bad',\n",
       "       'downtown and UT parking problem', 'Trail Maintanance',\n",
       "       'More involvement in community activity',\n",
       "       'senior benefits, chinese gov service', 'Yes',\n",
       "       \"AARC's service on elderly people is great. Please provide educational programs on Alzheimer's disease.\",\n",
       "       '(required to talk to city official face-to-face)',\n",
       "       \"We have difficulty to see a doctor (didn't specify what problem it was)\",\n",
       "       'chinese service from gov agents',\n",
       "       'rapid gentrification at the expense of culture, over population',\n",
       "       'provide city information in regard to asian americans in ethnic source newspaper',\n",
       "       'Housing affordability',\n",
       "       'Are there enough funds to keep social services open- libraries, parks, etc',\n",
       "       'Want to get more information about educational system',\n",
       "       'Want more parks and libraries.', \"Don't drink and drive\",\n",
       "       'free public transportation',\n",
       "       'traffic and better public transportation',\n",
       "       'solve the increasing bad traffic problem',\n",
       "       'Please improve the heavy traffic jam on I-35',\n",
       "       'worsened traffic, safety, and skyrocketing housing prices',\n",
       "       'violence, traffic, pollution',\n",
       "       'Drought and infrastructuring, Rapidly growing population',\n",
       "       'improve traffic problem',\n",
       "       'Better health and dental insurance for self-employed people.',\n",
       "       'More language resources in Asian languages.',\n",
       "       'ignore asians in many department while favoring non-asian minorities/discrimination with asian minority',\n",
       "       'High property tax',\n",
       "       'The road is too small for the recent heavy traffic',\n",
       "       'more public park',\n",
       "       'The bad traffic during rush hour and possibility of allowing guns on UT campus.',\n",
       "       'improve car traffic, more libraries, more museums and more kid-friendly park',\n",
       "       'Traffic, traffic, traffic and construction constantly.',\n",
       "       'more chinese organization',\n",
       "       'Drought and over growth of the city, need infrastructure/traffic',\n",
       "       'traffic and escalating prices',\n",
       "       'Please improve the traffic jam on I-35',\n",
       "       'want public email box to collect our suggestion, idea.',\n",
       "       'public school quality, housing affordability',\n",
       "       'Please provide more help on homeless people.', 'Housing Price',\n",
       "       'traffic and need better public transportation',\n",
       "       'The rapid growth of the city and the inability to keep with that growth',\n",
       "       'Traffic, More toll roads are built instead of free roads',\n",
       "       'reducing property tax, home pay income tax; traffic',\n",
       "       'concealed weapon law on campus',\n",
       "       'Please provide more health care service on elderly.',\n",
       "       'public transportation and road improvement', 'Traffic, Safety',\n",
       "       'I love Austin',\n",
       "       'high property tax, traffic problem, criminal issues',\n",
       "       'Property tax', 'Favortism for the rich and connected people.',\n",
       "       'traffic, cost of living', 'Traffic, Rising population',\n",
       "       'why the 311 line doe not work after the city of Austin changed the area code?',\n",
       "       'Property tax rates, traffic', 'more benefit for the retired',\n",
       "       'transportation', 'entertainment',\n",
       "       'reduce property tax and utility fee by allowing competition',\n",
       "       'more city-sponsored activities for the senior',\n",
       "       'more senior housing', 'Provide convenient Transportation System',\n",
       "       'The influx of out-of-state residents causing a surge in traffic and increased housing costs',\n",
       "       'increasing polulation',\n",
       "       'trafic problem, attention to residents in suburban area',\n",
       "       'traffic and traffic safetu', 'Improve air quaility',\n",
       "       'Traffic and public safety, schoole education',\n",
       "       'engagement of the community', 'public library', 'Californians',\n",
       "       'provide more public issues for discussion',\n",
       "       'Control Budget and Spending', 'housing, traffic',\n",
       "       'traffic problem, housing price rising too fast', 'park, traffic',\n",
       "       'Public Dental Servises',\n",
       "       'Public Transportation e.g. More bus stops',\n",
       "       'allow group or individual to use public park freely',\n",
       "       'Traffic, Growing population, Downtown parking',\n",
       "       'Continuous rising cost of services: street, recycle, etc.',\n",
       "       'terrible traffic',\n",
       "       'Please make plans on the traffic condition in Austin in response to the population growth in future.',\n",
       "       'Give us freedom',\n",
       "       'Please provide more open public service options (e.g. water, electricity, trash services) so that people can have options.',\n",
       "       'More bus routes', 'Allergy', 'Keep city clean and traffic',\n",
       "       'Not any at this time', 'More music', 'Too soon to regconize',\n",
       "       'Security',\n",
       "       'I realize I am not aware of the many facilities Austin has to offer; Lack of knowledge about Austin',\n",
       "       'Nothing', 'security for people', 'No concerns', 'More IT jobs',\n",
       "       'high water and electricity charges',\n",
       "       'Austin is very environment friendly compared to most cities, but maybe we can improve it more!!!',\n",
       "       'Only concern is traffic on roads.', 'traffic is very bad on I35',\n",
       "       'Hot', 'Portable drinking water',\n",
       "       'Traffic, and take care of parks and recreation',\n",
       "       \"It's good to live here.\", 'Expensive cost of living.', 'None yet',\n",
       "       'Transport facility', 'Healthcare Service',\n",
       "       'Public Transporation, Downtown Route', 'cleanliness of city',\n",
       "       'Apartments are very expensive.', 'I find medical not good enough',\n",
       "       'It should be more clean and safe',\n",
       "       'Cleanliness in trash area; mosquitoes, flies, bugs',\n",
       "       'Traffic, Living Expense, Wage', 'Garbage maintenance in',\n",
       "       'Concealed carry of gun', 'Not much',\n",
       "       'Traffic needs to be manage by both pro plan',\n",
       "       'costly rent and homelessness',\n",
       "       'Public parks and parking should be improved', 'Medical Facility',\n",
       "       'TV', 'Sky rocketing water bills; lack of public transportation',\n",
       "       'Safety and Traffic', 'Bad public transportation and bad highways',\n",
       "       'Public Transportation should be more better.',\n",
       "       'Needs some theme parks; children/family related places',\n",
       "       'Not at all for now', 'Traffic, Austin drivers, and roads.',\n",
       "       'traffic on I-35', 'Not at all', 'Traffic on 360',\n",
       "       'High power bill', 'Traffic/need a public transport',\n",
       "       'Poor traffic; no lights in street.', 'Recycling Fee',\n",
       "       'water and sewage bill', 'Nothing Major',\n",
       "       'too too many fake calls through VOIP, creating fear & panicking people',\n",
       "       'Poor public transport, congested I-35 and Mopac',\n",
       "       'Increasing traffic and home rent',\n",
       "       'establish more beautiful places', 'Too Hot',\n",
       "       'House price inflation is more; there is no salary growth',\n",
       "       'Not many highways; expensive',\n",
       "       'Medical appointments and treatment right way',\n",
       "       'population growth', 'traffic and employment opportunities',\n",
       "       'Allergies',\n",
       "       'Nothing so far. The commute to UT Austin in the morning is very tough due to traffic.',\n",
       "       'traffic is worst', 'Traffic, fewer options for public transport',\n",
       "       'Traffic, get it right', 'Increasing traffic conditions',\n",
       "       'Traffic and more parks for kids.',\n",
       "       'If possible, there should not be any homelessness in Austin.',\n",
       "       'Nope', 'Transportation for seniors',\n",
       "       'salary increase and inflation',\n",
       "       'Traffic; No Toddler Playground in Barton Creek Mall',\n",
       "       'the mock shooting coming up, not okay', 'Traffic is the worst',\n",
       "       'Safety for Asains',\n",
       "       'Health insurance is expensive; events in Ausitn are not advertised',\n",
       "       'Austin Energy rates are high.',\n",
       "       'Street Safety on Guadalupe at night', 'Housing Rental Rate',\n",
       "       'Increasing traffic', 'Sweet city', 'costly rent',\n",
       "       'Allergy, Public Transportation', 'traffic and road conditions',\n",
       "       'traffic and roads', 'Medical facilities', 'Traffic, congestion',\n",
       "       'leasing for a period of time and their conditions',\n",
       "       'Airport needs to develop',\n",
       "       'safety in west campus/omeless population',\n",
       "       'traffic and lack of public transportation services',\n",
       "       'Power Problem ( sometime it goes out without notice).',\n",
       "       'Traffic on Mopac',\n",
       "       'Not many international flights from Austin airport',\n",
       "       'Traffic, public transport, housing', 'Traffic,health care cost',\n",
       "       'Healthcare cost, traffic', 'Rising crime and traffic',\n",
       "       'water, electricity, traffic', 'Not right now', 'downtown traffic',\n",
       "       'Traffic and crime', 'Traffic is very bad.',\n",
       "       'Traffic and crowding',\n",
       "       'Heavy traffic, traffic, traffic all the way',\n",
       "       'Proud to be Austin resident. Austin is a good place to live in.',\n",
       "       'transportation is bad; rent for apartments have to come down, also electricity bills',\n",
       "       'public safety, crime rate, increased traffic congestion',\n",
       "       'Austin traffic and the cedar trees.',\n",
       "       'Heat; water bill; electricity bill',\n",
       "       'The allergies most people are suffering from',\n",
       "       'traffic and commute like Bus Service',\n",
       "       'needs improvement in school and standard of education',\n",
       "       \"Traffic and don't spend 30 million dollars on building new bike lanes\",\n",
       "       'Traffic, Petty Crime', 'Taxing on housing is very high',\n",
       "       'Increase in rent and traffic',\n",
       "       'Cost of living getting expensive.', 'Public transportation',\n",
       "       'Affordable housing for the poor', 'Traffic problem',\n",
       "       'Public Transport, Traffic',\n",
       "       'getting expensive to live in Austin/Travis County',\n",
       "       'There is a need to improve public transportation system',\n",
       "       'Traffic and increasing crime',\n",
       "       'Traffic patterns, growing population', 'rough drivers',\n",
       "       'need more representation', 'Traffic on 360 and Loop 1',\n",
       "       'Traffic, services', 'Traffic, Public Transportation',\n",
       "       'Traffic congestion', 'Housing prices, Minimum wages',\n",
       "       'Water supply and traffic.', 'Traffic and water supply.',\n",
       "       'Austin is great!', 'Traffic, Health Services',\n",
       "       'Traffic, public transportation options, health services',\n",
       "       'Traffic and population; I miss the smaller Austin I came to 12 years ago!',\n",
       "       'Taxes',\n",
       "       'Public transportation--when my parents visit from India they would like to travel on their own',\n",
       "       'Keep city of Austin clean at all the time', 'Traffic!',\n",
       "       'Traffic and cost of living', 'need more public transportation',\n",
       "       'Traffic, water, cities issues such as affordable housing, mobility, minority issues',\n",
       "       'Provide more free classes on what free information is available and educational classes.',\n",
       "       'Traffic, toll roads expansion',\n",
       "       'High rent; traffic; gentrification!',\n",
       "       'Asian representatives in City of Austin', 'very crowded',\n",
       "       'City needs better policies', 'GOOD', 'Tax', 'government',\n",
       "       'medical services', 'Interpretation system',\n",
       "       'Safety for college students',\n",
       "       'low paying emplyment, minimal work, small quantity of professional positions',\n",
       "       'road maintenence', 'city planning', 'city planning, disparities',\n",
       "       'traffic safety', 'Interpretation system for medical service',\n",
       "       'Big gap between cost of living and wages',\n",
       "       'Racism and Free ESL classes & interpretation services are needed!',\n",
       "       'Public transportation support',\n",
       "       'Better health inspections of Austin restaurants',\n",
       "       'safety, traffic', 'traffic, crime', 'Asian Medicare',\n",
       "       'traffic, housing cost, homosexuality', 'services',\n",
       "       'Drug & alcohol, homelessness, party, and young adult.',\n",
       "       'Korean Hospital worker (Doctor, Nurse, Educator.etc)',\n",
       "       'Better ways to inform residents', 'parking and saftety',\n",
       "       'No interest', 'Night Safety, Public Transportation',\n",
       "       'match public service to population growth',\n",
       "       'Traffic jam is getting serious; condition of driving road',\n",
       "       'Increasing housing price and traffic',\n",
       "       'Public transportation and safety system.',\n",
       "       'Senior Hospitals, Health and Language program',\n",
       "       'traffic and road maintenance',\n",
       "       'Growing traffic and lack of good public transportation',\n",
       "       'Traffic, organized roadways, and well managed landscaping.',\n",
       "       'recycling',\n",
       "       'Social infrastructure facing abrupt population increase.',\n",
       "       'School(Education)', 'not addressin Asian American concerns',\n",
       "       'traffic problems due to population growth & housing',\n",
       "       'Electricity & Security/Safety', 'traffic and housing',\n",
       "       'Sharing Information and improvment of personal relationship',\n",
       "       'The severity of traffic is increasing yearly',\n",
       "       'Building infrastructure due to growing population (roads, traffic, housing, and commercial buildings).',\n",
       "       'Increase minimum wage to $15/hr',\n",
       "       'homeless people near West Campus (UT Austin)',\n",
       "       'traffic and increase the level of public school education in downtown',\n",
       "       'disaster prep (flood)', 'carrying gun on UT campus',\n",
       "       'Traffic and bus route system', 'water', 'Crime rate increases',\n",
       "       'Bilingual healthcare provider(health educator, physician..etc)',\n",
       "       'Too many car accidents',\n",
       "       'traffic problem, better public transportation', 'Housing',\n",
       "       'restaurants_sanitary issues',\n",
       "       'Health professional teacher(educator) required due to the expensive cost of medical service',\n",
       "       'Same sex relationships.', 'Noise, Housekeeping, Yard Work',\n",
       "       'Traffic too bad',\n",
       "       'TV broadcasts in multi-langauges for diverse ethnic populations',\n",
       "       'taxes',\n",
       "       'Finding a solution to traffic because of population increase.',\n",
       "       'Traffic, Gun ownership', 'traffic & water',\n",
       "       'The environment, Traffic', 'Housing prices & Traffic', 'Racism',\n",
       "       'taxes going up, cost of living',\n",
       "       'better public transportation system',\n",
       "       'too many people, not enough space, environmental problem',\n",
       "       'Too many construction in downtown Austin',\n",
       "       'rising cost of living', 'language problem of the minority groups',\n",
       "       'health service for people with visas not citizens',\n",
       "       'Issues due to population growth such as housing costs, employees increase, etc.',\n",
       "       'traffic, firearms injury preventions, educational standards for public school education',\n",
       "       'housing', 'Rent is increasing too much.', 'community',\n",
       "       'crime rates', 'general city resource (water, utility)',\n",
       "       'Increasing traffic problems and population growth every year.',\n",
       "       'Traffic jams',\n",
       "       'I think more more residential apartments/housings should be constructed due to the population increase and also traffic problems.',\n",
       "       'real estate, housing inflation costs',\n",
       "       'stable housing price (apartment rent price is increasing too fast).',\n",
       "       'tax & unrightful police power', 'increasing house cost',\n",
       "       'Growing population.', 'Traffic seems to be getting worse.',\n",
       "       'Traffic and Medicare/Medicaid', 'Immigration, Health insurance',\n",
       "       'Traffic & Housing',\n",
       "       'growing traffic problems and construction for road expansion',\n",
       "       'elderly korean hospital, Austin Bergstrom International Airport is really not an international airport, there are no direct flights to Korea',\n",
       "       'traffic, carpooling service in need',\n",
       "       \"Traffic increase due to Austin's recent population growth.\",\n",
       "       'traffic,the easing of limited place(greenbelt)',\n",
       "       'traffic & insurance', 'safety & economy',\n",
       "       'traffic, health care(need to improve speed on faster appoinments and visits)',\n",
       "       'International Airport', 'Vaious free ESL classes',\n",
       "       'traffic, same sex marriage', 'more family friendly parks',\n",
       "       'Korean Translator, Universal Dental Insurance',\n",
       "       'Additional buildings on roads 7as the population increases',\n",
       "       'Apartment lease and health insurance is too expensive and traffic is bad.',\n",
       "       'Road (Traffic Jams)', 'traffic & water quality',\n",
       "       'Same sex relationships',\n",
       "       'Social Services such as financial support for the elderly population',\n",
       "       'Lower the property tax',\n",
       "       'Over population, out of control growth, inflation',\n",
       "       'understanding together', 'Polulation, jobs, and housing',\n",
       "       'Traffic, support for education', 'growing population + traffic',\n",
       "       'Nursing home for Korean', 'Getting higher property tax',\n",
       "       'Tax is too high', 'Homosexuality',\n",
       "       '1. Would like to see the composting program be expanded. 2. More marketing for the AARC.',\n",
       "       'Traffic (public transportation)', 'parmer traffic', 'roads',\n",
       "       'growing traffic/housing, not enough road',\n",
       "       \"Meeting minorities' needs\",\n",
       "       'traffic & increase in cost of living',\n",
       "       'Shelter for low income people, Traffic, Homeless',\n",
       "       'traffic, rail system improvement plans', 'no concern in suburb',\n",
       "       'Road service', 'traffic, police enforcement, water shortage',\n",
       "       'Worsening traffic problems',\n",
       "       'Traffic, Homosexuality, Environment', 'City population growth',\n",
       "       'Property tax, traffic issues, education',\n",
       "       'Traffic  and property tax', 'Traffic and road conditions',\n",
       "       'Salary increase', 'traffic, housing cost',\n",
       "       'development, job, education, environment',\n",
       "       'Understanding one another',\n",
       "       'traffic, senior social welfare society',\n",
       "       'Senior social service, Traffic', 'Job', 'Racism, Crime',\n",
       "       'There is no Vietnamese representatives in the city council to voice out concerns of Vietnamese citizens',\n",
       "       'Crimes', 'The air, environment', 'Everything is good', 'Weather',\n",
       "       'Beggars', 'Minimum wage',\n",
       "       'Racial Discrimination (Barton Creek Mall)', 'Drought',\n",
       "       'Economics', 'Education', 'Flooding',\n",
       "       'Traffic signs, Road construction',\n",
       "       'I-20, visa, immigration things', 'utility water',\n",
       "       'Traffic is horrible ( I-35)',\n",
       "       'Racial Discrimination (Barton Creek Mall), thief and robbery in north Austin',\n",
       "       'Lights on some streets, some narrow streets with both sides car parked',\n",
       "       'Water pipe system when big rain occurs', 'Traffics',\n",
       "       'transportation, homeless', 'Parking is awful', 'Things are good',\n",
       "       'Infrastructure (transportation infrastructure)',\n",
       "       'needs medicare for  senior who is over 65 and has low income',\n",
       "       \"Don't know or receive any help from public services\",\n",
       "       \"People's mindset\", 'legalization of cannabis',\n",
       "       'Homeless, Unemployed rate', 'Homeless people',\n",
       "       'Limited public transportation and free health service',\n",
       "       'Property Tax', 'Quality of water',\n",
       "       \"Inconvenient airport's connection\", 'Traffic, Robbery',\n",
       "       'Email/Website', 'Traffic, Homeless people',\n",
       "       'N/A- Fixing traffice',\n",
       "       'Social welfare, Culture, Community service, Racism',\n",
       "       'Security, Theft', 'Jobs, Insurance',\n",
       "       'Job and Small Business Opportunity', 'roberry and Car Thief',\n",
       "       'Social Welfare, Traffic',\n",
       "       'Population saturation (too many people living here)',\n",
       "       'Traffic, Public transportation', 'Jobs availability',\n",
       "       'Lack of jobs for people', 'Traffic, Tax', 'don’t know',\n",
       "       'Homeless people; high cost of living',\n",
       "       'Rising cost of housing & very high electricity and water rates.',\n",
       "       \"Discrimination against my own race and my partner's (black)\",\n",
       "       'reduce traffic at some area',\n",
       "       'Traffic Jam, more green in the city', 'Increase in crime rate',\n",
       "       'Population and Traffic', 'Traffic, burglary, bike theft',\n",
       "       'Traffic; rising housing costs', 'traffic & housing',\n",
       "       'Infrastructure, Freeway',\n",
       "       'Traffic is getting worst, and housing is getting too expensive',\n",
       "       'Not enough job', 'transportation, infrastructure',\n",
       "       'Underground water', 'Living cost, Plastic ban, Water quality',\n",
       "       'Living cost', 'Housing, Security', 'Traffic Jams',\n",
       "       'Traffics, Homeless People', 'school',\n",
       "       'Cost of living vs. wages do not match',\n",
       "       'Healthcare and Legal Consultant for Vietnamese people',\n",
       "       'Traffic, Weather',\n",
       "       'Traffic, Healthcare, Safety of the children in summer season',\n",
       "       'We have been having a lot of fatal car accidents. Traffic is a mess, we need a better solution',\n",
       "       'N/a', 'More English classes', 'Employment',\n",
       "       'Equality of schools between nearby neighborhoods and city wide',\n",
       "       'Schooling, Traffic', 'traffic, super hot', 'Homeless',\n",
       "       'Traffic during rush hours (on way to work)',\n",
       "       'cost of living is continually increasing',\n",
       "       'Traffic, Housing, Public Transportation',\n",
       "       'Public transportation, traffic and education--all three can be improved',\n",
       "       'mass transit and rail', 'Need more parks',\n",
       "       'Traffic Congestion. And way too many people coming here',\n",
       "       'More information', 'Crime, drug, thief', 'Trash',\n",
       "       'Transportation, Recreation, Mental Health', 'Traffics jam',\n",
       "       \"Don't know\", 'Newspapers', 'Construction, Job',\n",
       "       'Improve the highway', 'Newspapers, Television',\n",
       "       'Infrastructure, roads', 'Safety, Education',\n",
       "       'Traffic, uninsured medical insurance', 'Traffic, Living cost',\n",
       "       'Job availability', 'Construction', 'Gangs',\n",
       "       'the city and the universtiy',\n",
       "       'No parks and need more REC centers', 'Employment/Job', 'Crime',\n",
       "       'traffic control', 'Culture, Law, Religion', 'Friendly',\n",
       "       'infrastructure', 'Security, Crime', 'Growing population',\n",
       "       'Traffic; population; raising house prices',\n",
       "       'poor transportation options; poor interpretation resources',\n",
       "       'Traffic and Public Safety', 'Crime, Traffice', 'Rail Road',\n",
       "       'Community help', 'Transportation',\n",
       "       'Traffic, Unchecked developments', 'Get along and help each other',\n",
       "       'Public Safety', 'When will the city fix traffic conditions?',\n",
       "       'Traffic congestion is getting worse; we need new/ improved infrastructure',\n",
       "       'Too much traffic & over populated',\n",
       "       'Public Transportation (Metro/Subway line)',\n",
       "       'Transportation, health', 'Crime, Rising population',\n",
       "       'Safety, Friendly', 'Traffic, Crime', 'HighProperty Tax',\n",
       "       'Elderly program', 'Drug', 'Traffic on I-35 and Mopac',\n",
       "       'Property Tax, Traffic', 'build a tollway highway',\n",
       "       'Transportation, Trafic, tax', 'Public Safety, Public Traffic',\n",
       "       'Traffics, Tax', 'dung.donut@yahoo.com/dung_donut@yahoo.com',\n",
       "       'Traffic and road!', 'Immigrants flooding from Middle East',\n",
       "       'Quality of life', 'Transportation, too high realestate tax',\n",
       "       'Traffic Horrible on Mopac', 'Provide more security for neighbors',\n",
       "       'about traffic sometimes and crime',\n",
       "       'Better career opportunities for professional and experienced immigrants',\n",
       "       'Traffic & Safety', 'good city',\n",
       "       'Price of gas, utilities, rent keeps going up',\n",
       "       'Well the parking spaces at least should have a consideration',\n",
       "       'High criminal', 'Traffic & Homeless people', 'Illegal Aliens',\n",
       "       'I like it', 'Roads are terrible',\n",
       "       'Cost of living is too expensive.',\n",
       "       'Traffic and parking; public commuting', 'email',\n",
       "       'Property Tax/ Safety', 'Good Chinese Restaurants',\n",
       "       'Mostly the traffic',\n",
       "       'that traffic keeps worsening. We could use more traffic management by policemen directing traffic',\n",
       "       'Traffic, housing (affordable)',\n",
       "       'Vandalism; theft; and house break ins',\n",
       "       'Response from city of Austin services can be improved',\n",
       "       'Trash on the street', 'Improve traffic conditions',\n",
       "       'Traffic, lack of traffic lights & left turn corner in Highland Park Elem School in Pflugerville along Heatherwilde Blvd',\n",
       "       'Health care and education', 'Mopac', 'Heavy Traffic',\n",
       "       'Homelessness', 'traffic; more affordable housing',\n",
       "       'Public Transportation, I-35, Mopac & downtown traffic',\n",
       "       'Traffic is so bad', 'the increase of cost of living',\n",
       "       'high real estate taxes; housing is expensive',\n",
       "       'increase in traffic & increase in crime', 'Home', 'homelessness',\n",
       "       'Traffic is very bad',\n",
       "       'I am not satisfied d as a resident in Austin',\n",
       "       'Not enough security (police on school campuses)',\n",
       "       'safety of the environment; great education',\n",
       "       'Safety in the community', 'houses too expensive, traffic',\n",
       "       'Traffic is bad and dangerous', 'Poor public transport; traffic',\n",
       "       'traffic control; more roads', 'Mopac traffic & I-35 traffic',\n",
       "       'affordable solar panels', 'Too high in retirement count',\n",
       "       'More recreational activities in my area',\n",
       "       'Taxes too high and salary low',\n",
       "       'traffic; road signs renewed/fixed', 'Traffic is a pain',\n",
       "       'No yard refuse at our community', 'Rental',\n",
       "       'Expensive Housing (rent)', 'Traffic and safety',\n",
       "       'slight traffic due to road widening',\n",
       "       'Directory of Filipino doctors, nurses, etc.',\n",
       "       'director young filipino Practitioners', 'Traffic/population',\n",
       "       'Few organizations and activities', 'More Asian representation.',\n",
       "       'Housing values', 'cost of living',\n",
       "       'Unfair treatment- minorities getting (Mexican) too much privileges (Lonestar).',\n",
       "       'high tax rate for houses', \"they don't like to pay artists\",\n",
       "       'traffic congestion', 'Property Taxes too high',\n",
       "       'High taxes/ sanctuary city', 'Roads', 'Traffic and water outage',\n",
       "       'Utilities', 'Traffic and water quality', 'Reduce electric',\n",
       "       'state related offices are slow and careless',\n",
       "       'traffic, allergies, heat',\n",
       "       'There should be restrictions on rent increase.',\n",
       "       'Traffic and lack of public transportation', 'Discrimination',\n",
       "       'garbage disposal, pest control', 'Diveristy',\n",
       "       'traffic jams on mopac',\n",
       "       'Public transportation needs to be improved',\n",
       "       'traffic is very bad.', 'beggers on every intersection',\n",
       "       'Traffic and Safety', 'overall is good',\n",
       "       'High Water-bill, High Electricity-bill, Road Service', 'The heat',\n",
       "       'Public transportation, Traffic', 'Drive safe and make city clean',\n",
       "       \"Austin does not have many asian people and some people here act like they do not care about immigrants.  It's hard to find work to do as well.\",\n",
       "       'Need to put more flashing lights near schools.',\n",
       "       'Weather too hot and traffic jam during peak hours',\n",
       "       'Traffic and Rough Drivers', 'Roads to be less congested',\n",
       "       'To live safely', 'Statewide Wifi, Panhandling Restriction',\n",
       "       'water usage', 'lots of scam phone calls and high apartment rent.',\n",
       "       'The rent, water & electricity bill is to high here.',\n",
       "       'Traffic and would like minimum wage to increase for the people of Austin.',\n",
       "       'inflation and traffic problem', 'Growing Population',\n",
       "       'How do residents learn about the social services the city of Austin offers?',\n",
       "       'reach out for north west', 'bad traffic, crime, burglar',\n",
       "       'be more close community', 'life is good.',\n",
       "       'We need recycling for cartons and styrofoam.  Water rates should take into account number of residents.  Big families are currently punished.',\n",
       "       'Resident moral getting degraded because of increasing population',\n",
       "       'Culture, Traffi, Growing Population',\n",
       "       'population increase and traffic', 'Traffic/ Electricity cost',\n",
       "       'traffic and tax', 'High cost of living', 'city hall',\n",
       "       'Need better roads.', 'I35 traffic problem', 'Growing too big',\n",
       "       'Very happy in Austin but concerned about heavy traffic.',\n",
       "       'community magazine'], dtype=object)"
      ]
     },
     "execution_count": 25,
     "metadata": {},
     "output_type": "execute_result"
    }
   ],
   "source": [
    "df.concerns.unique()"
   ]
  },
  {
   "cell_type": "markdown",
   "metadata": {},
   "source": [
    "### Drop Features over 25% Missing Values"
   ]
  },
  {
   "cell_type": "markdown",
   "metadata": {},
   "source": [
    "# Encode Variables"
   ]
  }
 ],
 "metadata": {
  "hide_input": false,
  "kernelspec": {
   "display_name": "Python 3",
   "language": "python",
   "name": "python3"
  },
  "language_info": {
   "codemirror_mode": {
    "name": "ipython",
    "version": 3
   },
   "file_extension": ".py",
   "mimetype": "text/x-python",
   "name": "python",
   "nbconvert_exporter": "python",
   "pygments_lexer": "ipython3",
   "version": "3.8.3"
  },
  "toc": {
   "base_numbering": 1,
   "nav_menu": {},
   "number_sections": true,
   "sideBar": true,
   "skip_h1_title": false,
   "title_cell": "Table of Contents",
   "title_sidebar": "Contents",
   "toc_cell": false,
   "toc_position": {},
   "toc_section_display": true,
   "toc_window_display": false
  },
  "varInspector": {
   "cols": {
    "lenName": 16,
    "lenType": 16,
    "lenVar": 40
   },
   "kernels_config": {
    "python": {
     "delete_cmd_postfix": "",
     "delete_cmd_prefix": "del ",
     "library": "var_list.py",
     "varRefreshCmd": "print(var_dic_list())"
    },
    "r": {
     "delete_cmd_postfix": ") ",
     "delete_cmd_prefix": "rm(",
     "library": "var_list.r",
     "varRefreshCmd": "cat(var_dic_list()) "
    }
   },
   "types_to_exclude": [
    "module",
    "function",
    "builtin_function_or_method",
    "instance",
    "_Feature"
   ],
   "window_display": false
  }
 },
 "nbformat": 4,
 "nbformat_minor": 4
}
