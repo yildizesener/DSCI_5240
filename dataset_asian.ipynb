{
 "cells": [
  {
   "cell_type": "markdown",
   "metadata": {},
   "source": [
    "# Data Cleaning Process"
   ]
  },
  {
   "cell_type": "markdown",
   "metadata": {},
   "source": [
    "Get the codebook from https://data.austintexas.gov/City-Government/Final-Report-of-the-Asian-American-Quality-of-Life/hc5t-p62z"
   ]
  },
  {
   "cell_type": "code",
   "execution_count": 1,
   "metadata": {
    "ExecuteTime": {
     "end_time": "2020-10-18T21:09:11.501320Z",
     "start_time": "2020-10-18T21:09:11.470073Z"
    }
   },
   "outputs": [
    {
     "data": {
      "text/html": [
       "<style>.container { width:80% !important; }</style>"
      ],
      "text/plain": [
       "<IPython.core.display.HTML object>"
      ]
     },
     "metadata": {},
     "output_type": "display_data"
    }
   ],
   "source": [
    "from IPython.core.display import display, HTML\n",
    "display(HTML('<style>.container { width:80% !important; }</style>'))"
   ]
  },
  {
   "cell_type": "markdown",
   "metadata": {},
   "source": [
    "## Import Libraries and Read Data"
   ]
  },
  {
   "cell_type": "code",
   "execution_count": 2,
   "metadata": {
    "ExecuteTime": {
     "end_time": "2020-10-18T21:09:12.472721Z",
     "start_time": "2020-10-18T21:09:11.501320Z"
    }
   },
   "outputs": [],
   "source": [
    "import pandas as pd\n",
    "import numpy as np"
   ]
  },
  {
   "cell_type": "code",
   "execution_count": 3,
   "metadata": {
    "ExecuteTime": {
     "end_time": "2020-10-18T21:09:12.789150Z",
     "start_time": "2020-10-18T21:09:12.472721Z"
    }
   },
   "outputs": [],
   "source": [
    "df = pd.read_csv('Dataset_Asian.csv')"
   ]
  },
  {
   "cell_type": "markdown",
   "metadata": {},
   "source": [
    "## Explore Dataset"
   ]
  },
  {
   "cell_type": "code",
   "execution_count": 4,
   "metadata": {
    "ExecuteTime": {
     "end_time": "2020-10-18T21:09:12.842541Z",
     "start_time": "2020-10-18T21:09:12.789150Z"
    }
   },
   "outputs": [
    {
     "data": {
      "text/html": [
       "<div>\n",
       "<style scoped>\n",
       "    .dataframe tbody tr th:only-of-type {\n",
       "        vertical-align: middle;\n",
       "    }\n",
       "\n",
       "    .dataframe tbody tr th {\n",
       "        vertical-align: top;\n",
       "    }\n",
       "\n",
       "    .dataframe thead th {\n",
       "        text-align: right;\n",
       "    }\n",
       "</style>\n",
       "<table border=\"1\" class=\"dataframe\">\n",
       "  <thead>\n",
       "    <tr style=\"text-align: right;\">\n",
       "      <th></th>\n",
       "      <th>Survey ID</th>\n",
       "      <th>Age</th>\n",
       "      <th>Gender</th>\n",
       "      <th>Ethnicity</th>\n",
       "      <th>Marital Status</th>\n",
       "      <th>Education Completed</th>\n",
       "      <th>Household Size</th>\n",
       "      <th>No One</th>\n",
       "      <th>Spouse</th>\n",
       "      <th>Children</th>\n",
       "      <th>...</th>\n",
       "      <th>Other Description (Non-city-based Ethnic)</th>\n",
       "      <th>Paper (Non-city-based General)</th>\n",
       "      <th>TV/Radio (Non-city-based General)</th>\n",
       "      <th>Website (Non-city-based General)</th>\n",
       "      <th>Social Networks (Non-city-based General)</th>\n",
       "      <th>People (Non-city-based General)</th>\n",
       "      <th>Other (Non-city-based General)</th>\n",
       "      <th>Other Description (Non-city-based General)</th>\n",
       "      <th>Preferred Type</th>\n",
       "      <th>Concerns</th>\n",
       "    </tr>\n",
       "  </thead>\n",
       "  <tbody>\n",
       "    <tr>\n",
       "      <th>0</th>\n",
       "      <td>80314</td>\n",
       "      <td>NaN</td>\n",
       "      <td>NaN</td>\n",
       "      <td>Vietnamese</td>\n",
       "      <td>NaN</td>\n",
       "      <td>NaN</td>\n",
       "      <td>NaN</td>\n",
       "      <td>NaN</td>\n",
       "      <td>NaN</td>\n",
       "      <td>NaN</td>\n",
       "      <td>...</td>\n",
       "      <td>NaN</td>\n",
       "      <td>NaN</td>\n",
       "      <td>NaN</td>\n",
       "      <td>NaN</td>\n",
       "      <td>NaN</td>\n",
       "      <td>NaN</td>\n",
       "      <td>NaN</td>\n",
       "      <td>NaN</td>\n",
       "      <td>NaN</td>\n",
       "      <td>NaN</td>\n",
       "    </tr>\n",
       "    <tr>\n",
       "      <th>1</th>\n",
       "      <td>60171</td>\n",
       "      <td>60.0</td>\n",
       "      <td>Male</td>\n",
       "      <td>Chinese</td>\n",
       "      <td>Married</td>\n",
       "      <td>13.0</td>\n",
       "      <td>6.0</td>\n",
       "      <td>0</td>\n",
       "      <td>0</td>\n",
       "      <td>Living with children</td>\n",
       "      <td>...</td>\n",
       "      <td>NaN</td>\n",
       "      <td>NaN</td>\n",
       "      <td>NaN</td>\n",
       "      <td>NaN</td>\n",
       "      <td>NaN</td>\n",
       "      <td>NaN</td>\n",
       "      <td>NaN</td>\n",
       "      <td>NaN</td>\n",
       "      <td>NaN</td>\n",
       "      <td>NaN</td>\n",
       "    </tr>\n",
       "    <tr>\n",
       "      <th>2</th>\n",
       "      <td>1011601</td>\n",
       "      <td>23.0</td>\n",
       "      <td>Female</td>\n",
       "      <td>Chinese</td>\n",
       "      <td>Single</td>\n",
       "      <td>16.0</td>\n",
       "      <td>3.0</td>\n",
       "      <td>0</td>\n",
       "      <td>0</td>\n",
       "      <td>0</td>\n",
       "      <td>...</td>\n",
       "      <td>NaN</td>\n",
       "      <td>No</td>\n",
       "      <td>No</td>\n",
       "      <td>No</td>\n",
       "      <td>No</td>\n",
       "      <td>Yes</td>\n",
       "      <td>No</td>\n",
       "      <td>NaN</td>\n",
       "      <td>email</td>\n",
       "      <td>traffic</td>\n",
       "    </tr>\n",
       "    <tr>\n",
       "      <th>3</th>\n",
       "      <td>50046</td>\n",
       "      <td>73.0</td>\n",
       "      <td>Female</td>\n",
       "      <td>Chinese</td>\n",
       "      <td>Other</td>\n",
       "      <td>13.0</td>\n",
       "      <td>1.0</td>\n",
       "      <td>Living with no one</td>\n",
       "      <td>0</td>\n",
       "      <td>0</td>\n",
       "      <td>...</td>\n",
       "      <td>NaN</td>\n",
       "      <td>NaN</td>\n",
       "      <td>NaN</td>\n",
       "      <td>NaN</td>\n",
       "      <td>NaN</td>\n",
       "      <td>NaN</td>\n",
       "      <td>NaN</td>\n",
       "      <td>NaN</td>\n",
       "      <td>NaN</td>\n",
       "      <td>NaN</td>\n",
       "    </tr>\n",
       "    <tr>\n",
       "      <th>4</th>\n",
       "      <td>10494</td>\n",
       "      <td>29.0</td>\n",
       "      <td>Male</td>\n",
       "      <td>Asian Indian</td>\n",
       "      <td>Single</td>\n",
       "      <td>17.0</td>\n",
       "      <td>1.0</td>\n",
       "      <td>Living with no one</td>\n",
       "      <td>0</td>\n",
       "      <td>0</td>\n",
       "      <td>...</td>\n",
       "      <td>NaN</td>\n",
       "      <td>NaN</td>\n",
       "      <td>NaN</td>\n",
       "      <td>NaN</td>\n",
       "      <td>NaN</td>\n",
       "      <td>NaN</td>\n",
       "      <td>NaN</td>\n",
       "      <td>NaN</td>\n",
       "      <td>NaN</td>\n",
       "      <td>NaN</td>\n",
       "    </tr>\n",
       "  </tbody>\n",
       "</table>\n",
       "<p>5 rows × 231 columns</p>\n",
       "</div>"
      ],
      "text/plain": [
       "   Survey ID   Age  Gender     Ethnicity Marital Status  Education Completed  \\\n",
       "0      80314   NaN     NaN    Vietnamese            NaN                  NaN   \n",
       "1      60171  60.0    Male       Chinese        Married                 13.0   \n",
       "2    1011601  23.0  Female       Chinese         Single                 16.0   \n",
       "3      50046  73.0  Female       Chinese          Other                 13.0   \n",
       "4      10494  29.0    Male  Asian Indian         Single                 17.0   \n",
       "\n",
       "   Household Size              No One Spouse              Children  ...  \\\n",
       "0             NaN                 NaN    NaN                   NaN  ...   \n",
       "1             6.0                   0      0  Living with children  ...   \n",
       "2             3.0                   0      0                     0  ...   \n",
       "3             1.0  Living with no one      0                     0  ...   \n",
       "4             1.0  Living with no one      0                     0  ...   \n",
       "\n",
       "  Other Description (Non-city-based Ethnic) Paper (Non-city-based General)  \\\n",
       "0                                       NaN                            NaN   \n",
       "1                                       NaN                            NaN   \n",
       "2                                       NaN                             No   \n",
       "3                                       NaN                            NaN   \n",
       "4                                       NaN                            NaN   \n",
       "\n",
       "   TV/Radio (Non-city-based General) Website (Non-city-based General)  \\\n",
       "0                                NaN                              NaN   \n",
       "1                                NaN                              NaN   \n",
       "2                                 No                               No   \n",
       "3                                NaN                              NaN   \n",
       "4                                NaN                              NaN   \n",
       "\n",
       "   Social Networks (Non-city-based General) People (Non-city-based General)  \\\n",
       "0                                       NaN                             NaN   \n",
       "1                                       NaN                             NaN   \n",
       "2                                        No                             Yes   \n",
       "3                                       NaN                             NaN   \n",
       "4                                       NaN                             NaN   \n",
       "\n",
       "   Other (Non-city-based General) Other Description (Non-city-based General)  \\\n",
       "0                             NaN                                        NaN   \n",
       "1                             NaN                                        NaN   \n",
       "2                              No                                        NaN   \n",
       "3                             NaN                                        NaN   \n",
       "4                             NaN                                        NaN   \n",
       "\n",
       "  Preferred Type Concerns  \n",
       "0            NaN      NaN  \n",
       "1            NaN      NaN  \n",
       "2          email  traffic  \n",
       "3            NaN      NaN  \n",
       "4            NaN      NaN  \n",
       "\n",
       "[5 rows x 231 columns]"
      ]
     },
     "execution_count": 4,
     "metadata": {},
     "output_type": "execute_result"
    }
   ],
   "source": [
    "df.head()"
   ]
  },
  {
   "cell_type": "code",
   "execution_count": 5,
   "metadata": {
    "ExecuteTime": {
     "end_time": "2020-10-18T21:09:12.858166Z",
     "start_time": "2020-10-18T21:09:12.842541Z"
    },
    "scrolled": false
   },
   "outputs": [
    {
     "data": {
      "text/plain": [
       "Survey ID                                       int64\n",
       "Age                                           float64\n",
       "Gender                                         object\n",
       "Ethnicity                                      object\n",
       "Marital Status                                 object\n",
       "Education Completed                           float64\n",
       "Household Size                                float64\n",
       "No One                                         object\n",
       "Spouse                                         object\n",
       "Children                                       object\n",
       "Grand Children                                 object\n",
       "Parent                                         object\n",
       "Grandparent                                   float64\n",
       "Brother/Sister                                 object\n",
       "Other Relative                                float64\n",
       "Friends                                        object\n",
       "Other                                         float64\n",
       "Other Description                              object\n",
       "Religion                                       object\n",
       "Religion Other                                 object\n",
       "Full Time Employment                           object\n",
       "Part Time Employment                           object\n",
       "Self Employed Full Time                       float64\n",
       "Self Employed Part Time                       float64\n",
       "Student                                        object\n",
       "Homemaker                                      object\n",
       "Disabled                                      float64\n",
       "Unemployed                                    float64\n",
       "Retired                                        object\n",
       "Other Employement                             float64\n",
       "                                               ...   \n",
       "Public Meeting                                 object\n",
       "Council Meeting                                object\n",
       "Contact City Official                          object\n",
       "City Election                                  object\n",
       "Focus Group                                    object\n",
       "Informed                                       object\n",
       "City Effort Satisfaction                       object\n",
       "Paper (City-based)                             object\n",
       "TV/Radio (City-based)                          object\n",
       "Website (City-based)                           object\n",
       "Social Networks (City-based)                   object\n",
       "People (City-based)                            object\n",
       "Other (City-based)                             object\n",
       "Other Description (City-based)                 object\n",
       "Paper (Non-city-based Ethnic)                  object\n",
       "TV/Radio (Non-city-based Ethnic)               object\n",
       "Website (Non-city-based Ethnic)                object\n",
       "Social Networks (Non-city-based Ethnic)        object\n",
       "People (Non-city-based Ethnic)                 object\n",
       "Other (Non-city-based Ethnic)                  object\n",
       "Other Description (Non-city-based Ethnic)      object\n",
       "Paper (Non-city-based General)                 object\n",
       "TV/Radio (Non-city-based General)              object\n",
       "Website (Non-city-based General)               object\n",
       "Social Networks (Non-city-based General)       object\n",
       "People (Non-city-based General)                object\n",
       "Other (Non-city-based General)                 object\n",
       "Other Description (Non-city-based General)     object\n",
       "Preferred Type                                 object\n",
       "Concerns                                       object\n",
       "Length: 231, dtype: object"
      ]
     },
     "execution_count": 5,
     "metadata": {},
     "output_type": "execute_result"
    }
   ],
   "source": [
    "df.dtypes"
   ]
  },
  {
   "cell_type": "markdown",
   "metadata": {},
   "source": [
    "### Calculate Percentage of Missing Values per Feature"
   ]
  },
  {
   "cell_type": "code",
   "execution_count": 6,
   "metadata": {
    "ExecuteTime": {
     "end_time": "2020-10-18T21:09:13.043070Z",
     "start_time": "2020-10-18T21:09:12.858166Z"
    }
   },
   "outputs": [],
   "source": [
    "columns = df.columns\n",
    "percentages = []\n",
    "for column in columns:\n",
    "    percentages.append((df[column].isnull().sum()/df.shape[0])*100)\n",
    "df_perc = pd.DataFrame({'percentages' : percentages}, index = columns)"
   ]
  },
  {
   "cell_type": "code",
   "execution_count": 7,
   "metadata": {
    "ExecuteTime": {
     "end_time": "2020-10-18T21:09:13.074321Z",
     "start_time": "2020-10-18T21:09:13.043070Z"
    }
   },
   "outputs": [
    {
     "data": {
      "text/html": [
       "<div>\n",
       "<style scoped>\n",
       "    .dataframe tbody tr th:only-of-type {\n",
       "        vertical-align: middle;\n",
       "    }\n",
       "\n",
       "    .dataframe tbody tr th {\n",
       "        vertical-align: top;\n",
       "    }\n",
       "\n",
       "    .dataframe thead th {\n",
       "        text-align: right;\n",
       "    }\n",
       "</style>\n",
       "<table border=\"1\" class=\"dataframe\">\n",
       "  <thead>\n",
       "    <tr style=\"text-align: right;\">\n",
       "      <th></th>\n",
       "      <th>percentages</th>\n",
       "    </tr>\n",
       "  </thead>\n",
       "  <tbody>\n",
       "    <tr>\n",
       "      <th>Other Description</th>\n",
       "      <td>98.581832</td>\n",
       "    </tr>\n",
       "    <tr>\n",
       "      <th>Religion Other</th>\n",
       "      <td>98.428517</td>\n",
       "    </tr>\n",
       "    <tr>\n",
       "      <th>Other Employment Description</th>\n",
       "      <td>99.386738</td>\n",
       "    </tr>\n",
       "    <tr>\n",
       "      <th>Occupation</th>\n",
       "      <td>30.471445</td>\n",
       "    </tr>\n",
       "    <tr>\n",
       "      <th>Occupation Other</th>\n",
       "      <td>91.107704</td>\n",
       "    </tr>\n",
       "    <tr>\n",
       "      <th>Satisfaction</th>\n",
       "      <td>25.833653</td>\n",
       "    </tr>\n",
       "    <tr>\n",
       "      <th>Health Info Discription</th>\n",
       "      <td>97.201993</td>\n",
       "    </tr>\n",
       "    <tr>\n",
       "      <th>Housing (Other)</th>\n",
       "      <td>98.313530</td>\n",
       "    </tr>\n",
       "    <tr>\n",
       "      <th>Status of Ownership (Other)</th>\n",
       "      <td>98.658490</td>\n",
       "    </tr>\n",
       "    <tr>\n",
       "      <th>Other Transportation Description</th>\n",
       "      <td>99.923342</td>\n",
       "    </tr>\n",
       "    <tr>\n",
       "      <th>Other Description (City-based)</th>\n",
       "      <td>99.080107</td>\n",
       "    </tr>\n",
       "    <tr>\n",
       "      <th>Other Description (Non-city-based Ethnic)</th>\n",
       "      <td>99.310080</td>\n",
       "    </tr>\n",
       "    <tr>\n",
       "      <th>Other Description (Non-city-based General)</th>\n",
       "      <td>99.463396</td>\n",
       "    </tr>\n",
       "    <tr>\n",
       "      <th>Concerns</th>\n",
       "      <td>50.095822</td>\n",
       "    </tr>\n",
       "  </tbody>\n",
       "</table>\n",
       "</div>"
      ],
      "text/plain": [
       "                                            percentages\n",
       "Other Description                             98.581832\n",
       "Religion Other                                98.428517\n",
       "Other Employment Description                  99.386738\n",
       "Occupation                                    30.471445\n",
       "Occupation Other                              91.107704\n",
       "Satisfaction                                  25.833653\n",
       "Health Info Discription                       97.201993\n",
       "Housing (Other)                               98.313530\n",
       "Status of Ownership (Other)                   98.658490\n",
       "Other Transportation Description              99.923342\n",
       "Other Description (City-based)                99.080107\n",
       "Other Description (Non-city-based Ethnic)     99.310080\n",
       "Other Description (Non-city-based General)    99.463396\n",
       "Concerns                                      50.095822"
      ]
     },
     "execution_count": 7,
     "metadata": {},
     "output_type": "execute_result"
    }
   ],
   "source": [
    "df_over_25 = df_perc[df_perc['percentages'] > 25]\n",
    "df_over_25"
   ]
  },
  {
   "cell_type": "markdown",
   "metadata": {},
   "source": [
    "### Compare Features with Codebook"
   ]
  },
  {
   "cell_type": "code",
   "execution_count": 8,
   "metadata": {
    "ExecuteTime": {
     "end_time": "2020-10-18T21:09:13.121195Z",
     "start_time": "2020-10-18T21:09:13.074321Z"
    },
    "scrolled": false
   },
   "outputs": [
    {
     "name": "stdout",
     "output_type": "stream",
     "text": [
      "Survey ID, Age, Gender, Ethnicity, Marital Status, Education Completed, Household Size, No One, Spouse, Children, Grand Children, Parent, Grandparent, Brother/Sister, Other Relative, Friends, Other , Other Description, Religion, Religion Other, Full Time Employment, Part Time Employment, Self Employed Full Time, Self Employed Part Time, Student, Homemaker, Disabled, Unemployed, Retired, Other Employement, Other Employment Description, Occupation, Occupation Other, Income, Achieving Ends Meet, US Born, Duration of Residency, Primary Language, English Speaking, English Difficulties, Familiarity with America, Familiarity with Ethnic Origin, Identify Ethnically, Belonging, Discrimination , Present Health, Present Mental Health, Present Oral Health, Hygiene Assistance, Smoking, Drinking, Regular Exercise, Healthy Diet, Hypertension, Heart Disease, Stroke, Diabetes, Cancer, Arthritis, Hepatitis, Kidney Problem, Asthma, COPD, Physical Check-up, Dentist Check-up, Urgentcare, Folkmedicine, Primary Care, Health Insurance, Dental Insurance, Unmet Health Need, Unmet Dental Needs, Transportation (Medical), Interpretation (Medical), Comunication Problem, Preferance, Language, users, Satisfaction, Family, Close Friend, Acquaintances, Heal Professionals, Mobile Apps, Email, Social Networks, Online Communities, Health Website, Other, Health Info Discription, Quality of Life, Satisfied With Life 1, Satisfied With Life 2, Psychiatrist, General Practitioner, Therapist/Counselor , Religious Leader, Weakness, Shame, Disappointment, Disclosure, Antidepressants, Danger, Recovery, Treatment, Counseling, Preference, Knowledge, Diagnosed, Concern for Self (AD), Concern for Others (AD), Prevention, Plan (AD), Education (AD), Services (AD), Language Barrier (AD), Fate (AD), Aging (AD), Embarrassing (AD), Avoidance (AD), Cure (AD), Nursing Home (AD), Advanced Directives, Have an Advanced Directive, Superstition, See Family, Close Family, Helpful Family, See Friends, Close Friends, Helpful Friends, Family Respect, Similar Values, Successful Family, Trust, Loyalty, Family Pride, Expression, Spend Time Together, Feel Close , Togetherness, Religious Attendance, Religious Importance, Close-knit Community, Helpful Community, Community Shares Values, Get Along, Community Trust, Residency , Place to Live, Raising Children, Place to Work, Small Businesses , Place to Retire, Arts and Culture, Safety, Traffic, Qualtiy of Life, Quality of Service, Parks and Recs, Libraries, Public Safety, Airport, Austin Energy, Court, Social Services, Aware of AARC, Visit Frequency , Activities, EMS Classes, Fire Alarm, Public Computer, Library Internet Acess, Literature, Citizenship Class, Small Business, English Classes, 9-1-1, 3-1-1, APD Languages , District, Housing , Housing (Other), Status of Ownership, Status of Ownership (Other), Satisfaction With Housing., Nursing Home, Smoke Detector, Recycle, Compost, Public Transportation, Bicycling, Carpooling, Personal Car, Car Share, Walking, Other Transportation, Other Transportation Description, Access to a Computer, Mobile Devices, Home Phone, Public Meeting, Council Meeting, Contact City Official, City Election, Focus Group, Informed, City Effort Satisfaction, Paper (City-based), TV/Radio (City-based), Website (City-based), Social Networks (City-based), People (City-based), Other (City-based), Other Description (City-based), Paper (Non-city-based Ethnic), TV/Radio (Non-city-based Ethnic), Website (Non-city-based Ethnic), Social Networks (Non-city-based Ethnic), People (Non-city-based Ethnic), Other (Non-city-based Ethnic), Other Description (Non-city-based Ethnic), Paper (Non-city-based General), TV/Radio (Non-city-based General), Website (Non-city-based General), Social Networks (Non-city-based General), People (Non-city-based General), Other (Non-city-based General), Other Description (Non-city-based General), Preferred Type, Concerns, "
     ]
    }
   ],
   "source": [
    "_ = [print(column, end=', ') for column in df.columns]"
   ]
  },
  {
   "cell_type": "markdown",
   "metadata": {},
   "source": [
    "* The features are aligned with the codebook and many of them are already transformed into dummy variables. Let's first handle the features that have missing values ratio over 25%"
   ]
  },
  {
   "cell_type": "markdown",
   "metadata": {},
   "source": [
    "### Drop Features over 25% Missing Values"
   ]
  },
  {
   "cell_type": "code",
   "execution_count": 9,
   "metadata": {
    "ExecuteTime": {
     "end_time": "2020-10-18T21:09:13.143334Z",
     "start_time": "2020-10-18T21:09:13.121195Z"
    },
    "scrolled": true
   },
   "outputs": [],
   "source": [
    "df_clean = df.drop(df_over_25.index, axis=1)"
   ]
  },
  {
   "cell_type": "code",
   "execution_count": 10,
   "metadata": {
    "ExecuteTime": {
     "end_time": "2020-10-18T21:09:13.205832Z",
     "start_time": "2020-10-18T21:09:13.143334Z"
    }
   },
   "outputs": [
    {
     "data": {
      "text/html": [
       "<div>\n",
       "<style scoped>\n",
       "    .dataframe tbody tr th:only-of-type {\n",
       "        vertical-align: middle;\n",
       "    }\n",
       "\n",
       "    .dataframe tbody tr th {\n",
       "        vertical-align: top;\n",
       "    }\n",
       "\n",
       "    .dataframe thead th {\n",
       "        text-align: right;\n",
       "    }\n",
       "</style>\n",
       "<table border=\"1\" class=\"dataframe\">\n",
       "  <thead>\n",
       "    <tr style=\"text-align: right;\">\n",
       "      <th></th>\n",
       "      <th>Survey ID</th>\n",
       "      <th>Age</th>\n",
       "      <th>Gender</th>\n",
       "      <th>Ethnicity</th>\n",
       "      <th>Marital Status</th>\n",
       "      <th>Education Completed</th>\n",
       "      <th>Household Size</th>\n",
       "      <th>No One</th>\n",
       "      <th>Spouse</th>\n",
       "      <th>Children</th>\n",
       "      <th>...</th>\n",
       "      <th>Social Networks (Non-city-based Ethnic)</th>\n",
       "      <th>People (Non-city-based Ethnic)</th>\n",
       "      <th>Other (Non-city-based Ethnic)</th>\n",
       "      <th>Paper (Non-city-based General)</th>\n",
       "      <th>TV/Radio (Non-city-based General)</th>\n",
       "      <th>Website (Non-city-based General)</th>\n",
       "      <th>Social Networks (Non-city-based General)</th>\n",
       "      <th>People (Non-city-based General)</th>\n",
       "      <th>Other (Non-city-based General)</th>\n",
       "      <th>Preferred Type</th>\n",
       "    </tr>\n",
       "  </thead>\n",
       "  <tbody>\n",
       "    <tr>\n",
       "      <th>0</th>\n",
       "      <td>80314</td>\n",
       "      <td>NaN</td>\n",
       "      <td>NaN</td>\n",
       "      <td>Vietnamese</td>\n",
       "      <td>NaN</td>\n",
       "      <td>NaN</td>\n",
       "      <td>NaN</td>\n",
       "      <td>NaN</td>\n",
       "      <td>NaN</td>\n",
       "      <td>NaN</td>\n",
       "      <td>...</td>\n",
       "      <td>NaN</td>\n",
       "      <td>NaN</td>\n",
       "      <td>NaN</td>\n",
       "      <td>NaN</td>\n",
       "      <td>NaN</td>\n",
       "      <td>NaN</td>\n",
       "      <td>NaN</td>\n",
       "      <td>NaN</td>\n",
       "      <td>NaN</td>\n",
       "      <td>NaN</td>\n",
       "    </tr>\n",
       "    <tr>\n",
       "      <th>1</th>\n",
       "      <td>60171</td>\n",
       "      <td>60.0</td>\n",
       "      <td>Male</td>\n",
       "      <td>Chinese</td>\n",
       "      <td>Married</td>\n",
       "      <td>13.0</td>\n",
       "      <td>6.0</td>\n",
       "      <td>0</td>\n",
       "      <td>0</td>\n",
       "      <td>Living with children</td>\n",
       "      <td>...</td>\n",
       "      <td>NaN</td>\n",
       "      <td>NaN</td>\n",
       "      <td>NaN</td>\n",
       "      <td>NaN</td>\n",
       "      <td>NaN</td>\n",
       "      <td>NaN</td>\n",
       "      <td>NaN</td>\n",
       "      <td>NaN</td>\n",
       "      <td>NaN</td>\n",
       "      <td>NaN</td>\n",
       "    </tr>\n",
       "    <tr>\n",
       "      <th>2</th>\n",
       "      <td>1011601</td>\n",
       "      <td>23.0</td>\n",
       "      <td>Female</td>\n",
       "      <td>Chinese</td>\n",
       "      <td>Single</td>\n",
       "      <td>16.0</td>\n",
       "      <td>3.0</td>\n",
       "      <td>0</td>\n",
       "      <td>0</td>\n",
       "      <td>0</td>\n",
       "      <td>...</td>\n",
       "      <td>No</td>\n",
       "      <td>Yes</td>\n",
       "      <td>No</td>\n",
       "      <td>No</td>\n",
       "      <td>No</td>\n",
       "      <td>No</td>\n",
       "      <td>No</td>\n",
       "      <td>Yes</td>\n",
       "      <td>No</td>\n",
       "      <td>email</td>\n",
       "    </tr>\n",
       "    <tr>\n",
       "      <th>3</th>\n",
       "      <td>50046</td>\n",
       "      <td>73.0</td>\n",
       "      <td>Female</td>\n",
       "      <td>Chinese</td>\n",
       "      <td>Other</td>\n",
       "      <td>13.0</td>\n",
       "      <td>1.0</td>\n",
       "      <td>Living with no one</td>\n",
       "      <td>0</td>\n",
       "      <td>0</td>\n",
       "      <td>...</td>\n",
       "      <td>NaN</td>\n",
       "      <td>NaN</td>\n",
       "      <td>NaN</td>\n",
       "      <td>NaN</td>\n",
       "      <td>NaN</td>\n",
       "      <td>NaN</td>\n",
       "      <td>NaN</td>\n",
       "      <td>NaN</td>\n",
       "      <td>NaN</td>\n",
       "      <td>NaN</td>\n",
       "    </tr>\n",
       "    <tr>\n",
       "      <th>4</th>\n",
       "      <td>10494</td>\n",
       "      <td>29.0</td>\n",
       "      <td>Male</td>\n",
       "      <td>Asian Indian</td>\n",
       "      <td>Single</td>\n",
       "      <td>17.0</td>\n",
       "      <td>1.0</td>\n",
       "      <td>Living with no one</td>\n",
       "      <td>0</td>\n",
       "      <td>0</td>\n",
       "      <td>...</td>\n",
       "      <td>NaN</td>\n",
       "      <td>NaN</td>\n",
       "      <td>NaN</td>\n",
       "      <td>NaN</td>\n",
       "      <td>NaN</td>\n",
       "      <td>NaN</td>\n",
       "      <td>NaN</td>\n",
       "      <td>NaN</td>\n",
       "      <td>NaN</td>\n",
       "      <td>NaN</td>\n",
       "    </tr>\n",
       "  </tbody>\n",
       "</table>\n",
       "<p>5 rows × 217 columns</p>\n",
       "</div>"
      ],
      "text/plain": [
       "   Survey ID   Age  Gender     Ethnicity Marital Status  Education Completed  \\\n",
       "0      80314   NaN     NaN    Vietnamese            NaN                  NaN   \n",
       "1      60171  60.0    Male       Chinese        Married                 13.0   \n",
       "2    1011601  23.0  Female       Chinese         Single                 16.0   \n",
       "3      50046  73.0  Female       Chinese          Other                 13.0   \n",
       "4      10494  29.0    Male  Asian Indian         Single                 17.0   \n",
       "\n",
       "   Household Size              No One Spouse              Children  ...  \\\n",
       "0             NaN                 NaN    NaN                   NaN  ...   \n",
       "1             6.0                   0      0  Living with children  ...   \n",
       "2             3.0                   0      0                     0  ...   \n",
       "3             1.0  Living with no one      0                     0  ...   \n",
       "4             1.0  Living with no one      0                     0  ...   \n",
       "\n",
       "  Social Networks (Non-city-based Ethnic) People (Non-city-based Ethnic)  \\\n",
       "0                                     NaN                            NaN   \n",
       "1                                     NaN                            NaN   \n",
       "2                                      No                            Yes   \n",
       "3                                     NaN                            NaN   \n",
       "4                                     NaN                            NaN   \n",
       "\n",
       "   Other (Non-city-based Ethnic) Paper (Non-city-based General)  \\\n",
       "0                            NaN                            NaN   \n",
       "1                            NaN                            NaN   \n",
       "2                             No                             No   \n",
       "3                            NaN                            NaN   \n",
       "4                            NaN                            NaN   \n",
       "\n",
       "   TV/Radio (Non-city-based General) Website (Non-city-based General)  \\\n",
       "0                                NaN                              NaN   \n",
       "1                                NaN                              NaN   \n",
       "2                                 No                               No   \n",
       "3                                NaN                              NaN   \n",
       "4                                NaN                              NaN   \n",
       "\n",
       "   Social Networks (Non-city-based General) People (Non-city-based General)  \\\n",
       "0                                       NaN                             NaN   \n",
       "1                                       NaN                             NaN   \n",
       "2                                        No                             Yes   \n",
       "3                                       NaN                             NaN   \n",
       "4                                       NaN                             NaN   \n",
       "\n",
       "  Other (Non-city-based General) Preferred Type  \n",
       "0                            NaN            NaN  \n",
       "1                            NaN            NaN  \n",
       "2                             No          email  \n",
       "3                            NaN            NaN  \n",
       "4                            NaN            NaN  \n",
       "\n",
       "[5 rows x 217 columns]"
      ]
     },
     "execution_count": 10,
     "metadata": {},
     "output_type": "execute_result"
    }
   ],
   "source": [
    "df_clean.head()"
   ]
  },
  {
   "cell_type": "markdown",
   "metadata": {},
   "source": [
    "* Let's handle the feature names"
   ]
  },
  {
   "cell_type": "code",
   "execution_count": 11,
   "metadata": {
    "ExecuteTime": {
     "end_time": "2020-10-18T21:09:13.221457Z",
     "start_time": "2020-10-18T21:09:13.205832Z"
    }
   },
   "outputs": [],
   "source": [
    "columns = df_clean.columns\n",
    "discard = r' /-()'\n",
    "c_names = []\n",
    "for column in columns:\n",
    "    t = list(column)\n",
    "    t = [s.lower() for s in t]\n",
    "    for letter in t:\n",
    "        if letter in discard:\n",
    "            index = t.index(letter)\n",
    "            t[index] = '_'\n",
    "    t = ''.join(t)\n",
    "    c_names.append(t)\n",
    "df_clean.columns = c_names"
   ]
  },
  {
   "cell_type": "code",
   "execution_count": 12,
   "metadata": {
    "ExecuteTime": {
     "end_time": "2020-10-18T21:09:13.290478Z",
     "start_time": "2020-10-18T21:09:13.221457Z"
    }
   },
   "outputs": [
    {
     "data": {
      "text/html": [
       "<div>\n",
       "<style scoped>\n",
       "    .dataframe tbody tr th:only-of-type {\n",
       "        vertical-align: middle;\n",
       "    }\n",
       "\n",
       "    .dataframe tbody tr th {\n",
       "        vertical-align: top;\n",
       "    }\n",
       "\n",
       "    .dataframe thead th {\n",
       "        text-align: right;\n",
       "    }\n",
       "</style>\n",
       "<table border=\"1\" class=\"dataframe\">\n",
       "  <thead>\n",
       "    <tr style=\"text-align: right;\">\n",
       "      <th></th>\n",
       "      <th>survey_id</th>\n",
       "      <th>age</th>\n",
       "      <th>gender</th>\n",
       "      <th>ethnicity</th>\n",
       "      <th>marital_status</th>\n",
       "      <th>education_completed</th>\n",
       "      <th>household_size</th>\n",
       "      <th>no_one</th>\n",
       "      <th>spouse</th>\n",
       "      <th>children</th>\n",
       "      <th>...</th>\n",
       "      <th>social_networks__non_city_based_ethnic_</th>\n",
       "      <th>people__non_city_based_ethnic_</th>\n",
       "      <th>other__non_city_based_ethnic_</th>\n",
       "      <th>paper__non_city_based_general_</th>\n",
       "      <th>tv_radio__non_city_based_general_</th>\n",
       "      <th>website__non_city_based_general_</th>\n",
       "      <th>social_networks__non_city_based_general_</th>\n",
       "      <th>people__non_city_based_general_</th>\n",
       "      <th>other__non_city_based_general_</th>\n",
       "      <th>preferred_type</th>\n",
       "    </tr>\n",
       "  </thead>\n",
       "  <tbody>\n",
       "    <tr>\n",
       "      <th>0</th>\n",
       "      <td>80314</td>\n",
       "      <td>NaN</td>\n",
       "      <td>NaN</td>\n",
       "      <td>Vietnamese</td>\n",
       "      <td>NaN</td>\n",
       "      <td>NaN</td>\n",
       "      <td>NaN</td>\n",
       "      <td>NaN</td>\n",
       "      <td>NaN</td>\n",
       "      <td>NaN</td>\n",
       "      <td>...</td>\n",
       "      <td>NaN</td>\n",
       "      <td>NaN</td>\n",
       "      <td>NaN</td>\n",
       "      <td>NaN</td>\n",
       "      <td>NaN</td>\n",
       "      <td>NaN</td>\n",
       "      <td>NaN</td>\n",
       "      <td>NaN</td>\n",
       "      <td>NaN</td>\n",
       "      <td>NaN</td>\n",
       "    </tr>\n",
       "    <tr>\n",
       "      <th>1</th>\n",
       "      <td>60171</td>\n",
       "      <td>60.0</td>\n",
       "      <td>Male</td>\n",
       "      <td>Chinese</td>\n",
       "      <td>Married</td>\n",
       "      <td>13.0</td>\n",
       "      <td>6.0</td>\n",
       "      <td>0</td>\n",
       "      <td>0</td>\n",
       "      <td>Living with children</td>\n",
       "      <td>...</td>\n",
       "      <td>NaN</td>\n",
       "      <td>NaN</td>\n",
       "      <td>NaN</td>\n",
       "      <td>NaN</td>\n",
       "      <td>NaN</td>\n",
       "      <td>NaN</td>\n",
       "      <td>NaN</td>\n",
       "      <td>NaN</td>\n",
       "      <td>NaN</td>\n",
       "      <td>NaN</td>\n",
       "    </tr>\n",
       "    <tr>\n",
       "      <th>2</th>\n",
       "      <td>1011601</td>\n",
       "      <td>23.0</td>\n",
       "      <td>Female</td>\n",
       "      <td>Chinese</td>\n",
       "      <td>Single</td>\n",
       "      <td>16.0</td>\n",
       "      <td>3.0</td>\n",
       "      <td>0</td>\n",
       "      <td>0</td>\n",
       "      <td>0</td>\n",
       "      <td>...</td>\n",
       "      <td>No</td>\n",
       "      <td>Yes</td>\n",
       "      <td>No</td>\n",
       "      <td>No</td>\n",
       "      <td>No</td>\n",
       "      <td>No</td>\n",
       "      <td>No</td>\n",
       "      <td>Yes</td>\n",
       "      <td>No</td>\n",
       "      <td>email</td>\n",
       "    </tr>\n",
       "    <tr>\n",
       "      <th>3</th>\n",
       "      <td>50046</td>\n",
       "      <td>73.0</td>\n",
       "      <td>Female</td>\n",
       "      <td>Chinese</td>\n",
       "      <td>Other</td>\n",
       "      <td>13.0</td>\n",
       "      <td>1.0</td>\n",
       "      <td>Living with no one</td>\n",
       "      <td>0</td>\n",
       "      <td>0</td>\n",
       "      <td>...</td>\n",
       "      <td>NaN</td>\n",
       "      <td>NaN</td>\n",
       "      <td>NaN</td>\n",
       "      <td>NaN</td>\n",
       "      <td>NaN</td>\n",
       "      <td>NaN</td>\n",
       "      <td>NaN</td>\n",
       "      <td>NaN</td>\n",
       "      <td>NaN</td>\n",
       "      <td>NaN</td>\n",
       "    </tr>\n",
       "    <tr>\n",
       "      <th>4</th>\n",
       "      <td>10494</td>\n",
       "      <td>29.0</td>\n",
       "      <td>Male</td>\n",
       "      <td>Asian Indian</td>\n",
       "      <td>Single</td>\n",
       "      <td>17.0</td>\n",
       "      <td>1.0</td>\n",
       "      <td>Living with no one</td>\n",
       "      <td>0</td>\n",
       "      <td>0</td>\n",
       "      <td>...</td>\n",
       "      <td>NaN</td>\n",
       "      <td>NaN</td>\n",
       "      <td>NaN</td>\n",
       "      <td>NaN</td>\n",
       "      <td>NaN</td>\n",
       "      <td>NaN</td>\n",
       "      <td>NaN</td>\n",
       "      <td>NaN</td>\n",
       "      <td>NaN</td>\n",
       "      <td>NaN</td>\n",
       "    </tr>\n",
       "  </tbody>\n",
       "</table>\n",
       "<p>5 rows × 217 columns</p>\n",
       "</div>"
      ],
      "text/plain": [
       "   survey_id   age  gender     ethnicity marital_status  education_completed  \\\n",
       "0      80314   NaN     NaN    Vietnamese            NaN                  NaN   \n",
       "1      60171  60.0    Male       Chinese        Married                 13.0   \n",
       "2    1011601  23.0  Female       Chinese         Single                 16.0   \n",
       "3      50046  73.0  Female       Chinese          Other                 13.0   \n",
       "4      10494  29.0    Male  Asian Indian         Single                 17.0   \n",
       "\n",
       "   household_size              no_one spouse              children  ...  \\\n",
       "0             NaN                 NaN    NaN                   NaN  ...   \n",
       "1             6.0                   0      0  Living with children  ...   \n",
       "2             3.0                   0      0                     0  ...   \n",
       "3             1.0  Living with no one      0                     0  ...   \n",
       "4             1.0  Living with no one      0                     0  ...   \n",
       "\n",
       "  social_networks__non_city_based_ethnic_ people__non_city_based_ethnic_  \\\n",
       "0                                     NaN                            NaN   \n",
       "1                                     NaN                            NaN   \n",
       "2                                      No                            Yes   \n",
       "3                                     NaN                            NaN   \n",
       "4                                     NaN                            NaN   \n",
       "\n",
       "   other__non_city_based_ethnic_ paper__non_city_based_general_  \\\n",
       "0                            NaN                            NaN   \n",
       "1                            NaN                            NaN   \n",
       "2                             No                             No   \n",
       "3                            NaN                            NaN   \n",
       "4                            NaN                            NaN   \n",
       "\n",
       "   tv_radio__non_city_based_general_ website__non_city_based_general_  \\\n",
       "0                                NaN                              NaN   \n",
       "1                                NaN                              NaN   \n",
       "2                                 No                               No   \n",
       "3                                NaN                              NaN   \n",
       "4                                NaN                              NaN   \n",
       "\n",
       "   social_networks__non_city_based_general_ people__non_city_based_general_  \\\n",
       "0                                       NaN                             NaN   \n",
       "1                                       NaN                             NaN   \n",
       "2                                        No                             Yes   \n",
       "3                                       NaN                             NaN   \n",
       "4                                       NaN                             NaN   \n",
       "\n",
       "  other__non_city_based_general_ preferred_type  \n",
       "0                            NaN            NaN  \n",
       "1                            NaN            NaN  \n",
       "2                             No          email  \n",
       "3                            NaN            NaN  \n",
       "4                            NaN            NaN  \n",
       "\n",
       "[5 rows x 217 columns]"
      ]
     },
     "execution_count": 12,
     "metadata": {},
     "output_type": "execute_result"
    }
   ],
   "source": [
    "df_clean.head()"
   ]
  },
  {
   "cell_type": "code",
   "execution_count": 13,
   "metadata": {
    "ExecuteTime": {
     "end_time": "2020-10-18T21:09:13.321725Z",
     "start_time": "2020-10-18T21:09:13.290478Z"
    },
    "scrolled": false
   },
   "outputs": [
    {
     "name": "stdout",
     "output_type": "stream",
     "text": [
      "survey_id, age, gender, ethnicity, marital_status, education_completed, household_size, no_one, spouse, children, grand_children, parent, grandparent, brother_sister, other_relative, friends, other_, religion, full_time_employment, part_time_employment, self_employed_full_time, self_employed_part_time, student, homemaker, disabled, unemployed, retired, other_employement, income, achieving_ends_meet, us_born, duration_of_residency, primary_language, english_speaking, english_difficulties, familiarity_with_america, familiarity_with_ethnic_origin, identify_ethnically, belonging, discrimination_, present_health, present_mental_health, present_oral_health, hygiene_assistance, smoking, drinking, regular_exercise, healthy_diet, hypertension, heart_disease, stroke, diabetes, cancer, arthritis, hepatitis, kidney_problem, asthma, copd, physical_check_up, dentist_check_up, urgentcare, folkmedicine, primary_care, health_insurance, dental_insurance, unmet_health_need, unmet_dental_needs, transportation__medical_, interpretation__medical_, comunication_problem, preferance, language, users, family, close_friend, acquaintances, heal_professionals, mobile_apps, email, social_networks, online_communities, health_website, other, quality_of_life, satisfied_with_life_1, satisfied_with_life_2, psychiatrist, general_practitioner, therapist_counselor_, religious_leader, weakness, shame, disappointment, disclosure, antidepressants, danger, recovery, treatment, counseling, preference, knowledge, diagnosed, concern_for_self__ad_, concern_for_others__ad_, prevention, plan__ad_, education__ad_, services__ad_, language_barrier__ad_, fate__ad_, aging__ad_, embarrassing__ad_, avoidance__ad_, cure__ad_, nursing_home__ad_, advanced_directives, have_an_advanced_directive, superstition, see_family, close_family, helpful_family, see_friends, close_friends, helpful_friends, family_respect, similar_values, successful_family, trust, loyalty, family_pride, expression, spend_time_together, feel_close_, togetherness, religious_attendance, religious_importance, close_knit_community, helpful_community, community_shares_values, get_along, community_trust, residency_, place_to_live, raising_children, place_to_work, small_businesses_, place_to_retire, arts_and_culture, safety, traffic, qualtiy_of_life, quality_of_service, parks_and_recs, libraries, public_safety, airport, austin_energy, court, social_services, aware_of_aarc, visit_frequency_, activities, ems_classes, fire_alarm, public_computer, library_internet_acess, literature, citizenship_class, small_business, english_classes, 9_1_1, 3_1_1, apd_languages_, district, housing_, status_of_ownership, satisfaction_with_housing., nursing_home, smoke_detector, recycle, compost, public_transportation, bicycling, carpooling, personal_car, car_share, walking, other_transportation, access_to_a_computer, mobile_devices, home_phone, public_meeting, council_meeting, contact_city_official, city_election, focus_group, informed, city_effort_satisfaction, paper__city_based_, tv_radio__city_based_, website__city_based_, social_networks__city_based_, people__city_based_, other__city_based_, paper__non_city_based_ethnic_, tv_radio__non_city_based_ethnic_, website__non_city_based_ethnic_, social_networks__non_city_based_ethnic_, people__non_city_based_ethnic_, other__non_city_based_ethnic_, paper__non_city_based_general_, tv_radio__non_city_based_general_, website__non_city_based_general_, social_networks__non_city_based_general_, people__non_city_based_general_, other__non_city_based_general_, preferred_type, "
     ]
    }
   ],
   "source": [
    "_ = [print(column, end=', ') for column in df_clean.columns]"
   ]
  },
  {
   "cell_type": "markdown",
   "metadata": {},
   "source": [
    "### Check for the Open-Ended Questions"
   ]
  },
  {
   "cell_type": "code",
   "execution_count": 14,
   "metadata": {
    "ExecuteTime": {
     "end_time": "2020-10-18T21:09:13.359490Z",
     "start_time": "2020-10-18T21:09:13.328232Z"
    },
    "scrolled": false
   },
   "outputs": [
    {
     "name": "stdout",
     "output_type": "stream",
     "text": [
      "Survey ID, Age, Gender, Ethnicity, Marital Status, Education Completed, Household Size, No One, Spouse, Children, Grand Children, Parent, Grandparent, Brother/Sister, Other Relative, Friends, Other , Other Description, Religion, Religion Other, Full Time Employment, Part Time Employment, Self Employed Full Time, Self Employed Part Time, Student, Homemaker, Disabled, Unemployed, Retired, Other Employement, Other Employment Description, Occupation, Occupation Other, Income, Achieving Ends Meet, US Born, Duration of Residency, Primary Language, English Speaking, English Difficulties, Familiarity with America, Familiarity with Ethnic Origin, Identify Ethnically, Belonging, Discrimination , Present Health, Present Mental Health, Present Oral Health, Hygiene Assistance, Smoking, Drinking, Regular Exercise, Healthy Diet, Hypertension, Heart Disease, Stroke, Diabetes, Cancer, Arthritis, Hepatitis, Kidney Problem, Asthma, COPD, Physical Check-up, Dentist Check-up, Urgentcare, Folkmedicine, Primary Care, Health Insurance, Dental Insurance, Unmet Health Need, Unmet Dental Needs, Transportation (Medical), Interpretation (Medical), Comunication Problem, Preferance, Language, users, Satisfaction, Family, Close Friend, Acquaintances, Heal Professionals, Mobile Apps, Email, Social Networks, Online Communities, Health Website, Other, Health Info Discription, Quality of Life, Satisfied With Life 1, Satisfied With Life 2, Psychiatrist, General Practitioner, Therapist/Counselor , Religious Leader, Weakness, Shame, Disappointment, Disclosure, Antidepressants, Danger, Recovery, Treatment, Counseling, Preference, Knowledge, Diagnosed, Concern for Self (AD), Concern for Others (AD), Prevention, Plan (AD), Education (AD), Services (AD), Language Barrier (AD), Fate (AD), Aging (AD), Embarrassing (AD), Avoidance (AD), Cure (AD), Nursing Home (AD), Advanced Directives, Have an Advanced Directive, Superstition, See Family, Close Family, Helpful Family, See Friends, Close Friends, Helpful Friends, Family Respect, Similar Values, Successful Family, Trust, Loyalty, Family Pride, Expression, Spend Time Together, Feel Close , Togetherness, Religious Attendance, Religious Importance, Close-knit Community, Helpful Community, Community Shares Values, Get Along, Community Trust, Residency , Place to Live, Raising Children, Place to Work, Small Businesses , Place to Retire, Arts and Culture, Safety, Traffic, Qualtiy of Life, Quality of Service, Parks and Recs, Libraries, Public Safety, Airport, Austin Energy, Court, Social Services, Aware of AARC, Visit Frequency , Activities, EMS Classes, Fire Alarm, Public Computer, Library Internet Acess, Literature, Citizenship Class, Small Business, English Classes, 9-1-1, 3-1-1, APD Languages , District, Housing , Housing (Other), Status of Ownership, Status of Ownership (Other), Satisfaction With Housing., Nursing Home, Smoke Detector, Recycle, Compost, Public Transportation, Bicycling, Carpooling, Personal Car, Car Share, Walking, Other Transportation, Other Transportation Description, Access to a Computer, Mobile Devices, Home Phone, Public Meeting, Council Meeting, Contact City Official, City Election, Focus Group, Informed, City Effort Satisfaction, Paper (City-based), TV/Radio (City-based), Website (City-based), Social Networks (City-based), People (City-based), Other (City-based), Other Description (City-based), Paper (Non-city-based Ethnic), TV/Radio (Non-city-based Ethnic), Website (Non-city-based Ethnic), Social Networks (Non-city-based Ethnic), People (Non-city-based Ethnic), Other (Non-city-based Ethnic), Other Description (Non-city-based Ethnic), Paper (Non-city-based General), TV/Radio (Non-city-based General), Website (Non-city-based General), Social Networks (Non-city-based General), People (Non-city-based General), Other (Non-city-based General), Other Description (Non-city-based General), Preferred Type, Concerns, "
     ]
    }
   ],
   "source": [
    "_ = [print(column, end=', ') for column in df.columns]"
   ]
  },
  {
   "cell_type": "code",
   "execution_count": 15,
   "metadata": {
    "ExecuteTime": {
     "end_time": "2020-10-18T21:09:13.375115Z",
     "start_time": "2020-10-18T21:09:13.359490Z"
    }
   },
   "outputs": [
    {
     "data": {
      "text/plain": [
       "array([nan,  0.])"
      ]
     },
     "execution_count": 15,
     "metadata": {},
     "output_type": "execute_result"
    }
   ],
   "source": [
    "df_clean.other_.unique()"
   ]
  },
  {
   "cell_type": "code",
   "execution_count": 16,
   "metadata": {
    "ExecuteTime": {
     "end_time": "2020-10-18T21:09:13.406364Z",
     "start_time": "2020-10-18T21:09:13.375115Z"
    }
   },
   "outputs": [
    {
     "data": {
      "text/plain": [
       "array([nan,  0.])"
      ]
     },
     "execution_count": 16,
     "metadata": {},
     "output_type": "execute_result"
    }
   ],
   "source": [
    "df_clean.other_employement.unique()"
   ]
  },
  {
   "cell_type": "code",
   "execution_count": 17,
   "metadata": {
    "ExecuteTime": {
     "end_time": "2020-10-18T21:09:13.421990Z",
     "start_time": "2020-10-18T21:09:13.406364Z"
    }
   },
   "outputs": [
    {
     "data": {
      "text/plain": [
       "array([nan,  0.,  1.])"
      ]
     },
     "execution_count": 17,
     "metadata": {},
     "output_type": "execute_result"
    }
   ],
   "source": [
    "df_clean.other.unique()"
   ]
  },
  {
   "cell_type": "code",
   "execution_count": 18,
   "metadata": {
    "ExecuteTime": {
     "end_time": "2020-10-18T21:09:13.459758Z",
     "start_time": "2020-10-18T21:09:13.421990Z"
    }
   },
   "outputs": [
    {
     "data": {
      "text/plain": [
       "array([nan, 'Apartment/ Townhouse/ Condominium', 'One-family house', '5',\n",
       "       'Mobile house', 'Two-family house/ duplex', '6'], dtype=object)"
      ]
     },
     "execution_count": 18,
     "metadata": {},
     "output_type": "execute_result"
    }
   ],
   "source": [
    "df_clean.housing_.unique()"
   ]
  },
  {
   "cell_type": "code",
   "execution_count": 19,
   "metadata": {
    "ExecuteTime": {
     "end_time": "2020-10-18T21:09:13.491007Z",
     "start_time": "2020-10-18T21:09:13.459758Z"
    }
   },
   "outputs": [
    {
     "data": {
      "text/plain": [
       "array([nan,  0.,  1.])"
      ]
     },
     "execution_count": 19,
     "metadata": {},
     "output_type": "execute_result"
    }
   ],
   "source": [
    "df_clean.other_transportation.unique()"
   ]
  },
  {
   "cell_type": "code",
   "execution_count": 20,
   "metadata": {
    "ExecuteTime": {
     "end_time": "2020-10-18T21:09:13.522255Z",
     "start_time": "2020-10-18T21:09:13.491007Z"
    },
    "scrolled": false
   },
   "outputs": [
    {
     "data": {
      "text/plain": [
       "array([nan, 'email', 'TV, News', 'Wechat, chinese newspaper', 'internet',\n",
       "       'Social networking', 'Internet', 'social network',\n",
       "       'Chinese website', 'Chinese', 'facebook', 'Phone', 'Email',\n",
       "       'TV, Website', 'FB, TV', 'chinese organizations', 'phone call',\n",
       "       'flyers, social media, teach-in activities',\n",
       "       'internet, mobile apps, internet', 'people', 'Website',\n",
       "       'government website', 'social media', 'website',\n",
       "       'internet, newspaper', 'internet and social network',\n",
       "       'flyers/handbooks', 'intenet', 'news', 'text message',\n",
       "       'Wechat, LINE', 'Internet, email', 'message, internet',\n",
       "       'TV/ Website', 'no', 'internet and newspaper', 'mobile phone',\n",
       "       'information brought home by children', 'Social Media/ Newsletter',\n",
       "       'email, web, TV', 'Wechat (a messeging software...)',\n",
       "       'internet, TV', 'Social Media', 'Newspaper, internet',\n",
       "       'facebook, Pinterest', 'weibo, wechat', 'TV',\n",
       "       'newspaper, internet', 'SNS', 'personnel', 'telephone', 'phone',\n",
       "       'facebook, twitter', 'email or public media', 'webbased',\n",
       "       'Facebook', 'None', 'network', 'SNS, People', 'website, TV/Radio',\n",
       "       'Internet, Email', 'TV/radio', 'social networking and meet ups',\n",
       "       'email, university teach-ins', 'not necessary', 'newspaper',\n",
       "       'email/newspaper/website', 'Radio, websites',\n",
       "       'SNS/ Twitter/ Facebook', 'Facebook; weibo; line; wechat', 'AARC',\n",
       "       'Website; email', 'mail, email, internet',\n",
       "       'internet, TV, brochure', 'news, weather', 'internet, wechat',\n",
       "       'internet, TV, newspaper', 'newspaper/network', 'Email, text',\n",
       "       'newspaper and magazine', 'website, social network',\n",
       "       'Internet, nwespaer', 'website, email', 'Website, News',\n",
       "       'Email/ Phone Call/ Text',\n",
       "       'Chinese newspaper and magazine in Supermarkets',\n",
       "       'Mails/ Impact newspaper/ Radio (NPR)', 'newspaper, TV', 'no need',\n",
       "       'email, website', 'news channel', 'internet, app',\n",
       "       'chinese ethnic organizations', 'newspaper,', 'website or email',\n",
       "       'Email, internet', 'Internet articles', 'ATXN', 'TV, Internet',\n",
       "       'Newspaper', 'Line', 'Newsletter/ Radio',\n",
       "       'local chinese newspaper/magazine (e.g. Austin Capital News); Impact',\n",
       "       'Social network', 'socail network', 'email, sns',\n",
       "       'newspaper, radio', 'Internet, TV', 'Website/news',\n",
       "       'internet, mobile app', 'email, wechat', 'web', 'Tv & Internet',\n",
       "       'SMS message', 'email, websites, and Facebook',\n",
       "       'Website, Newspaper', 'library', 'Newpaper, Newsletter, magazine',\n",
       "       'Online/ Email', 'mail', 'Internet&TV', 'Online', 'email is fine',\n",
       "       'wechat, internet', 'weibo', 'Email; Facebook', 'TV & Website',\n",
       "       'TV news', 'Statesman', 'Web', 'Radio',\n",
       "       'website, newspaper, radio, TV', 'email, internet',\n",
       "       'internet/newsletter', 'na', 'twitter, TV, Radio',\n",
       "       'internet, social network', 'Social Media, radio',\n",
       "       'TV, internet, newspaper, wechat', 'chinese newspaper',\n",
       "       'Line, wechat (social networking sites)', 'Website/ Newsletter',\n",
       "       'Next door', 'Local Neighborhood Newspaper', 'TV, internet',\n",
       "       'Wechat', 'radio, community newspaper', 'wechat', 'Email/ Website',\n",
       "       'chinese newspaper, TV, Computer and internet', 'Newspaper, email',\n",
       "       'phone app', 'facebook, wechat', 'Chinese magazine', 'online',\n",
       "       'website or SNS', 'internet, email', 'Website/ Email',\n",
       "       'Social media, online news', 'news on tv or social media',\n",
       "       'tv, internet', 'News/TV', 'TV News or online news', 'TV News',\n",
       "       'Internet/email', 'email, local news media',\n",
       "       'email via asian organizations', 'news or web', 'TV/ Radio',\n",
       "       'Email; web; radio', 'facebook/email', 'TV, Radio',\n",
       "       'radio, internet', 'Website, Mail', 'TV, Radio, Website, Library',\n",
       "       'website, online', 'Facebook&Line', 'Chinese Newspaper',\n",
       "       'email, newsletter', 'Newsletter, Web',\n",
       "       'TV, internet and newspaper', 'none', 'Flyer/email',\n",
       "       'TV/ Internet', 'Newspaper/ TV', 'social media, political culture',\n",
       "       'Weibo', 'TV, newspaper', 'FB', 'TV broadcast',\n",
       "       'Chinese newspaper', 'Newspaper, Website, SNS',\n",
       "       'local organization, TV and Internet', 'website and newsletter',\n",
       "       'TV, email', 'Internet, Magazine', 'Gov Website',\n",
       "       'recreational activity', 'Website, Facebook', 'TV and Facebook',\n",
       "       'TV, facebook', 'E-news, Nextdoor', 'internet and radio',\n",
       "       'TV, newspaper, email', 'Telephone', 'email/website',\n",
       "       'social networking and website', 'TV/Facebook', 'Newspapers',\n",
       "       'Facebook, Radio', 'Mail, TV', 'Mail, TV, Newspaper',\n",
       "       'Website, Alert', 'emails', 'Mail', 'Phone, mail', 'Radio Station',\n",
       "       'newsletter', 'G-mail', 'Social media and radio',\n",
       "       'Internet, media', 'emails, e-newsletters, website',\n",
       "       'rajitha.kirankumar@gmail.com', 'Newspaper and website',\n",
       "       'Social Networking', 'internet and website', 'website and email',\n",
       "       'Social network, online news',\n",
       "       'social networking service, website', 'online and website',\n",
       "       'Social Network Service', 'TV/Radio, hordings, oral communcation',\n",
       "       'social networking; website', 'Websites',\n",
       "       'Social networking, TV, and Newspaper', 'English',\n",
       "       'Website and SNS', 'Website, social networking site (FB)',\n",
       "       'Mail/Social Media', 'People', 'Public Transportation',\n",
       "       'Text msg, email', 'Email, newsletters, web', 'Website, mail',\n",
       "       'mail by post', 'Radio, TV', 'Google', 'SNS, Website, Gathering',\n",
       "       'Email; SNS', 'Email, sns', 'Internet (website)', 'Mobile',\n",
       "       'Radio/TV', 'Internet, FB, Twitter', 'acquaintances',\n",
       "       'Email, website', 'email and online', 'Newsletter and email',\n",
       "       'SNS, TV', 'Radio, SNS', 'Internet, Facebook', 'Website, Phone',\n",
       "       'Text, Email', 'Website or Internet', 'FM Radio',\n",
       "       'Email and Facebook', 'klebaili and TV', 'TV/Radio station',\n",
       "       'Newsletters/Magazines', 'Facebook, SNS, and Email',\n",
       "       'Email, social networking', 'Newspaper & websites', 'Car',\n",
       "       'Online website, internet', 'website and social media',\n",
       "       'Facebook, Twitter, phone', 'web and email', 'Website/newsletter',\n",
       "       'TV through cable', 'Newsletter', 'Email, social network', 'Paper',\n",
       "       'email, radio', 'Email, Website', 'TV/radio & Website',\n",
       "       'Facebook, email', 'Website/online', 'English online',\n",
       "       'Radio/News Channel KXAN', 'Newspaper, TV/Radio station',\n",
       "       'TV, radio', 'Social networking (Facebook, twitter)',\n",
       "       'Website, email', 'Television', 'tupu_patel@gmail.com',\n",
       "       'internet, website, and social media',\n",
       "       'Website, email, and phone.', 'Phone or email', 'TV/Radio',\n",
       "       'Social networking service', 'Website, People', 'Webiste',\n",
       "       'English spoken', 'Facebook, TV, radio', 'Social network/mail',\n",
       "       'Best City Austin', 'SNS, Email', 'Public Broadcast, TV/Radio',\n",
       "       'Mail (magazine)', 'SNS; TV/radio; Facebook',\n",
       "       'Website, Newsletter', 'Website and Social Networking sites',\n",
       "       'Social networking site', 'Email; news', 'Website online',\n",
       "       'Broadcasting', 'NPR', 'Website and sns', 'Newsletter, TV, Radio',\n",
       "       'TV, Newspaper, website', 'Newspaper, TV, Website', 'KUT',\n",
       "       'Website; SNS', 'APP', 'radio and signboards', 'Online Newsletter',\n",
       "       'Website. Newspaper', 'Cellphone', 'Email, telephone',\n",
       "       'Magazine Impact & Focus Points', 'internet and email',\n",
       "       'Walk-in/phone', 'TV, website',\n",
       "       'Public notices in newspaper articles and news/reminders on phones',\n",
       "       'News', 'Social networking/friends', 'Newspaper, TV, website,',\n",
       "       'News Channel', 'TV or Newspaper', 'Regular mail',\n",
       "       'Radio, Website, Email', 'TV/Internet', 'TV, SNS',\n",
       "       'Media & Internet', 'Goggle News', 'network, emails', 'Radio/News',\n",
       "       'People, Family, Newsletter', 'Newsletter, people',\n",
       "       'Facebook and Email', 'Website, next door, news station',\n",
       "       'radio or TV', 'Radio, Television',\n",
       "       'Newspaper, newsletter, people', 'Newspaper and TV',\n",
       "       'Email, newspaper', 'Radio, TV, newspaper', 'Email/newsletter',\n",
       "       'School', 'N/a', 'newspaper or website',\n",
       "       'Mobile phone - social network',\n",
       "       'newsletter, newspaper, and magazine', 'School, TV',\n",
       "       'mobile internet & email', 'Email, or mail', 'radio', 'E-mail',\n",
       "       'SMS', 'newspaper & internet', 'People around me.',\n",
       "       'korean newspaper', 'text', 'tv', 'internet website',\n",
       "       'townpaper, TV', 'News paper', 'No interest',\n",
       "       'Internet, Newspaper',\n",
       "       'newspaper, informational news letter, magazine & TV',\n",
       "       'Smart phone app', 'Post mail',\n",
       "       'Email and local newspaper (\"Impact\").', 'SNS & website',\n",
       "       'Email/TV', 'newspaper/newsletter/magazine', 'Newpaper',\n",
       "       'Email, SNS', 'twitter; google', 'Online news', 'flyer & website',\n",
       "       'sns, newsletter', 'internet or acquaintances', 'email; website',\n",
       "       'Newspapers/ Flyer is enough', 'computer', 'Newpaper, website',\n",
       "       'SNS, people', 'internet and facebook',\n",
       "       'Newspaper, Korean website', 'Email and website.', 'Event',\n",
       "       'Newspaper, Website', 'Korean Informationals', 'Newspaper, Radio',\n",
       "       'email & SNS', 'Newsletters, Radio', 'TV/radio/mail',\n",
       "       'close friends + family', 'Internet news', 'city newsletter',\n",
       "       'Face book', 'From Friends and Family', 'radio station',\n",
       "       'Newspaper, Magazine', 'Korean News paper', 'radio & website',\n",
       "       'City of Austin website and social networking', 'email & news',\n",
       "       'newspaper, tv & SNS', 'Computer or internet', 'TV news and email',\n",
       "       'People (Husband)', 'TV & internet', 'email and korean newsletter',\n",
       "       'newspaper, tv, korean community', 'Korean neighbors',\n",
       "       'Internet website', 'newspaper, website', 'Newspaper and website.',\n",
       "       'newspaper & TV', 'email. radio, ad', 'TV or Website or people',\n",
       "       'news and web search', 'facebook & twitter',\n",
       "       'Channel 8 News (YNN), community impact newsletter KUT', 'media',\n",
       "       'Radio, TV, Newspaper, Magazine', 'Internet/website',\n",
       "       'Website (mobile)', 'Korean Newspaper', 'city website',\n",
       "       'social networking', 'radio, SNS, postcard', 'Facebook, News',\n",
       "       'Through Korean Committee', 'Internet, Radio', 'online news',\n",
       "       'online-sns', 'Newspaper and internet websites.',\n",
       "       'TV and newspaper.', 'magazine', 'ethnic newspaper',\n",
       "       'people/friends', 'website, twitter', 'Good neighborhood',\n",
       "       'Newspaper, TV', 'Email; website', 'Police and TV',\n",
       "       'Information handed out at the Korean Grocery Store',\n",
       "       'Korean People', 'TV and News', 'newspaper, tv & korean newspaper',\n",
       "       'Newspaper, Church, friends', 'From next door', 'TV, Newspaper',\n",
       "       'Newspapers, magazines, bulletins', 'Youth newspapers', 'TV, Web',\n",
       "       'TV, Website, Email', 'Website, TV', 'newspaper, magazine',\n",
       "       'Vietnamese community', 'Newspaper, Radio, Film',\n",
       "       'International student', 'Vietnamese Community', 'Social Network',\n",
       "       'Traffic', 'Social media', 'Newspapers, Social Networks',\n",
       "       'Television, newspapers', 'TV, or from childern',\n",
       "       'SNS, Newspaper, Radio, TV', 'School newspaper', 'Twitter',\n",
       "       'Newspaper, News', 'Nextdoor', 'Mailbox', 'Television, Websites',\n",
       "       'People around', 'Television, Radio, Website', 'acquaintance',\n",
       "       'TV/ radio station', 'TV, Radio, News', 'Television, Radio VN',\n",
       "       'Website, SNS', 'facebook and email', 'Phone call',\n",
       "       'TV, co-workers, friends', 'Vietnamese in Austin', 'Wbsite',\n",
       "       'Newspaper, magazine, TV, Radio', 'Intenet', 'Facebook, Website',\n",
       "       'Mail, Website', 'Facebook. Newspapers', 'Website & newspaper',\n",
       "       'Newspaper, SNS', 'Facebook, Social Apps', 'Newspapers/Bulletin',\n",
       "       'SNS, TV/Radio, Website', 'TV ad', 'Email/website',\n",
       "       'Television, Website', 'Email, News', 'Newspaper/ letters',\n",
       "       'Update Information and Report on newspapers such as Youth Newspaper',\n",
       "       'Website, Email', 'Mail or email', 'Do not know how to use',\n",
       "       'Television, Radio', 'TELEVISION', 'Mobile Phone',\n",
       "       'TV, Radio, Newsletter', 'Email, Newsletter', 'TV/Radio/Newspaper',\n",
       "       'Email/internet', 'NPR, Public Radio', 'Austin', 'Magazines',\n",
       "       'the citizens/people', 'Twitter, Facebook, TV', 'Local News',\n",
       "       'Word of Mouth, Online, Social Media', 'Friends',\n",
       "       'Radio, Social media', 'TV/Website', 'Newspaper, Radio, Website',\n",
       "       'Television, Internet', 'Websites, Email', 'TV, News, SNS',\n",
       "       'website, newspaper', \"City Council's Staff\", 'Email/Radio',\n",
       "       'Citizenship application', 'Newspaper, TV, Websitr', 'Letter',\n",
       "       'Newspaper, TV, Radio, Website',\n",
       "       'Local TV News, KXAN, KEYE, 6&10pm News', 'Text or Email',\n",
       "       'Bullentin, Newspaper', 'TV, Radio, website', 'Local TV News',\n",
       "       'Sports + Music', 'Newsletters', 'Television news',\n",
       "       'Website or phone', 'Mass Media (Tv, Radio)',\n",
       "       'Newspaper and internet', 'EMAIL',\n",
       "       'Cell phone, social media, city website, 360Austin.com',\n",
       "       'Social media, friends', 'Free Newspaper',\n",
       "       'Scial network, internet', 'Email/Newspaper',\n",
       "       'TV/Radio/Networking', 'English, Mandarin Chinese',\n",
       "       'Newspaper of Facebook', 'Twitter, facebook', 'TV, news',\n",
       "       'TV; website', 'News; TV', 'Phone/ social media',\n",
       "       'Websites; newspapers; social media', 'TV, newspaper, people',\n",
       "       'my address', 'newspaper/online', 'Internet; Social media',\n",
       "       'newspaper,magazine', 'Website; newspaper', 'Text/Email', 'AFSA',\n",
       "       'Internet and web based communication',\n",
       "       'Website, people, newsletter', 'Filipino Austin', 'Website; text',\n",
       "       'Website; email; FB', 'email; facebook',\n",
       "       'Balita (Tagalog Newspaper)', 'TV; Newspaper',\n",
       "       'Newspaper; Newsletter', 'web, internet', 'Facebook, TV',\n",
       "       'TV; newspaper', 'Newspaper; website', 'Internet; social media',\n",
       "       'Website and news', 'TV; Facebook', 'Flyers', 'Website; internet',\n",
       "       'Website; news', 'Social network/internet', 'Website (email)',\n",
       "       'English/newspaper/tv', 'Phone call; tv', 'Parks, trails',\n",
       "       'Radio & SNS', 'Email, twitter, facebook', 'Email or TV',\n",
       "       'Phone, Email', 'Art', 'City Website', 'Cable TV',\n",
       "       'Social Networking (Facebook)', 'Newsletter and website',\n",
       "       'TV/radio station', 'Mail or Emails', 'social networking services',\n",
       "       'App, Email, and Website', 'SSN', 'Word of Mouth',\n",
       "       'SNS, Website, people', 'education', 'english', 'email, wesbsite',\n",
       "       'Newspaper/newsletter/magazine, social networking',\n",
       "       'email, SNS, website', 'letter', 'Websites, SNS',\n",
       "       'website, mobile phone', 'TV/ Newspapeer', 'Website/TV',\n",
       "       'web, mobile, email, etc.', 'Telephone, Email',\n",
       "       'KXAN Website, TV, Internet', 'newsletters',\n",
       "       'Social networking/email', 'website and TV', 'English Language',\n",
       "       'email; text'], dtype=object)"
      ]
     },
     "execution_count": 20,
     "metadata": {},
     "output_type": "execute_result"
    }
   ],
   "source": [
    "df_clean.preferred_type.unique()"
   ]
  },
  {
   "cell_type": "code",
   "execution_count": 21,
   "metadata": {
    "ExecuteTime": {
     "end_time": "2020-10-18T21:09:13.544395Z",
     "start_time": "2020-10-18T21:09:13.522255Z"
    }
   },
   "outputs": [
    {
     "data": {
      "text/plain": [
       "0.9551552318896128"
      ]
     },
     "execution_count": 21,
     "metadata": {},
     "output_type": "execute_result"
    }
   ],
   "source": [
    "# checks how many percent of the data is given 0\n",
    "# do not include missing values\n",
    "1-(df_clean.other.sum()/df_clean.shape[0])"
   ]
  },
  {
   "cell_type": "code",
   "execution_count": 22,
   "metadata": {
    "ExecuteTime": {
     "end_time": "2020-10-18T21:09:13.606895Z",
     "start_time": "2020-10-18T21:09:13.544395Z"
    },
    "scrolled": true
   },
   "outputs": [
    {
     "data": {
      "text/html": [
       "<div>\n",
       "<style scoped>\n",
       "    .dataframe tbody tr th:only-of-type {\n",
       "        vertical-align: middle;\n",
       "    }\n",
       "\n",
       "    .dataframe tbody tr th {\n",
       "        vertical-align: top;\n",
       "    }\n",
       "\n",
       "    .dataframe thead th {\n",
       "        text-align: right;\n",
       "    }\n",
       "</style>\n",
       "<table border=\"1\" class=\"dataframe\">\n",
       "  <thead>\n",
       "    <tr style=\"text-align: right;\">\n",
       "      <th></th>\n",
       "      <th>survey_id</th>\n",
       "      <th>age</th>\n",
       "      <th>gender</th>\n",
       "      <th>ethnicity</th>\n",
       "      <th>marital_status</th>\n",
       "      <th>education_completed</th>\n",
       "      <th>household_size</th>\n",
       "      <th>no_one</th>\n",
       "      <th>spouse</th>\n",
       "      <th>children</th>\n",
       "      <th>...</th>\n",
       "      <th>social_networks__non_city_based_ethnic_</th>\n",
       "      <th>people__non_city_based_ethnic_</th>\n",
       "      <th>other__non_city_based_ethnic_</th>\n",
       "      <th>paper__non_city_based_general_</th>\n",
       "      <th>tv_radio__non_city_based_general_</th>\n",
       "      <th>website__non_city_based_general_</th>\n",
       "      <th>social_networks__non_city_based_general_</th>\n",
       "      <th>people__non_city_based_general_</th>\n",
       "      <th>other__non_city_based_general_</th>\n",
       "      <th>preferred_type</th>\n",
       "    </tr>\n",
       "  </thead>\n",
       "  <tbody>\n",
       "    <tr>\n",
       "      <th>2490</th>\n",
       "      <td>10473</td>\n",
       "      <td>42.0</td>\n",
       "      <td>Female</td>\n",
       "      <td>Other</td>\n",
       "      <td>Married</td>\n",
       "      <td>17.0</td>\n",
       "      <td>3.0</td>\n",
       "      <td>0</td>\n",
       "      <td>0</td>\n",
       "      <td>Living with children</td>\n",
       "      <td>...</td>\n",
       "      <td>No</td>\n",
       "      <td>Yes</td>\n",
       "      <td>No</td>\n",
       "      <td>No</td>\n",
       "      <td>No</td>\n",
       "      <td>Yes</td>\n",
       "      <td>No</td>\n",
       "      <td>Yes</td>\n",
       "      <td>No</td>\n",
       "      <td>NaN</td>\n",
       "    </tr>\n",
       "  </tbody>\n",
       "</table>\n",
       "<p>1 rows × 217 columns</p>\n",
       "</div>"
      ],
      "text/plain": [
       "      survey_id   age  gender ethnicity marital_status  education_completed  \\\n",
       "2490      10473  42.0  Female     Other        Married                 17.0   \n",
       "\n",
       "      household_size no_one spouse              children  ...  \\\n",
       "2490             3.0      0      0  Living with children  ...   \n",
       "\n",
       "     social_networks__non_city_based_ethnic_ people__non_city_based_ethnic_  \\\n",
       "2490                                      No                            Yes   \n",
       "\n",
       "      other__non_city_based_ethnic_ paper__non_city_based_general_  \\\n",
       "2490                             No                             No   \n",
       "\n",
       "      tv_radio__non_city_based_general_ website__non_city_based_general_  \\\n",
       "2490                                 No                              Yes   \n",
       "\n",
       "      social_networks__non_city_based_general_  \\\n",
       "2490                                        No   \n",
       "\n",
       "     people__non_city_based_general_ other__non_city_based_general_  \\\n",
       "2490                             Yes                             No   \n",
       "\n",
       "     preferred_type  \n",
       "2490            NaN  \n",
       "\n",
       "[1 rows x 217 columns]"
      ]
     },
     "execution_count": 22,
     "metadata": {},
     "output_type": "execute_result"
    }
   ],
   "source": [
    "# checks how many of the data points is 6 - miscoded\n",
    "df_clean[df_clean.housing_=='6']"
   ]
  },
  {
   "cell_type": "code",
   "execution_count": 23,
   "metadata": {
    "ExecuteTime": {
     "end_time": "2020-10-18T21:09:13.622520Z",
     "start_time": "2020-10-18T21:09:13.606895Z"
    }
   },
   "outputs": [
    {
     "data": {
      "text/plain": [
       "59"
      ]
     },
     "execution_count": 23,
     "metadata": {},
     "output_type": "execute_result"
    }
   ],
   "source": [
    "# checks how many of the data points is 5 - miscoded\n",
    "df_clean[df_clean.housing_=='5'].shape[0]"
   ]
  },
  {
   "cell_type": "code",
   "execution_count": 24,
   "metadata": {
    "ExecuteTime": {
     "end_time": "2020-10-18T21:09:13.660283Z",
     "start_time": "2020-10-18T21:09:13.622520Z"
    }
   },
   "outputs": [
    {
     "data": {
      "text/plain": [
       "0.9773859716366424"
      ]
     },
     "execution_count": 24,
     "metadata": {},
     "output_type": "execute_result"
    }
   ],
   "source": [
    "# most probably represents respondends who select `other` choice\n",
    "# the percentage of respondends that are not encoded '5'\n",
    "# very close the missing value ratio\n",
    "1-(df_clean[df_clean.housing_=='5'].shape[0]/df_clean.shape[0])"
   ]
  },
  {
   "cell_type": "code",
   "execution_count": 25,
   "metadata": {
    "ExecuteTime": {
     "end_time": "2020-10-18T21:09:13.691532Z",
     "start_time": "2020-10-18T21:09:13.660283Z"
    },
    "scrolled": true
   },
   "outputs": [
    {
     "data": {
      "text/plain": [
       "0.9762361057876581"
      ]
     },
     "execution_count": 25,
     "metadata": {},
     "output_type": "execute_result"
    }
   ],
   "source": [
    "# most probably represents people who chose 'other'\n",
    "df_clean[df_clean.other_transportation==0].shape[0]/df_clean.shape[0]"
   ]
  },
  {
   "cell_type": "markdown",
   "metadata": {},
   "source": [
    "### Drop Open-Ended Questions"
   ]
  },
  {
   "cell_type": "code",
   "execution_count": 26,
   "metadata": {
    "ExecuteTime": {
     "end_time": "2020-10-18T21:09:13.707158Z",
     "start_time": "2020-10-18T21:09:13.691532Z"
    }
   },
   "outputs": [],
   "source": [
    "open_ended = ['other_', 'other_employement', 'other',\n",
    "              'other_transportation', 'preferred_type']\n",
    "df_clean.drop(open_ended, axis=1, inplace=True)"
   ]
  },
  {
   "cell_type": "code",
   "execution_count": 27,
   "metadata": {
    "ExecuteTime": {
     "end_time": "2020-10-18T21:09:13.776173Z",
     "start_time": "2020-10-18T21:09:13.707158Z"
    }
   },
   "outputs": [
    {
     "data": {
      "text/html": [
       "<div>\n",
       "<style scoped>\n",
       "    .dataframe tbody tr th:only-of-type {\n",
       "        vertical-align: middle;\n",
       "    }\n",
       "\n",
       "    .dataframe tbody tr th {\n",
       "        vertical-align: top;\n",
       "    }\n",
       "\n",
       "    .dataframe thead th {\n",
       "        text-align: right;\n",
       "    }\n",
       "</style>\n",
       "<table border=\"1\" class=\"dataframe\">\n",
       "  <thead>\n",
       "    <tr style=\"text-align: right;\">\n",
       "      <th></th>\n",
       "      <th>survey_id</th>\n",
       "      <th>age</th>\n",
       "      <th>gender</th>\n",
       "      <th>ethnicity</th>\n",
       "      <th>marital_status</th>\n",
       "      <th>education_completed</th>\n",
       "      <th>household_size</th>\n",
       "      <th>no_one</th>\n",
       "      <th>spouse</th>\n",
       "      <th>children</th>\n",
       "      <th>...</th>\n",
       "      <th>website__non_city_based_ethnic_</th>\n",
       "      <th>social_networks__non_city_based_ethnic_</th>\n",
       "      <th>people__non_city_based_ethnic_</th>\n",
       "      <th>other__non_city_based_ethnic_</th>\n",
       "      <th>paper__non_city_based_general_</th>\n",
       "      <th>tv_radio__non_city_based_general_</th>\n",
       "      <th>website__non_city_based_general_</th>\n",
       "      <th>social_networks__non_city_based_general_</th>\n",
       "      <th>people__non_city_based_general_</th>\n",
       "      <th>other__non_city_based_general_</th>\n",
       "    </tr>\n",
       "  </thead>\n",
       "  <tbody>\n",
       "    <tr>\n",
       "      <th>0</th>\n",
       "      <td>80314</td>\n",
       "      <td>NaN</td>\n",
       "      <td>NaN</td>\n",
       "      <td>Vietnamese</td>\n",
       "      <td>NaN</td>\n",
       "      <td>NaN</td>\n",
       "      <td>NaN</td>\n",
       "      <td>NaN</td>\n",
       "      <td>NaN</td>\n",
       "      <td>NaN</td>\n",
       "      <td>...</td>\n",
       "      <td>NaN</td>\n",
       "      <td>NaN</td>\n",
       "      <td>NaN</td>\n",
       "      <td>NaN</td>\n",
       "      <td>NaN</td>\n",
       "      <td>NaN</td>\n",
       "      <td>NaN</td>\n",
       "      <td>NaN</td>\n",
       "      <td>NaN</td>\n",
       "      <td>NaN</td>\n",
       "    </tr>\n",
       "    <tr>\n",
       "      <th>1</th>\n",
       "      <td>60171</td>\n",
       "      <td>60.0</td>\n",
       "      <td>Male</td>\n",
       "      <td>Chinese</td>\n",
       "      <td>Married</td>\n",
       "      <td>13.0</td>\n",
       "      <td>6.0</td>\n",
       "      <td>0</td>\n",
       "      <td>0</td>\n",
       "      <td>Living with children</td>\n",
       "      <td>...</td>\n",
       "      <td>NaN</td>\n",
       "      <td>NaN</td>\n",
       "      <td>NaN</td>\n",
       "      <td>NaN</td>\n",
       "      <td>NaN</td>\n",
       "      <td>NaN</td>\n",
       "      <td>NaN</td>\n",
       "      <td>NaN</td>\n",
       "      <td>NaN</td>\n",
       "      <td>NaN</td>\n",
       "    </tr>\n",
       "    <tr>\n",
       "      <th>2</th>\n",
       "      <td>1011601</td>\n",
       "      <td>23.0</td>\n",
       "      <td>Female</td>\n",
       "      <td>Chinese</td>\n",
       "      <td>Single</td>\n",
       "      <td>16.0</td>\n",
       "      <td>3.0</td>\n",
       "      <td>0</td>\n",
       "      <td>0</td>\n",
       "      <td>0</td>\n",
       "      <td>...</td>\n",
       "      <td>No</td>\n",
       "      <td>No</td>\n",
       "      <td>Yes</td>\n",
       "      <td>No</td>\n",
       "      <td>No</td>\n",
       "      <td>No</td>\n",
       "      <td>No</td>\n",
       "      <td>No</td>\n",
       "      <td>Yes</td>\n",
       "      <td>No</td>\n",
       "    </tr>\n",
       "    <tr>\n",
       "      <th>3</th>\n",
       "      <td>50046</td>\n",
       "      <td>73.0</td>\n",
       "      <td>Female</td>\n",
       "      <td>Chinese</td>\n",
       "      <td>Other</td>\n",
       "      <td>13.0</td>\n",
       "      <td>1.0</td>\n",
       "      <td>Living with no one</td>\n",
       "      <td>0</td>\n",
       "      <td>0</td>\n",
       "      <td>...</td>\n",
       "      <td>NaN</td>\n",
       "      <td>NaN</td>\n",
       "      <td>NaN</td>\n",
       "      <td>NaN</td>\n",
       "      <td>NaN</td>\n",
       "      <td>NaN</td>\n",
       "      <td>NaN</td>\n",
       "      <td>NaN</td>\n",
       "      <td>NaN</td>\n",
       "      <td>NaN</td>\n",
       "    </tr>\n",
       "    <tr>\n",
       "      <th>4</th>\n",
       "      <td>10494</td>\n",
       "      <td>29.0</td>\n",
       "      <td>Male</td>\n",
       "      <td>Asian Indian</td>\n",
       "      <td>Single</td>\n",
       "      <td>17.0</td>\n",
       "      <td>1.0</td>\n",
       "      <td>Living with no one</td>\n",
       "      <td>0</td>\n",
       "      <td>0</td>\n",
       "      <td>...</td>\n",
       "      <td>NaN</td>\n",
       "      <td>NaN</td>\n",
       "      <td>NaN</td>\n",
       "      <td>NaN</td>\n",
       "      <td>NaN</td>\n",
       "      <td>NaN</td>\n",
       "      <td>NaN</td>\n",
       "      <td>NaN</td>\n",
       "      <td>NaN</td>\n",
       "      <td>NaN</td>\n",
       "    </tr>\n",
       "  </tbody>\n",
       "</table>\n",
       "<p>5 rows × 212 columns</p>\n",
       "</div>"
      ],
      "text/plain": [
       "   survey_id   age  gender     ethnicity marital_status  education_completed  \\\n",
       "0      80314   NaN     NaN    Vietnamese            NaN                  NaN   \n",
       "1      60171  60.0    Male       Chinese        Married                 13.0   \n",
       "2    1011601  23.0  Female       Chinese         Single                 16.0   \n",
       "3      50046  73.0  Female       Chinese          Other                 13.0   \n",
       "4      10494  29.0    Male  Asian Indian         Single                 17.0   \n",
       "\n",
       "   household_size              no_one spouse              children  ...  \\\n",
       "0             NaN                 NaN    NaN                   NaN  ...   \n",
       "1             6.0                   0      0  Living with children  ...   \n",
       "2             3.0                   0      0                     0  ...   \n",
       "3             1.0  Living with no one      0                     0  ...   \n",
       "4             1.0  Living with no one      0                     0  ...   \n",
       "\n",
       "  website__non_city_based_ethnic_ social_networks__non_city_based_ethnic_  \\\n",
       "0                             NaN                                     NaN   \n",
       "1                             NaN                                     NaN   \n",
       "2                              No                                      No   \n",
       "3                             NaN                                     NaN   \n",
       "4                             NaN                                     NaN   \n",
       "\n",
       "   people__non_city_based_ethnic_ other__non_city_based_ethnic_  \\\n",
       "0                             NaN                           NaN   \n",
       "1                             NaN                           NaN   \n",
       "2                             Yes                            No   \n",
       "3                             NaN                           NaN   \n",
       "4                             NaN                           NaN   \n",
       "\n",
       "   paper__non_city_based_general_ tv_radio__non_city_based_general_  \\\n",
       "0                             NaN                               NaN   \n",
       "1                             NaN                               NaN   \n",
       "2                              No                                No   \n",
       "3                             NaN                               NaN   \n",
       "4                             NaN                               NaN   \n",
       "\n",
       "  website__non_city_based_general_ social_networks__non_city_based_general_  \\\n",
       "0                              NaN                                      NaN   \n",
       "1                              NaN                                      NaN   \n",
       "2                               No                                       No   \n",
       "3                              NaN                                      NaN   \n",
       "4                              NaN                                      NaN   \n",
       "\n",
       "  people__non_city_based_general_  other__non_city_based_general_  \n",
       "0                             NaN                             NaN  \n",
       "1                             NaN                             NaN  \n",
       "2                             Yes                              No  \n",
       "3                             NaN                             NaN  \n",
       "4                             NaN                             NaN  \n",
       "\n",
       "[5 rows x 212 columns]"
      ]
     },
     "execution_count": 27,
     "metadata": {},
     "output_type": "execute_result"
    }
   ],
   "source": [
    "df_clean.head()"
   ]
  },
  {
   "cell_type": "markdown",
   "metadata": {},
   "source": [
    "# Encode Variables"
   ]
  },
  {
   "cell_type": "markdown",
   "metadata": {},
   "source": [
    "## Inspect Unique Values for Each Feature"
   ]
  },
  {
   "cell_type": "code",
   "execution_count": 28,
   "metadata": {
    "ExecuteTime": {
     "end_time": "2020-10-18T21:09:14.045716Z",
     "start_time": "2020-10-18T21:09:13.776173Z"
    },
    "scrolled": false
   },
   "outputs": [
    {
     "name": "stdout",
     "output_type": "stream",
     "text": [
      "survey_id\n",
      "[   80314    60171  1011601 ... 11081000 10953000 10945000]\n",
      "--------------------------------------------------\n",
      "age\n",
      "[nan 60. 23. 73. 29. 34. 28. 47. 25. 22. 43. 44. 32. 40. 70. 68. 46. 27.\n",
      " 72. 36. 49. 75. 76. 69. 74. 19. 65. 55. 67. 81. 45. 78. 24. 61. 52. 66.\n",
      " 57. 51. 58. 41. 86. 42. 48. 20. 18. 26. 21. 31. 64. 56. 37. 71. 33. 39.\n",
      " 30. 77. 50. 35. 80. 38. 87. 54. 82. 62. 53. 89. 63. 59. 84. 83. 98. 79.\n",
      " 85. 88.]\n",
      "--------------------------------------------------\n",
      "gender\n",
      "[nan 'Male' 'Female']\n",
      "--------------------------------------------------\n",
      "ethnicity\n",
      "['Vietnamese' 'Chinese' 'Asian Indian' 'Filipino' nan 'Korean' 'Other']\n",
      "--------------------------------------------------\n",
      "marital_status\n",
      "[nan 'Married' 'Single' 'Other' 'Living with a partner']\n",
      "--------------------------------------------------\n",
      "education_completed\n",
      "[nan 13. 16. 17. 12. 14. 10.  7.  9.  6.  8. 15.  5. 11.  3.  4.  0.  2.]\n",
      "--------------------------------------------------\n",
      "household_size\n",
      "[nan  6.  3.  1.  2.  5.  4.  8.  7.]\n",
      "--------------------------------------------------\n",
      "no_one\n",
      "[nan '0' 'Living with no one']\n",
      "--------------------------------------------------\n",
      "spouse\n",
      "[nan '0' 'Living with spouse']\n",
      "--------------------------------------------------\n",
      "children\n",
      "[nan 'Living with children' '0']\n",
      "--------------------------------------------------\n",
      "grand_children\n",
      "[nan '0' 'Living with grandchildren']\n",
      "--------------------------------------------------\n",
      "parent\n",
      "[nan '0' 'Living with parents']\n",
      "--------------------------------------------------\n",
      "grandparent\n",
      "[nan  0.]\n",
      "--------------------------------------------------\n",
      "brother_sister\n",
      "[nan '0' 'Living with brothers/sisters']\n",
      "--------------------------------------------------\n",
      "other_relative\n",
      "[nan  0.]\n",
      "--------------------------------------------------\n",
      "friends\n",
      "[nan '0' 'Living with friends/roommates']\n",
      "--------------------------------------------------\n",
      "religion\n",
      "[nan 'Buddhist' 'Protestant' 'Hindu' 'Muslim' 'Catholic' 'None' 'Other']\n",
      "--------------------------------------------------\n",
      "full_time_employment\n",
      "[nan '0' 'Employed full time']\n",
      "--------------------------------------------------\n",
      "part_time_employment\n",
      "[nan '0' 'Employed part time']\n",
      "--------------------------------------------------\n",
      "self_employed_full_time\n",
      "[nan  0.]\n",
      "--------------------------------------------------\n",
      "self_employed_part_time\n",
      "[nan  0.]\n",
      "--------------------------------------------------\n",
      "student\n",
      "[nan '0' 'Student']\n",
      "--------------------------------------------------\n",
      "homemaker\n",
      "[nan '0' 'Full time homemaker']\n",
      "--------------------------------------------------\n",
      "disabled\n",
      "[nan  0.]\n",
      "--------------------------------------------------\n",
      "unemployed\n",
      "[nan  0.]\n",
      "--------------------------------------------------\n",
      "retired\n",
      "[nan 'Retired' '0']\n",
      "--------------------------------------------------\n",
      "income\n",
      "[nan '$30,000 - $39,999' '$0 - $9,999' '$70,000 and over'\n",
      " '$50,000 - $59,999' '$40,000 - $49,999' '$20,000 - $29,999'\n",
      " '$60,000 - $69,999' '$10,000 - $19,999']\n",
      "--------------------------------------------------\n",
      "achieving_ends_meet\n",
      "[nan  0.  1.]\n",
      "--------------------------------------------------\n",
      "us_born\n",
      "[nan 'No' 'Yes']\n",
      "--------------------------------------------------\n",
      "duration_of_residency\n",
      "[  nan  0.5  11.   50.    7.   20.    2.   47.   13.   30.   12.   32.\n",
      "  9.   21.   27.   23.   15.    4.    8.   35.    3.   25.   19.   78.\n",
      "  1.   42.   29.   39.    6.   10.   22.    5.   17.   16.   18.   33.\n",
      " 38.   45.    0.25  0.9  24.   36.    1.5  34.   51.   37.   41.   44.\n",
      " 14.   43.   28.   31.   26.   48.   65.   40.   53.   55.    6.5  49.\n",
      " 59.   67.    0.75 54.   66.   46.  ]\n",
      "--------------------------------------------------\n",
      "primary_language\n",
      "[nan  1.  0.]\n",
      "--------------------------------------------------\n",
      "english_speaking\n",
      "[nan 'Not at all' 'Well' 'Not well' 'Very well']\n",
      "--------------------------------------------------\n",
      "english_difficulties\n",
      "[nan 'Not much' 'Much' 'Very much' 'Not at all']\n",
      "--------------------------------------------------\n",
      "familiarity_with_america\n",
      "[nan 'High' 'Low' 'Very high' 'Very low']\n",
      "--------------------------------------------------\n",
      "familiarity_with_ethnic_origin\n",
      "[nan 'High' 'Very high' 'Low' 'Very low']\n",
      "--------------------------------------------------\n",
      "identify_ethnically\n",
      "[nan 'Very close' 'Somewhat close' 'Not very close' 'Not at all']\n",
      "--------------------------------------------------\n",
      "belonging\n",
      "[nan 'Not very much' 'Very much' 'Not at all' 'Somewhat']\n",
      "--------------------------------------------------\n",
      "discrimination_\n",
      "[nan  0.  1.]\n",
      "--------------------------------------------------\n",
      "present_health\n",
      "[nan 'Very Good' 'Good' 'Excellent' 'Fair' 'Poor']\n",
      "--------------------------------------------------\n",
      "present_mental_health\n",
      "[nan 'Good' 'Very Good' 'Excellent' 'Fair' 'Poor']\n",
      "--------------------------------------------------\n",
      "present_oral_health\n",
      "[nan 'Good' 'Excellent' 'Very Good' 'Fair' 'Poor']\n",
      "--------------------------------------------------\n",
      "hygiene_assistance\n",
      "[nan  0.  1.]\n",
      "--------------------------------------------------\n",
      "smoking\n",
      "[nan  0.  1.]\n",
      "--------------------------------------------------\n",
      "drinking\n",
      "[nan  0.  1.]\n",
      "--------------------------------------------------\n",
      "regular_exercise\n",
      "[nan  0.  1.]\n",
      "--------------------------------------------------\n",
      "healthy_diet\n",
      "[nan  1.  0.]\n",
      "--------------------------------------------------\n",
      "hypertension\n",
      "[nan '0' 'Yes']\n",
      "--------------------------------------------------\n",
      "heart_disease\n",
      "[nan  0.]\n",
      "--------------------------------------------------\n",
      "stroke\n",
      "[nan  0.]\n",
      "--------------------------------------------------\n",
      "diabetes\n",
      "[nan '0' 'Yes']\n",
      "--------------------------------------------------\n",
      "cancer\n",
      "[nan  0.]\n",
      "--------------------------------------------------\n",
      "arthritis\n",
      "[nan '0' 'Yes']\n",
      "--------------------------------------------------\n",
      "hepatitis\n",
      "[nan  0.]\n",
      "--------------------------------------------------\n",
      "kidney_problem\n",
      "[nan  0.]\n",
      "--------------------------------------------------\n",
      "asthma\n",
      "[nan  0.]\n",
      "--------------------------------------------------\n",
      "copd\n",
      "[nan  0.]\n",
      "--------------------------------------------------\n",
      "physical_check_up\n",
      "[nan 'Yes' '0']\n",
      "--------------------------------------------------\n",
      "dentist_check_up\n",
      "[nan '0' 'Yes']\n",
      "--------------------------------------------------\n",
      "urgentcare\n",
      "[nan '0' 'Yes']\n",
      "--------------------------------------------------\n",
      "folkmedicine\n",
      "[nan '0' 'Yes']\n",
      "--------------------------------------------------\n",
      "primary_care\n",
      "[nan 'Yes' '0']\n",
      "--------------------------------------------------\n",
      "health_insurance\n",
      "[nan '0' 'Yes']\n",
      "--------------------------------------------------\n",
      "dental_insurance\n",
      "[nan '0' 'Yes']\n",
      "--------------------------------------------------\n",
      "unmet_health_need\n",
      "[nan '0' 'Yes']\n",
      "--------------------------------------------------\n",
      "unmet_dental_needs\n",
      "[nan '0' 'Yes']\n",
      "--------------------------------------------------\n",
      "transportation__medical_\n",
      "[nan '0' 'Yes']\n",
      "--------------------------------------------------\n",
      "interpretation__medical_\n",
      "[nan '0' 'Yes']\n",
      "--------------------------------------------------\n",
      "comunication_problem\n",
      "[nan '0' 'Yes']\n",
      "--------------------------------------------------\n",
      "preferance\n",
      "[nan 'Yes' '0']\n",
      "--------------------------------------------------\n",
      "language\n",
      "['Viet' 'Chinese Simplified' 'English' 'Chinese Traditional' 'Tagalog' nan\n",
      " 'Eng_Chinese only' 'Gujarati' 'Korean' 'Hindi']\n",
      "--------------------------------------------------\n",
      "users\n",
      "[nan  1.  0.]\n",
      "--------------------------------------------------\n",
      "family\n",
      "[nan 'Yes' 'No' '3']\n",
      "--------------------------------------------------\n",
      "close_friend\n",
      "[nan 'No' 'Yes']\n",
      "--------------------------------------------------\n",
      "acquaintances\n",
      "[nan 'No' 'Yes']\n",
      "--------------------------------------------------\n",
      "heal_professionals\n",
      "[nan 'Yes' 'No']\n",
      "--------------------------------------------------\n",
      "mobile_apps\n",
      "[nan 'No' 'Yes']\n",
      "--------------------------------------------------\n",
      "email\n",
      "[nan 'No' 'Yes']\n",
      "--------------------------------------------------\n",
      "social_networks\n",
      "[nan 'No' 'Yes']\n",
      "--------------------------------------------------\n",
      "online_communities\n",
      "[nan 'No' 'Yes']\n",
      "--------------------------------------------------\n",
      "health_website\n",
      "[nan 'Yes' 'No']\n",
      "--------------------------------------------------\n",
      "quality_of_life\n",
      "[nan  8.  5. 10.  9.  6.  7.  4.  1.  3.  2.  0.]\n",
      "--------------------------------------------------\n",
      "satisfied_with_life_1\n",
      "[nan 'Disagree' 'Slightly agree' 'Strongly agree' 'Agree'\n",
      " 'Neither agree or disagree' 'Slightly disagree' 'Strongly disagree']\n",
      "--------------------------------------------------\n",
      "satisfied_with_life_2\n",
      "[nan 'Disagree' 'Agree' 'Strongly agree' 'Neither agree or disagree'\n",
      " 'Slightly agree' 'Slightly disagree' 'Strongly disagree']\n",
      "--------------------------------------------------\n",
      "psychiatrist\n",
      "[nan  0.]\n",
      "--------------------------------------------------\n",
      "general_practitioner\n",
      "[nan '0' 'Yes']\n",
      "--------------------------------------------------\n",
      "therapist_counselor_\n",
      "[nan  0.]\n",
      "--------------------------------------------------\n",
      "religious_leader\n",
      "[nan '0' 'Yes']\n",
      "--------------------------------------------------\n",
      "weakness\n",
      "[nan '0' 'Yes']\n",
      "--------------------------------------------------\n",
      "shame\n",
      "[nan '0' 'Yes']\n",
      "--------------------------------------------------\n",
      "disappointment\n",
      "[nan '0' 'Yes']\n",
      "--------------------------------------------------\n",
      "disclosure\n",
      "[nan '0' 'Yes']\n",
      "--------------------------------------------------\n",
      "antidepressants\n",
      "[nan 'Yes' '0' '11']\n",
      "--------------------------------------------------\n",
      "danger\n",
      "[nan 'Yes' '0']\n",
      "--------------------------------------------------\n",
      "recovery\n",
      "[nan '0' 'Yes']\n",
      "--------------------------------------------------\n",
      "treatment\n",
      "[nan '0' 'Yes']\n",
      "--------------------------------------------------\n",
      "counseling\n",
      "[nan 'Yes' '0']\n",
      "--------------------------------------------------\n",
      "preference\n",
      "[nan '0' 'Yes']\n",
      "--------------------------------------------------\n",
      "knowledge\n",
      "[nan 'Nothing at all' 'Somewhat' 'Very much' 'Not very much']\n",
      "--------------------------------------------------\n",
      "diagnosed\n",
      "[nan '0' 'Yes']\n",
      "--------------------------------------------------\n",
      "concern_for_self__ad_\n",
      "[nan 'Not at all' 'Not very much' 'Pretty much' 'Very much']\n",
      "--------------------------------------------------\n",
      "concern_for_others__ad_\n",
      "[nan 'Not at all' 'Not very much' 'Pretty much' 'Very much']\n",
      "--------------------------------------------------\n",
      "prevention\n",
      "[nan 'Not at all' 'Not very much' 'Very much' 'Pretty much']\n",
      "--------------------------------------------------\n",
      "plan__ad_\n",
      "[nan '0' 'Yes']\n",
      "--------------------------------------------------\n",
      "education__ad_\n",
      "[nan '0' 'Yes']\n",
      "--------------------------------------------------\n",
      "services__ad_\n",
      "[nan '0' 'Yes']\n",
      "--------------------------------------------------\n",
      "language_barrier__ad_\n",
      "[nan '0' 'Yes']\n",
      "--------------------------------------------------\n",
      "fate__ad_\n",
      "[nan '0' 'Yes']\n",
      "--------------------------------------------------\n",
      "aging__ad_\n",
      "[nan '0' 'Yes']\n",
      "--------------------------------------------------\n",
      "embarrassing__ad_\n",
      "[nan '0' 'Yes']\n",
      "--------------------------------------------------\n",
      "avoidance__ad_\n",
      "[nan '0' 'Yes']\n",
      "--------------------------------------------------\n",
      "cure__ad_\n",
      "[nan 'Yes' '0']\n",
      "--------------------------------------------------\n",
      "nursing_home__ad_\n",
      "[nan '0' 'Yes']\n",
      "--------------------------------------------------\n",
      "advanced_directives\n",
      "[nan '0' 'Yes']\n",
      "--------------------------------------------------\n",
      "have_an_advanced_directive\n",
      "[nan '0' 'Yes']\n",
      "--------------------------------------------------\n",
      "superstition\n",
      "[nan 'Somewhat disagree' 'Strongly disagree' 'Somewhat agree'\n",
      " 'Strongly agree']\n",
      "--------------------------------------------------\n",
      "see_family\n",
      "[nan  4.  3.  0.  1.  2.  5.]\n",
      "--------------------------------------------------\n",
      "close_family\n",
      "[nan  3.  2.  5.  0.  1.  4.]\n",
      "--------------------------------------------------\n",
      "helpful_family\n",
      "[nan  5.  3.  2.  1.  0.  4.]\n",
      "--------------------------------------------------\n",
      "see_friends\n",
      "[nan  4.  5.  3.  1.  0.  2.]\n",
      "--------------------------------------------------\n",
      "close_friends\n",
      "[nan  4.  5.  2.  3.  1.  0.]\n",
      "--------------------------------------------------\n",
      "helpful_friends\n",
      "[nan  4.  5.  0.  3.  2.  1.]\n",
      "--------------------------------------------------\n",
      "family_respect\n",
      "[nan 'Strongly agree' 'Somewhat agree' 'Somewhat disagree'\n",
      " 'Strongly disagree']\n",
      "--------------------------------------------------\n",
      "similar_values\n",
      "[nan 'Strongly agree' 'Somewhat agree' 'Somewhat disagree'\n",
      " 'Strongly disagree']\n",
      "--------------------------------------------------\n",
      "successful_family\n",
      "[nan 'Strongly agree' 'Somewhat agree' 'Somewhat disagree'\n",
      " 'Strongly disagree']\n",
      "--------------------------------------------------\n",
      "trust\n",
      "[nan 'Strongly agree' 'Somewhat agree' 'Strongly disagree'\n",
      " 'Somewhat disagree']\n",
      "--------------------------------------------------\n",
      "loyalty\n",
      "[nan 'Strongly agree' 'Somewhat agree' 'Somewhat disagree'\n",
      " 'Strongly disagree']\n",
      "--------------------------------------------------\n",
      "family_pride\n",
      "[nan 'Strongly agree' 'Somewhat agree' 'Somewhat disagree'\n",
      " 'Strongly disagree']\n",
      "--------------------------------------------------\n",
      "expression\n",
      "[nan 'Strongly agree' 'Somewhat agree' 'Somewhat disagree'\n",
      " 'Strongly disagree']\n",
      "--------------------------------------------------\n",
      "spend_time_together\n",
      "[nan 'Strongly agree' 'Somewhat agree' 'Somewhat disagree'\n",
      " 'Strongly disagree']\n",
      "--------------------------------------------------\n",
      "feel_close_\n",
      "[nan 'Strongly agree' 'Somewhat disagree' 'Strongly disagree'\n",
      " 'Somewhat agree']\n",
      "--------------------------------------------------\n",
      "togetherness\n",
      "[nan 'Strongly agree' 'Somewhat disagree' 'Somewhat agree'\n",
      " 'Strongly disagree']\n",
      "--------------------------------------------------\n",
      "religious_attendance\n",
      "[nan 'Once or twice a month' 'Never' 'Seldom' 'A few times a year']\n",
      "--------------------------------------------------\n",
      "religious_importance\n",
      "[nan 'Very important' 'Not very important' 'Not at all important'\n",
      " 'Somewhat important']\n",
      "--------------------------------------------------\n",
      "close_knit_community\n",
      "[nan 'Neutral' 'Strongly disagree' 'Disagree' 'Agree' 'Strongly agree']\n",
      "--------------------------------------------------\n",
      "helpful_community\n",
      "[nan 'Neutral' 'Disagree' 'Agree' 'Strongly agree' 'Strongly disagree']\n",
      "--------------------------------------------------\n",
      "community_shares_values\n",
      "[nan 'Neutral' 'Strongly disagree' 'Disagree' 'Agree' 'Strongly agree']\n",
      "--------------------------------------------------\n",
      "get_along\n",
      "[nan 'Neutral' 'Disagree' 'Agree' 'Strongly agree' 'Strongly disagree']\n",
      "--------------------------------------------------\n",
      "community_trust\n",
      "[nan 'Neutral' 'Disagree' 'Agree' 'Strongly agree' 'Strongly disagree']\n",
      "--------------------------------------------------\n",
      "residency_\n",
      "[  nan  5.    3.    8.   21.   20.    0.5  37.    1.   15.    0.25  0.9\n",
      "  1.5   2.    7.    4.    4.5   6.    9.   10.   11.   12.   13.   14.\n",
      " 16.   17.   18.   19.   22.   23.   24.   25.   26.   27.   28.   29.\n",
      " 30.   31.   32.   34.   35.   36.   38.   40.   42.   46.   55.    0.33\n",
      " 33.   45.    2.5  44.   50.  ]\n",
      "--------------------------------------------------\n",
      "place_to_live\n",
      "[nan 'Good' 'Excellent' 'Fair' 'Poor']\n",
      "--------------------------------------------------\n",
      "raising_children\n",
      "[nan 'Good' 'Excellent' 'Fair' 'Poor']\n",
      "--------------------------------------------------\n",
      "place_to_work\n",
      "[nan 'Good' 'Excellent' 'Fair' 'Poor']\n",
      "--------------------------------------------------\n",
      "small_businesses_\n",
      "[nan 'Good' 'Fair' 'Excellent' 'Poor' '33']\n",
      "--------------------------------------------------\n",
      "place_to_retire\n",
      "[nan 'Good' 'Fair' 'Excellent' 'Poor']\n",
      "--------------------------------------------------\n",
      "arts_and_culture\n",
      "[nan 'Good' 'Excellent' 'Fair' 'Poor']\n",
      "--------------------------------------------------\n",
      "safety\n",
      "[nan 'Good' 'Excellent' 'Fair' 'Poor' '33']\n",
      "--------------------------------------------------\n",
      "traffic\n",
      "[nan 'Poor' 'Good' 'Fair' 'Excellent']\n",
      "--------------------------------------------------\n",
      "qualtiy_of_life\n",
      "[nan 'Good' 'Fair' 'Excellent' 'Poor']\n",
      "--------------------------------------------------\n",
      "quality_of_service\n"
     ]
    },
    {
     "name": "stdout",
     "output_type": "stream",
     "text": [
      "[nan 'Good' 'Poor' 'Fair' 'Excellent']\n",
      "--------------------------------------------------\n",
      "parks_and_recs\n",
      "[nan 'Pretty much satisfied' 'Never used' 'Not very much satisfied'\n",
      " 'Very much satisfied' 'Not at all satisfied']\n",
      "--------------------------------------------------\n",
      "libraries\n",
      "[nan 'Pretty much satisfied' 'Never used' 'Very much satisfied'\n",
      " 'Not very much satisfied' 'Not at all satisfied']\n",
      "--------------------------------------------------\n",
      "public_safety\n",
      "[nan 'Never used' 'Pretty much satisfied' 'Not very much satisfied'\n",
      " 'Very much satisfied' 'Not at all satisfied']\n",
      "--------------------------------------------------\n",
      "airport\n",
      "[nan 'Never used' 'Pretty much satisfied' 'Not very much satisfied'\n",
      " 'Very much satisfied' 'Not at all satisfied']\n",
      "--------------------------------------------------\n",
      "austin_energy\n",
      "[nan 'Pretty much satisfied' 'Not very much satisfied'\n",
      " 'Very much satisfied' 'Never used' 'Not at all satisfied']\n",
      "--------------------------------------------------\n",
      "court\n",
      "[nan 'Never used' 'Pretty much satisfied' 'Not very much satisfied'\n",
      " 'Very much satisfied' 'Not at all satisfied']\n",
      "--------------------------------------------------\n",
      "social_services\n",
      "[nan 'Never used' 'Pretty much satisfied' 'Not very much satisfied'\n",
      " 'Very much satisfied' 'Not at all satisfied']\n",
      "--------------------------------------------------\n",
      "aware_of_aarc\n",
      "[nan 'No' 'Yes' '3' '5']\n",
      "--------------------------------------------------\n",
      "visit_frequency_\n",
      "[nan 'Never' 'Some of the time' 'Rarely' 'Often']\n",
      "--------------------------------------------------\n",
      "activities\n",
      "[nan 'Never' 'Some of the time' 'Rarely' 'Often']\n",
      "--------------------------------------------------\n",
      "ems_classes\n",
      "[nan 'No' 'Yes' '3']\n",
      "--------------------------------------------------\n",
      "fire_alarm\n",
      "[nan 'No' 'Yes']\n",
      "--------------------------------------------------\n",
      "public_computer\n",
      "[nan 'No' 'Yes' '3']\n",
      "--------------------------------------------------\n",
      "library_internet_acess\n",
      "[nan 'Yes' 'No' '3']\n",
      "--------------------------------------------------\n",
      "literature\n",
      "[nan 'Yes' 'No' '3']\n",
      "--------------------------------------------------\n",
      "citizenship_class\n",
      "[nan 'Yes' 'No' '3']\n",
      "--------------------------------------------------\n",
      "small_business\n",
      "[nan 'No' 'Yes' '3']\n",
      "--------------------------------------------------\n",
      "english_classes\n",
      "[nan 'No' 'Yes' '3']\n",
      "--------------------------------------------------\n",
      "9_1_1\n",
      "[nan 'Yes' 'No']\n",
      "--------------------------------------------------\n",
      "3_1_1\n",
      "[nan 'No' 'Yes' '3']\n",
      "--------------------------------------------------\n",
      "apd_languages_\n",
      "[nan 'No' 'Yes' '3']\n",
      "--------------------------------------------------\n",
      "district\n",
      "[nan 'No' 'Yes' '3']\n",
      "--------------------------------------------------\n",
      "housing_\n",
      "[nan 'Apartment/ Townhouse/ Condominium' 'One-family house' '5'\n",
      " 'Mobile house' 'Two-family house/ duplex' '6']\n",
      "--------------------------------------------------\n",
      "status_of_ownership\n",
      "[nan 'Own' 'Rent' '3']\n",
      "--------------------------------------------------\n",
      "satisfaction_with_housing.\n",
      "[nan 'Pretty much' 'Very much' 'Not very much' 'Not at all']\n",
      "--------------------------------------------------\n",
      "nursing_home\n",
      "[nan 'No' 'Yes' '11' '3']\n",
      "--------------------------------------------------\n",
      "smoke_detector\n",
      "[nan 'Yes' 'No']\n",
      "--------------------------------------------------\n",
      "recycle\n",
      "[nan 'No' 'Yes']\n",
      "--------------------------------------------------\n",
      "compost\n",
      "[nan 'Yes' 'No' '3']\n",
      "--------------------------------------------------\n",
      "public_transportation\n",
      "[nan 'Yes' 'No']\n",
      "--------------------------------------------------\n",
      "bicycling\n",
      "[nan 'No' 'Yes']\n",
      "--------------------------------------------------\n",
      "carpooling\n",
      "[nan 'No' 'Yes']\n",
      "--------------------------------------------------\n",
      "personal_car\n",
      "[nan 'No' 'Yes']\n",
      "--------------------------------------------------\n",
      "car_share\n",
      "[nan 'No' 'Yes']\n",
      "--------------------------------------------------\n",
      "walking\n",
      "[nan 'No' 'Yes']\n",
      "--------------------------------------------------\n",
      "access_to_a_computer\n",
      "[nan 'Yes' 'No' '11']\n",
      "--------------------------------------------------\n",
      "mobile_devices\n",
      "[nan 'Yes' 'No']\n",
      "--------------------------------------------------\n",
      "home_phone\n",
      "[nan 'No' 'Yes']\n",
      "--------------------------------------------------\n",
      "public_meeting\n",
      "[nan 'No' 'Yes' '0']\n",
      "--------------------------------------------------\n",
      "council_meeting\n",
      "[nan 'No' 'Yes' '0']\n",
      "--------------------------------------------------\n",
      "contact_city_official\n",
      "[nan 'No' 'Yes' '0']\n",
      "--------------------------------------------------\n",
      "city_election\n",
      "[nan 'No' 'Yes' '0']\n",
      "--------------------------------------------------\n",
      "focus_group\n",
      "[nan 'No' 'Yes' '3' '4' '0']\n",
      "--------------------------------------------------\n",
      "informed\n",
      "[nan 'Not interested' 'Interested' 'Somewhat interested'\n",
      " 'Not interested at all' 'Very interested']\n",
      "--------------------------------------------------\n",
      "city_effort_satisfaction\n",
      "[nan 'Somewhat dissatisfied' 'Niether satisfied or dissatisfied'\n",
      " 'Somewhat satisfied' 'Very satisfied' 'Very dissatisfied' '0']\n",
      "--------------------------------------------------\n",
      "paper__city_based_\n",
      "[nan 'Yes' 'No' '2']\n",
      "--------------------------------------------------\n",
      "tv_radio__city_based_\n",
      "[nan 'No' 'Yes']\n",
      "--------------------------------------------------\n",
      "website__city_based_\n",
      "[nan 'No' 'Yes']\n",
      "--------------------------------------------------\n",
      "social_networks__city_based_\n",
      "[nan 'No' 'Yes']\n",
      "--------------------------------------------------\n",
      "people__city_based_\n",
      "[nan 'No' 'Yes']\n",
      "--------------------------------------------------\n",
      "other__city_based_\n",
      "[nan 'No' 'Yes' '10']\n",
      "--------------------------------------------------\n",
      "paper__non_city_based_ethnic_\n",
      "[nan 'Yes' 'No']\n",
      "--------------------------------------------------\n",
      "tv_radio__non_city_based_ethnic_\n",
      "[nan 'No' 'Yes']\n",
      "--------------------------------------------------\n",
      "website__non_city_based_ethnic_\n",
      "[nan 'No' 'Yes']\n",
      "--------------------------------------------------\n",
      "social_networks__non_city_based_ethnic_\n",
      "[nan 'No' 'Yes']\n",
      "--------------------------------------------------\n",
      "people__non_city_based_ethnic_\n",
      "[nan 'Yes' 'No']\n",
      "--------------------------------------------------\n",
      "other__non_city_based_ethnic_\n",
      "[nan 'No' 'Yes']\n",
      "--------------------------------------------------\n",
      "paper__non_city_based_general_\n",
      "[nan 'No' 'Yes']\n",
      "--------------------------------------------------\n",
      "tv_radio__non_city_based_general_\n",
      "[nan 'No' 'Yes']\n",
      "--------------------------------------------------\n",
      "website__non_city_based_general_\n",
      "[nan 'No' 'Yes']\n",
      "--------------------------------------------------\n",
      "social_networks__non_city_based_general_\n",
      "[nan 'No' 'Yes']\n",
      "--------------------------------------------------\n",
      "people__non_city_based_general_\n",
      "[nan 'Yes' 'No']\n",
      "--------------------------------------------------\n",
      "other__non_city_based_general_\n",
      "[nan 'No' 'Yes']\n",
      "--------------------------------------------------\n"
     ]
    }
   ],
   "source": [
    "for column in df_clean.columns:\n",
    "    print(column)\n",
    "    print(df_clean[column].unique())\n",
    "    print('-'*50)"
   ]
  },
  {
   "cell_type": "markdown",
   "metadata": {},
   "source": [
    "## Encode Variables Based on Codebook"
   ]
  },
  {
   "cell_type": "markdown",
   "metadata": {},
   "source": [
    "### Gender"
   ]
  },
  {
   "cell_type": "code",
   "execution_count": 29,
   "metadata": {
    "ExecuteTime": {
     "end_time": "2020-10-18T21:09:14.061341Z",
     "start_time": "2020-10-18T21:09:14.045716Z"
    }
   },
   "outputs": [],
   "source": [
    "df_clean.gender.replace(to_replace=['Male', 'Female'],\n",
    "                        value=[0,1], inplace=True)"
   ]
  },
  {
   "cell_type": "markdown",
   "metadata": {
    "ExecuteTime": {
     "end_time": "2020-10-18T15:45:27.769077Z",
     "start_time": "2020-10-18T15:45:27.753454Z"
    }
   },
   "source": [
    "### Ethnicity"
   ]
  },
  {
   "cell_type": "code",
   "execution_count": 30,
   "metadata": {
    "ExecuteTime": {
     "end_time": "2020-10-18T21:09:14.092591Z",
     "start_time": "2020-10-18T21:09:14.061341Z"
    }
   },
   "outputs": [],
   "source": [
    "df_clean.ethnicity.replace(to_replace=['Vietnamese',\n",
    "                                       'Chinese',\n",
    "                                       'Asian Indian',\n",
    "                                       'Filipino',\n",
    "                                       'Korean',\n",
    "                                       'Other'],\n",
    "                           value=[4, 1, 2, 5, 3, 6],\n",
    "                           inplace=True)"
   ]
  },
  {
   "cell_type": "markdown",
   "metadata": {},
   "source": [
    "### Marital Status"
   ]
  },
  {
   "cell_type": "code",
   "execution_count": 31,
   "metadata": {
    "ExecuteTime": {
     "end_time": "2020-10-18T21:09:14.161606Z",
     "start_time": "2020-10-18T21:09:14.130350Z"
    }
   },
   "outputs": [],
   "source": [
    "df_clean.marital_status.replace(to_replace=['Married',\n",
    "                                            'Single',\n",
    "                                            'Other',\n",
    "                                            'Living with a partner'],\n",
    "                                value=[1, 3, 4, 2], \n",
    "                                inplace=True)"
   ]
  },
  {
   "cell_type": "markdown",
   "metadata": {},
   "source": [
    "### Who lives with you?"
   ]
  },
  {
   "cell_type": "code",
   "execution_count": 32,
   "metadata": {
    "ExecuteTime": {
     "end_time": "2020-10-18T21:09:14.324370Z",
     "start_time": "2020-10-18T21:09:14.293119Z"
    }
   },
   "outputs": [],
   "source": [
    "df_clean.no_one.replace(to_replace=['0', 'Living with no one'],\n",
    "                        value=[0, 1],\n",
    "                        inplace=True)"
   ]
  },
  {
   "cell_type": "code",
   "execution_count": 33,
   "metadata": {
    "ExecuteTime": {
     "end_time": "2020-10-18T21:09:14.346507Z",
     "start_time": "2020-10-18T21:09:14.324370Z"
    }
   },
   "outputs": [],
   "source": [
    "df_clean.spouse.replace(to_replace=['Living with spouse', '0'],\n",
    "                        value=[1, 0],\n",
    "                        inplace=True)"
   ]
  },
  {
   "cell_type": "code",
   "execution_count": 34,
   "metadata": {
    "ExecuteTime": {
     "end_time": "2020-10-18T21:09:14.377756Z",
     "start_time": "2020-10-18T21:09:14.346507Z"
    }
   },
   "outputs": [],
   "source": [
    "df_clean.children.replace(to_replace=['Living with children', '0'],\n",
    "                        value=[1, 0],\n",
    "                        inplace=True)"
   ]
  },
  {
   "cell_type": "code",
   "execution_count": 35,
   "metadata": {
    "ExecuteTime": {
     "end_time": "2020-10-18T21:09:14.409009Z",
     "start_time": "2020-10-18T21:09:14.377756Z"
    }
   },
   "outputs": [],
   "source": [
    "df_clean.grand_children.replace(to_replace=['0', 'Living with grandchildren'],\n",
    "                        value=[0, 1],\n",
    "                        inplace=True)"
   ]
  },
  {
   "cell_type": "code",
   "execution_count": 36,
   "metadata": {
    "ExecuteTime": {
     "end_time": "2020-10-18T21:09:14.446773Z",
     "start_time": "2020-10-18T21:09:14.409009Z"
    }
   },
   "outputs": [],
   "source": [
    "df_clean.parent.replace(to_replace=['0', 'Living with parents'],\n",
    "                        value=[0, 1],\n",
    "                        inplace=True)"
   ]
  },
  {
   "cell_type": "code",
   "execution_count": 37,
   "metadata": {
    "ExecuteTime": {
     "end_time": "2020-10-18T21:09:14.478022Z",
     "start_time": "2020-10-18T21:09:14.446773Z"
    }
   },
   "outputs": [],
   "source": [
    "# drop grandparent\n",
    "df_clean.drop('grandparent', axis=1, inplace=True)"
   ]
  },
  {
   "cell_type": "code",
   "execution_count": 38,
   "metadata": {
    "ExecuteTime": {
     "end_time": "2020-10-18T21:09:14.493649Z",
     "start_time": "2020-10-18T21:09:14.478022Z"
    }
   },
   "outputs": [],
   "source": [
    "df_clean.brother_sister.replace(to_replace=['0', 'Living with brothers/sisters'],\n",
    "                        value=[0, 1],\n",
    "                        inplace=True)"
   ]
  },
  {
   "cell_type": "code",
   "execution_count": 39,
   "metadata": {
    "ExecuteTime": {
     "end_time": "2020-10-18T21:09:14.547035Z",
     "start_time": "2020-10-18T21:09:14.493649Z"
    },
    "scrolled": true
   },
   "outputs": [],
   "source": [
    "# drop other_relative\n",
    "df_clean.drop('other_relative', axis=1, inplace=True)"
   ]
  },
  {
   "cell_type": "code",
   "execution_count": 40,
   "metadata": {
    "ExecuteTime": {
     "end_time": "2020-10-18T21:09:14.562661Z",
     "start_time": "2020-10-18T21:09:14.547035Z"
    }
   },
   "outputs": [],
   "source": [
    "df_clean.friends.replace(to_replace=['0', 'Living with friends/roommates'],\n",
    "                        value=[0, 1],\n",
    "                        inplace=True)"
   ]
  },
  {
   "cell_type": "markdown",
   "metadata": {},
   "source": [
    "### Religion"
   ]
  },
  {
   "cell_type": "code",
   "execution_count": 41,
   "metadata": {
    "ExecuteTime": {
     "end_time": "2020-10-18T21:09:14.609537Z",
     "start_time": "2020-10-18T21:09:14.593911Z"
    }
   },
   "outputs": [],
   "source": [
    "df_clean.religion.replace(to_replace=['Buddhist', 'Protestant',\n",
    "                                            'Hindu', 'Muslim', 'Catholic', 'None','Other'],\n",
    "                        value=[6,2,4,5,3,1,7],\n",
    "                        inplace=True)"
   ]
  },
  {
   "cell_type": "markdown",
   "metadata": {},
   "source": [
    "### Employment Status"
   ]
  },
  {
   "cell_type": "code",
   "execution_count": 42,
   "metadata": {
    "ExecuteTime": {
     "end_time": "2020-10-18T21:09:14.778817Z",
     "start_time": "2020-10-18T21:09:14.763194Z"
    }
   },
   "outputs": [],
   "source": [
    "df_clean.full_time_employment.replace(to_replace=['0', 'Employed full time'],\n",
    "                        value=[0,1],\n",
    "                        inplace=True)"
   ]
  },
  {
   "cell_type": "code",
   "execution_count": 43,
   "metadata": {
    "ExecuteTime": {
     "end_time": "2020-10-18T21:09:14.810065Z",
     "start_time": "2020-10-18T21:09:14.778817Z"
    }
   },
   "outputs": [],
   "source": [
    "df_clean.part_time_employment.replace(to_replace=['0', 'Employed part time'],\n",
    "                        value=[0,1],\n",
    "                        inplace=True)"
   ]
  },
  {
   "cell_type": "code",
   "execution_count": 44,
   "metadata": {
    "ExecuteTime": {
     "end_time": "2020-10-18T21:09:14.847832Z",
     "start_time": "2020-10-18T21:09:14.810065Z"
    }
   },
   "outputs": [],
   "source": [
    "# drop self_employed_full_time\n",
    "df_clean.drop('self_employed_full_time', axis=1, inplace=True)"
   ]
  },
  {
   "cell_type": "code",
   "execution_count": 45,
   "metadata": {
    "ExecuteTime": {
     "end_time": "2020-10-18T21:09:14.863455Z",
     "start_time": "2020-10-18T21:09:14.847832Z"
    }
   },
   "outputs": [],
   "source": [
    "# dropself_employed_part_time\n",
    "df_clean.drop('self_employed_part_time', axis=1, inplace=True)"
   ]
  },
  {
   "cell_type": "code",
   "execution_count": 46,
   "metadata": {
    "ExecuteTime": {
     "end_time": "2020-10-18T21:09:14.910330Z",
     "start_time": "2020-10-18T21:09:14.863455Z"
    }
   },
   "outputs": [],
   "source": [
    "df_clean.student.replace(to_replace=['0', 'Student'],\n",
    "                        value=[0,1],\n",
    "                        inplace=True)"
   ]
  },
  {
   "cell_type": "code",
   "execution_count": 47,
   "metadata": {
    "ExecuteTime": {
     "end_time": "2020-10-18T21:09:14.925955Z",
     "start_time": "2020-10-18T21:09:14.910330Z"
    }
   },
   "outputs": [],
   "source": [
    "df_clean.homemaker.replace(to_replace=['0', 'Full time homemaker'],\n",
    "                        value=[0,1],\n",
    "                        inplace=True)"
   ]
  },
  {
   "cell_type": "code",
   "execution_count": 48,
   "metadata": {
    "ExecuteTime": {
     "end_time": "2020-10-18T21:09:14.963719Z",
     "start_time": "2020-10-18T21:09:14.925955Z"
    }
   },
   "outputs": [],
   "source": [
    "# drop disabled\n",
    "df_clean.drop('disabled', axis=1, inplace=True)"
   ]
  },
  {
   "cell_type": "code",
   "execution_count": 49,
   "metadata": {
    "ExecuteTime": {
     "end_time": "2020-10-18T21:09:14.979344Z",
     "start_time": "2020-10-18T21:09:14.963719Z"
    }
   },
   "outputs": [],
   "source": [
    "# drop unemployed\n",
    "df_clean.drop('unemployed', axis=1, inplace=True)"
   ]
  },
  {
   "cell_type": "code",
   "execution_count": 50,
   "metadata": {
    "ExecuteTime": {
     "end_time": "2020-10-18T21:09:15.010594Z",
     "start_time": "2020-10-18T21:09:14.979344Z"
    }
   },
   "outputs": [],
   "source": [
    "df_clean.retired.replace(to_replace=['Retired', '0'],\n",
    "                        value=[1,0],\n",
    "                        inplace=True)"
   ]
  },
  {
   "cell_type": "markdown",
   "metadata": {},
   "source": [
    "### Income"
   ]
  },
  {
   "cell_type": "code",
   "execution_count": 51,
   "metadata": {
    "ExecuteTime": {
     "end_time": "2020-10-18T21:09:15.095235Z",
     "start_time": "2020-10-18T21:09:15.079613Z"
    }
   },
   "outputs": [],
   "source": [
    "df_clean.income.replace(to_replace=['$30,000 - $39,999', '$0 - $9,999', '$70,000 and over',\n",
    " '$50,000 - $59,999', '$40,000 - $49,999', '$20,000 - $29,999',\n",
    " '$60,000 - $69,999', '$10,000 - $19,999'],\n",
    "                        value=[4,1,8,6,5,3,7,2],\n",
    "                        inplace=True)"
   ]
  },
  {
   "cell_type": "markdown",
   "metadata": {},
   "source": [
    "### Born in the US?"
   ]
  },
  {
   "cell_type": "code",
   "execution_count": 52,
   "metadata": {
    "ExecuteTime": {
     "end_time": "2020-10-18T21:09:15.444571Z",
     "start_time": "2020-10-18T21:09:15.416367Z"
    }
   },
   "outputs": [],
   "source": [
    "df_clean.us_born.replace(to_replace=['No','Yes'],\n",
    "                        value=[0,1],\n",
    "                        inplace=True)"
   ]
  },
  {
   "cell_type": "markdown",
   "metadata": {},
   "source": [
    "### English speaking"
   ]
  },
  {
   "cell_type": "code",
   "execution_count": 53,
   "metadata": {
    "ExecuteTime": {
     "end_time": "2020-10-18T21:09:15.867111Z",
     "start_time": "2020-10-18T21:09:15.848996Z"
    }
   },
   "outputs": [],
   "source": [
    "df_clean.english_speaking.replace(to_replace=['Not at all', 'Well', 'Not well', 'Very well'],\n",
    "                        value=[1,3,2,4],\n",
    "                        inplace=True)"
   ]
  },
  {
   "cell_type": "code",
   "execution_count": 54,
   "metadata": {
    "ExecuteTime": {
     "end_time": "2020-10-18T21:09:15.907350Z",
     "start_time": "2020-10-18T21:09:15.869133Z"
    }
   },
   "outputs": [],
   "source": [
    "df_clean.english_difficulties.replace(to_replace=['Not much', 'Much', 'Very much', 'Not at all'],\n",
    "                        value=[2,3,4,1],\n",
    "                        inplace=True)"
   ]
  },
  {
   "cell_type": "markdown",
   "metadata": {},
   "source": [
    "### Familiarity with America"
   ]
  },
  {
   "cell_type": "code",
   "execution_count": 55,
   "metadata": {
    "ExecuteTime": {
     "end_time": "2020-10-18T21:09:16.108302Z",
     "start_time": "2020-10-18T21:09:16.090251Z"
    }
   },
   "outputs": [],
   "source": [
    "df_clean.familiarity_with_america.replace(to_replace=['High', 'Low', 'Very high', 'Very low'],\n",
    "                        value=[3, 2, 4, 1],\n",
    "                        inplace=True)"
   ]
  },
  {
   "cell_type": "markdown",
   "metadata": {},
   "source": [
    "### Familiarity with Ethnic Origin"
   ]
  },
  {
   "cell_type": "code",
   "execution_count": 56,
   "metadata": {
    "ExecuteTime": {
     "end_time": "2020-10-18T21:09:16.306749Z",
     "start_time": "2020-10-18T21:09:16.291123Z"
    }
   },
   "outputs": [],
   "source": [
    "df_clean.familiarity_with_ethnic_origin.replace(to_replace=['High', 'Very high', 'Low', 'Very low'],\n",
    "                        value=[3, 4, 1, 2],\n",
    "                        inplace=True)"
   ]
  },
  {
   "cell_type": "code",
   "execution_count": 57,
   "metadata": {
    "ExecuteTime": {
     "end_time": "2020-10-18T21:09:16.344517Z",
     "start_time": "2020-10-18T21:09:16.306749Z"
    }
   },
   "outputs": [],
   "source": [
    "df_clean.identify_ethnically.replace(to_replace=['Very close', 'Somewhat close',\n",
    "                                                 'Not very close', 'Not at all'],\n",
    "                        value=[4, 3, 2, 1],\n",
    "                        inplace=True)"
   ]
  },
  {
   "cell_type": "code",
   "execution_count": 58,
   "metadata": {
    "ExecuteTime": {
     "end_time": "2020-10-18T21:09:16.375770Z",
     "start_time": "2020-10-18T21:09:16.344517Z"
    }
   },
   "outputs": [],
   "source": [
    "df_clean.belonging.replace(to_replace=['Not very much', 'Very much',\n",
    "                                       'Not at all', 'Somewhat'],\n",
    "                        value=[2, 4, 1, 3],\n",
    "                        inplace=True)"
   ]
  },
  {
   "cell_type": "markdown",
   "metadata": {
    "ExecuteTime": {
     "end_time": "2020-10-18T16:40:12.062103Z",
     "start_time": "2020-10-18T16:40:12.046548Z"
    }
   },
   "source": [
    "### Health"
   ]
  },
  {
   "cell_type": "code",
   "execution_count": 59,
   "metadata": {
    "ExecuteTime": {
     "end_time": "2020-10-18T21:09:16.576292Z",
     "start_time": "2020-10-18T21:09:16.529412Z"
    }
   },
   "outputs": [],
   "source": [
    "for column in ['present_health', 'present_mental_health',\n",
    "          'present_oral_health']:\n",
    "    df_clean[column].replace(\n",
    "    to_replace=['Very Good', 'Good', 'Excellent', 'Fair', 'Poor'],\n",
    "    value=[2, 3, 1, 4, 5], inplace=True)"
   ]
  },
  {
   "cell_type": "markdown",
   "metadata": {},
   "source": [
    "### Health Conditions"
   ]
  },
  {
   "cell_type": "code",
   "execution_count": 60,
   "metadata": {
    "ExecuteTime": {
     "end_time": "2020-10-18T21:09:16.761199Z",
     "start_time": "2020-10-18T21:09:16.729943Z"
    }
   },
   "outputs": [],
   "source": [
    "df_clean.hypertension.replace(to_replace=['0', 'Yes'],\n",
    "                        value=[0, 1],\n",
    "                        inplace=True)"
   ]
  },
  {
   "cell_type": "code",
   "execution_count": 61,
   "metadata": {
    "ExecuteTime": {
     "end_time": "2020-10-18T21:09:16.792449Z",
     "start_time": "2020-10-18T21:09:16.761199Z"
    }
   },
   "outputs": [],
   "source": [
    "df_clean.diabetes.replace(to_replace=['0', 'Yes'],\n",
    "                        value=[0, 1],\n",
    "                        inplace=True)"
   ]
  },
  {
   "cell_type": "code",
   "execution_count": 62,
   "metadata": {
    "ExecuteTime": {
     "end_time": "2020-10-18T21:09:16.823698Z",
     "start_time": "2020-10-18T21:09:16.792449Z"
    }
   },
   "outputs": [],
   "source": [
    "df_clean.arthritis.replace(to_replace=['0', 'Yes'],\n",
    "                        value=[0, 1],\n",
    "                        inplace=True)"
   ]
  },
  {
   "cell_type": "code",
   "execution_count": 63,
   "metadata": {
    "ExecuteTime": {
     "end_time": "2020-10-18T21:09:16.861463Z",
     "start_time": "2020-10-18T21:09:16.823698Z"
    }
   },
   "outputs": [],
   "source": [
    "# drop the following features\n",
    "df_clean.drop(['heart_disease', 'stroke', 'cancer',\n",
    "               'hepatitis', 'kidney_problem', 'asthma', 'copd'],\n",
    "              axis=1, inplace=True)"
   ]
  },
  {
   "cell_type": "markdown",
   "metadata": {},
   "source": [
    "### Health Services"
   ]
  },
  {
   "cell_type": "code",
   "execution_count": 64,
   "metadata": {
    "ExecuteTime": {
     "end_time": "2020-10-18T21:09:17.093243Z",
     "start_time": "2020-10-18T21:09:17.008600Z"
    }
   },
   "outputs": [],
   "source": [
    "services = ['physical_check_up', 'dentist_check_up', 'urgentcare',\n",
    "            'folkmedicine', 'primary_care', 'health_insurance',\n",
    "            'dental_insurance', 'unmet_health_need', 'unmet_dental_needs',\n",
    "            'transportation__medical_', 'interpretation__medical_',\n",
    "            'comunication_problem', 'preferance']\n",
    "for service in services:\n",
    "    df_clean[service].replace(to_replace=['0', 'Yes'], value=[0, 1],\n",
    "                              inplace=True)"
   ]
  },
  {
   "cell_type": "markdown",
   "metadata": {},
   "source": [
    "### Health Information"
   ]
  },
  {
   "cell_type": "code",
   "execution_count": 65,
   "metadata": {
    "ExecuteTime": {
     "end_time": "2020-10-18T21:09:17.347156Z",
     "start_time": "2020-10-18T21:09:17.262517Z"
    }
   },
   "outputs": [],
   "source": [
    "sources = ['family', 'close_friend', 'acquaintances', 'heal_professionals',\n",
    "           'mobile_apps', 'email', 'social_networks', 'online_communities',\n",
    "           'health_website']\n",
    "for source in sources:\n",
    "    df_clean[source].replace(to_replace=['No', 'Yes'], value=[0, 1],\n",
    "                             inplace=True)"
   ]
  },
  {
   "cell_type": "markdown",
   "metadata": {
    "ExecuteTime": {
     "end_time": "2020-10-18T15:54:58.860197Z",
     "start_time": "2020-10-18T15:54:58.838055Z"
    }
   },
   "source": [
    "### Emotional Well-Being"
   ]
  },
  {
   "cell_type": "code",
   "execution_count": 66,
   "metadata": {
    "ExecuteTime": {
     "end_time": "2020-10-18T21:09:17.509920Z",
     "start_time": "2020-10-18T21:09:17.494293Z"
    }
   },
   "outputs": [],
   "source": [
    "df_clean.satisfied_with_life_1.replace(to_replace=['Disagree', 'Slightly agree',\n",
    "                                                   'Strongly agree', 'Agree',\n",
    "                                                   'Neither agree or disagree',\n",
    "                                                   'Slightly disagree',\n",
    "                                                   'Strongly disagree'],\n",
    "                        value=[2, 5, 7, 6, 4, 3, 1],\n",
    "                        inplace=True)"
   ]
  },
  {
   "cell_type": "code",
   "execution_count": 67,
   "metadata": {
    "ExecuteTime": {
     "end_time": "2020-10-18T21:09:17.547682Z",
     "start_time": "2020-10-18T21:09:17.509920Z"
    }
   },
   "outputs": [],
   "source": [
    "df_clean.satisfied_with_life_2.replace(to_replace=['Disagree', 'Slightly agree',\n",
    "                                                   'Strongly agree', 'Agree',\n",
    "                                                   'Neither agree or disagree',\n",
    "                                                   'Slightly disagree',\n",
    "                                                   'Strongly disagree'],\n",
    "                        value=[2, 5, 7, 6, 4, 3, 1],\n",
    "                        inplace=True)"
   ]
  },
  {
   "cell_type": "code",
   "execution_count": 68,
   "metadata": {
    "ExecuteTime": {
     "end_time": "2020-10-18T21:09:17.610182Z",
     "start_time": "2020-10-18T21:09:17.547682Z"
    }
   },
   "outputs": [],
   "source": [
    "experiences = ['weakness', 'shame', 'disappointment', 'disclosure',\n",
    "               'antidepressants', 'danger', 'recovery', 'treatment',\n",
    "               'counseling', 'preference']\n",
    "for experience in experiences:\n",
    "    df_clean[experience].replace(to_replace=['0', 'Yes'], value=[0, 1],\n",
    "                              inplace=True)"
   ]
  },
  {
   "cell_type": "markdown",
   "metadata": {},
   "source": [
    "### Reaching Health Professionals"
   ]
  },
  {
   "cell_type": "code",
   "execution_count": 69,
   "metadata": {
    "ExecuteTime": {
     "end_time": "2020-10-18T21:09:17.810712Z",
     "start_time": "2020-10-18T21:09:17.779464Z"
    }
   },
   "outputs": [],
   "source": [
    "# drop the following features\n",
    "df_clean.drop(['psychiatrist', 'therapist_counselor_'], axis=1, inplace=True)"
   ]
  },
  {
   "cell_type": "code",
   "execution_count": 70,
   "metadata": {
    "ExecuteTime": {
     "end_time": "2020-10-18T21:09:17.826338Z",
     "start_time": "2020-10-18T21:09:17.810712Z"
    }
   },
   "outputs": [],
   "source": [
    "df_clean.general_practitioner.replace(to_replace=['0', 'Yes'], value=[0, 1],\n",
    "                         inplace=True)"
   ]
  },
  {
   "cell_type": "code",
   "execution_count": 71,
   "metadata": {
    "ExecuteTime": {
     "end_time": "2020-10-18T21:09:17.864104Z",
     "start_time": "2020-10-18T21:09:17.826338Z"
    }
   },
   "outputs": [],
   "source": [
    "df_clean.religious_leader.replace(to_replace=['0', 'Yes'], value=[0, 1],\n",
    "                         inplace=True)"
   ]
  },
  {
   "cell_type": "markdown",
   "metadata": {},
   "source": [
    "### Alzheimer"
   ]
  },
  {
   "cell_type": "code",
   "execution_count": 72,
   "metadata": {
    "ExecuteTime": {
     "end_time": "2020-10-18T21:09:18.064643Z",
     "start_time": "2020-10-18T21:09:18.033385Z"
    }
   },
   "outputs": [],
   "source": [
    "df_clean.knowledge.replace(to_replace=['Nothing at all', 'Somewhat',\n",
    "                                       'Very much', 'Not very much'],\n",
    "                           value=[1, 3, 4, 2], \n",
    "                           inplace=True)"
   ]
  },
  {
   "cell_type": "code",
   "execution_count": 73,
   "metadata": {
    "ExecuteTime": {
     "end_time": "2020-10-18T21:09:18.095893Z",
     "start_time": "2020-10-18T21:09:18.064643Z"
    }
   },
   "outputs": [],
   "source": [
    "df_clean.diagnosed.replace(to_replace=['0', 'Yes'], value=[0, 1],\n",
    "                         inplace=True)"
   ]
  },
  {
   "cell_type": "code",
   "execution_count": 74,
   "metadata": {
    "ExecuteTime": {
     "end_time": "2020-10-18T21:09:18.127143Z",
     "start_time": "2020-10-18T21:09:18.095893Z"
    }
   },
   "outputs": [],
   "source": [
    "for column in ['concern_for_self__ad_', 'concern_for_others__ad_', \n",
    "               'prevention']:\n",
    "    df_clean[column].replace(to_replace=['Not at all', 'Not very much',\n",
    "                                         'Pretty much', 'Very much'],\n",
    "                             value=[1, 2, 3, 4], inplace=True)"
   ]
  },
  {
   "cell_type": "code",
   "execution_count": 75,
   "metadata": {
    "ExecuteTime": {
     "end_time": "2020-10-18T21:09:18.211781Z",
     "start_time": "2020-10-18T21:09:18.127143Z"
    }
   },
   "outputs": [],
   "source": [
    "for column in ['plan__ad_', 'education__ad_', 'services__ad_',\n",
    "               'language_barrier__ad_', 'fate__ad_', 'aging__ad_', \n",
    "               'embarrassing__ad_', 'avoidance__ad_', 'cure__ad_',\n",
    "               'nursing_home__ad_', 'advanced_directives',\n",
    "               'have_an_advanced_directive']:\n",
    "    df_clean[column].replace(to_replace=['0', 'Yes'], value=[0, 1],\n",
    "                              inplace=True)"
   ]
  },
  {
   "cell_type": "markdown",
   "metadata": {},
   "source": [
    "### Superstition"
   ]
  },
  {
   "cell_type": "code",
   "execution_count": 76,
   "metadata": {
    "ExecuteTime": {
     "end_time": "2020-10-18T21:09:18.365435Z",
     "start_time": "2020-10-18T21:09:18.334180Z"
    }
   },
   "outputs": [],
   "source": [
    "df_clean.superstition.replace(to_replace=['Somewhat disagree', 'Strongly disagree',\n",
    "                                          'Somewhat agree', 'Strongly agree'],\n",
    "                              value=[2, 1, 3, 4],\n",
    "                              inplace=True)"
   ]
  },
  {
   "cell_type": "markdown",
   "metadata": {},
   "source": [
    "### Social and Community Values"
   ]
  },
  {
   "cell_type": "code",
   "execution_count": 77,
   "metadata": {
    "ExecuteTime": {
     "end_time": "2020-10-18T21:09:18.666238Z",
     "start_time": "2020-10-18T21:09:18.581590Z"
    }
   },
   "outputs": [],
   "source": [
    "for column in ['family_respect', 'similar_values', 'successful_family',\n",
    "               'trust', 'loyalty', 'family_pride', 'expression',\n",
    "               'spend_time_together', 'feel_close_', 'togetherness']:\n",
    "    df_clean[column].replace(to_replace=['Strongly agree', 'Somewhat agree',\n",
    "                                         'Somewhat disagree', 'Strongly disagree'],\n",
    "                             value=[4, 3, 2, 1],\n",
    "                             inplace=True)"
   ]
  },
  {
   "cell_type": "markdown",
   "metadata": {},
   "source": [
    "### Religious Attendance"
   ]
  },
  {
   "cell_type": "code",
   "execution_count": 78,
   "metadata": {
    "ExecuteTime": {
     "end_time": "2020-10-18T21:09:18.882384Z",
     "start_time": "2020-10-18T21:09:18.866759Z"
    }
   },
   "outputs": [],
   "source": [
    "df_clean.religious_attendance.replace(to_replace=['Once or twice a month',\n",
    "                                                  'Never', 'Seldom',\n",
    "                                                  'A few times a year'],\n",
    "                                      value=[4, 1, 2, 3],\n",
    "                                      inplace=True)"
   ]
  },
  {
   "cell_type": "code",
   "execution_count": 79,
   "metadata": {
    "ExecuteTime": {
     "end_time": "2020-10-18T21:09:18.913636Z",
     "start_time": "2020-10-18T21:09:18.882384Z"
    }
   },
   "outputs": [],
   "source": [
    "df_clean.religious_importance.replace(to_replace=['Very important',\n",
    "                                                  'Not very important',\n",
    "                                                  'Not at all important',\n",
    "                                                  'Somewhat important'],\n",
    "                                      value=[4, 2, 1, 3],\n",
    "                                      inplace=True)"
   ]
  },
  {
   "cell_type": "markdown",
   "metadata": {},
   "source": [
    "### Community of the Ethnic Origin"
   ]
  },
  {
   "cell_type": "code",
   "execution_count": 80,
   "metadata": {
    "ExecuteTime": {
     "end_time": "2020-10-18T21:09:19.183180Z",
     "start_time": "2020-10-18T21:09:19.136296Z"
    }
   },
   "outputs": [],
   "source": [
    "for column in ['close_knit_community', 'helpful_community',\n",
    "               'community_shares_values', 'get_along', 'community_trust']:\n",
    "    df_clean[column].replace(to_replace=['Neutral', 'Strongly disagree',\n",
    "                                         'Disagree', 'Agree', 'Strongly agree'],\n",
    "                             value=[3, 1, 2, 4, 5],\n",
    "                             inplace=True)"
   ]
  },
  {
   "cell_type": "markdown",
   "metadata": {},
   "source": [
    "### Life in Austin"
   ]
  },
  {
   "cell_type": "code",
   "execution_count": 81,
   "metadata": {
    "ExecuteTime": {
     "end_time": "2020-10-18T21:09:19.483974Z",
     "start_time": "2020-10-18T21:09:19.414958Z"
    }
   },
   "outputs": [],
   "source": [
    "for column in ['place_to_live', 'raising_children', 'place_to_work',\n",
    "               'small_businesses_', 'place_to_retire', 'arts_and_culture', \n",
    "               'safety', 'traffic', 'qualtiy_of_life', 'quality_of_service']:\n",
    "    df_clean[column].replace(to_replace=['Good', 'Excellent', 'Fair', 'Poor'],\n",
    "                             value=[3, 4, 2, 1], inplace=True)"
   ]
  },
  {
   "cell_type": "code",
   "execution_count": 82,
   "metadata": {
    "ExecuteTime": {
     "end_time": "2020-10-18T21:09:19.552989Z",
     "start_time": "2020-10-18T21:09:19.483974Z"
    }
   },
   "outputs": [],
   "source": [
    "for column in ['parks_and_recs', 'libraries', 'public_safety', 'airport',\n",
    "               'austin_energy', 'court', 'social_services']:\n",
    "    df_clean[column].replace(to_replace=['Pretty much satisfied', 'Never used',\n",
    "                                         'Not very much satisfied',\n",
    "                                         'Very much satisfied',\n",
    "                                         'Not at all satisfied'],\n",
    "                             value=[3, 5, 2, 4, 1], inplace=True)"
   ]
  },
  {
   "cell_type": "markdown",
   "metadata": {},
   "source": [
    "### AARC"
   ]
  },
  {
   "cell_type": "code",
   "execution_count": 83,
   "metadata": {
    "ExecuteTime": {
     "end_time": "2020-10-18T21:09:19.769152Z",
     "start_time": "2020-10-18T21:09:19.737895Z"
    }
   },
   "outputs": [],
   "source": [
    "df_clean.aware_of_aarc.replace(to_replace=['No', 'Yes'],\n",
    "                                value=[0, 1],\n",
    "                                inplace=True)"
   ]
  },
  {
   "cell_type": "code",
   "execution_count": 84,
   "metadata": {
    "ExecuteTime": {
     "end_time": "2020-10-18T21:09:19.800402Z",
     "start_time": "2020-10-18T21:09:19.769152Z"
    }
   },
   "outputs": [],
   "source": [
    "df_clean.visit_frequency_.replace(to_replace=['Never', 'Some of the time',\n",
    "                                              'Rarely', 'Often'],\n",
    "                                value=[1, 3, 2, 4],\n",
    "                                inplace=True)"
   ]
  },
  {
   "cell_type": "code",
   "execution_count": 85,
   "metadata": {
    "ExecuteTime": {
     "end_time": "2020-10-18T21:09:19.831652Z",
     "start_time": "2020-10-18T21:09:19.800402Z"
    }
   },
   "outputs": [],
   "source": [
    "df_clean.activities.replace(to_replace=['Never', 'Some of the time',\n",
    "                                              'Rarely', 'Often'],\n",
    "                                value=[1, 3, 2, 4],\n",
    "                                inplace=True)"
   ]
  },
  {
   "cell_type": "markdown",
   "metadata": {},
   "source": [
    "### City Services & Resources"
   ]
  },
  {
   "cell_type": "code",
   "execution_count": 86,
   "metadata": {
    "ExecuteTime": {
     "end_time": "2020-10-18T21:09:20.085581Z",
     "start_time": "2020-10-18T21:09:20.054329Z"
    }
   },
   "outputs": [],
   "source": [
    "for column in ['ems_classes', 'fire_alarm', 'public_computer',\n",
    "               'library_internet_acess', 'literature', 'citizenship_class',\n",
    "               'small_business', 'english_classes', '9_1_1', '3_1_1',\n",
    "               'apd_languages_', 'district']:\n",
    "    df_clean[column].replace(to_replace=['No', 'Yes'], value=[0, 1], inplace=True)"
   ]
  },
  {
   "cell_type": "markdown",
   "metadata": {},
   "source": [
    "### Housing"
   ]
  },
  {
   "cell_type": "code",
   "execution_count": 87,
   "metadata": {
    "ExecuteTime": {
     "end_time": "2020-10-18T21:09:20.355122Z",
     "start_time": "2020-10-18T21:09:20.317356Z"
    }
   },
   "outputs": [],
   "source": [
    "df_clean.housing_.replace(to_replace=['Apartment/ Townhouse/ Condominium',\n",
    "                                      'One-family house',\n",
    "                                      'Mobile house',\n",
    "                                      'Two-family house/ duplex'],\n",
    "                          value=[4, 2, 1, 3],\n",
    "                          inplace=True)"
   ]
  },
  {
   "cell_type": "code",
   "execution_count": 88,
   "metadata": {
    "ExecuteTime": {
     "end_time": "2020-10-18T21:09:20.370749Z",
     "start_time": "2020-10-18T21:09:20.355122Z"
    }
   },
   "outputs": [],
   "source": [
    "df_clean.status_of_ownership.replace(to_replace=['Own', 'Rent'],\n",
    "                                     value=[0, 1],\n",
    "                                     inplace=True)"
   ]
  },
  {
   "cell_type": "code",
   "execution_count": 89,
   "metadata": {
    "ExecuteTime": {
     "end_time": "2020-10-18T21:09:20.401998Z",
     "start_time": "2020-10-18T21:09:20.370749Z"
    }
   },
   "outputs": [],
   "source": [
    "df_clean['satisfaction_with_housing.'].replace(to_replace=['Pretty much',\n",
    "                                                           'Very much',\n",
    "                                                           'Not very much',\n",
    "                                                           'Not at all'],\n",
    "                                               value=[3, 4, 2, 1],\n",
    "                                               inplace=True)"
   ]
  },
  {
   "cell_type": "code",
   "execution_count": 90,
   "metadata": {
    "ExecuteTime": {
     "end_time": "2020-10-18T21:09:20.433247Z",
     "start_time": "2020-10-18T21:09:20.401998Z"
    }
   },
   "outputs": [],
   "source": [
    "for column in ['nursing_home', 'smoke_detector', 'recycle', 'compost']:\n",
    "    df_clean[column].replace(to_replace=['No', 'Yes'], value=[0,1], inplace=True)"
   ]
  },
  {
   "cell_type": "markdown",
   "metadata": {},
   "source": [
    "### Transportation"
   ]
  },
  {
   "cell_type": "code",
   "execution_count": 91,
   "metadata": {
    "ExecuteTime": {
     "end_time": "2020-10-18T21:09:20.702797Z",
     "start_time": "2020-10-18T21:09:20.655919Z"
    }
   },
   "outputs": [],
   "source": [
    "for transportation in ['public_transportation', 'bicycling', 'carpooling',\n",
    "                      'personal_car', 'car_share', 'walking']:\n",
    "    df_clean[transportation].replace(to_replace=['No', 'Yes'],\n",
    "                                     value=[0,1], inplace=True)"
   ]
  },
  {
   "cell_type": "markdown",
   "metadata": {},
   "source": [
    "### General"
   ]
  },
  {
   "cell_type": "code",
   "execution_count": 92,
   "metadata": {
    "ExecuteTime": {
     "end_time": "2020-10-18T21:09:21.172825Z",
     "start_time": "2020-10-18T21:09:21.132551Z"
    }
   },
   "outputs": [],
   "source": [
    "for column in ['access_to_a_computer', 'mobile_devices', 'home_phone',\n",
    "               'public_meeting', 'council_meeting', 'contact_city_official',\n",
    "               'city_election', 'focus_group']:\n",
    "    df_clean[column].replace(to_replace=['No', 'Yes'],\n",
    "                                value=[0,1], inplace=True)"
   ]
  },
  {
   "cell_type": "code",
   "execution_count": 93,
   "metadata": {
    "ExecuteTime": {
     "end_time": "2020-10-18T21:09:21.213131Z",
     "start_time": "2020-10-18T21:09:21.174850Z"
    }
   },
   "outputs": [],
   "source": [
    "df_clean.informed.replace(to_replace=['Not interested', 'Interested',\n",
    "                                      'Somewhat interested',\n",
    "                                      'Not interested at all', 'Very interested'],\n",
    "                          value=[2, 4, 3, 1, 5], \n",
    "                          inplace=True)"
   ]
  },
  {
   "cell_type": "code",
   "execution_count": 94,
   "metadata": {
    "ExecuteTime": {
     "end_time": "2020-10-18T21:09:21.233259Z",
     "start_time": "2020-10-18T21:09:21.215164Z"
    }
   },
   "outputs": [],
   "source": [
    "df_clean.city_effort_satisfaction.replace(to_replace=['Somewhat dissatisfied',\n",
    "                                          'Niether satisfied or dissatisfied',\n",
    "                                          'Somewhat satisfied', 'Very satisfied',\n",
    "                                          'Very dissatisfied'],\n",
    "                                          value=[2, 3, 4, 5, 1], \n",
    "                                          inplace=True)"
   ]
  },
  {
   "cell_type": "markdown",
   "metadata": {},
   "source": [
    "### Communication"
   ]
  },
  {
   "cell_type": "code",
   "execution_count": 95,
   "metadata": {
    "ExecuteTime": {
     "end_time": "2020-10-18T21:09:21.847892Z",
     "start_time": "2020-10-18T21:09:21.778873Z"
    }
   },
   "outputs": [],
   "source": [
    "for channel in ['paper__city_based_', 'tv_radio__city_based_', 'website__city_based_',\n",
    "                'social_networks__city_based_', 'people__city_based_', 'other__city_based_',\n",
    "                'paper__non_city_based_ethnic_', 'tv_radio__non_city_based_ethnic_',\n",
    "                'website__non_city_based_ethnic_', 'social_networks__non_city_based_ethnic_',\n",
    "                'people__non_city_based_ethnic_', 'other__non_city_based_ethnic_',\n",
    "                'paper__non_city_based_general_', 'tv_radio__non_city_based_general_',\n",
    "                'website__non_city_based_general_', 'social_networks__non_city_based_general_',\n",
    "                'people__non_city_based_general_', 'other__non_city_based_general_']:\n",
    "    df_clean[channel].replace(to_replace=['No', 'Yes'],\n",
    "                                value=[0,1], inplace=True)"
   ]
  },
  {
   "cell_type": "markdown",
   "metadata": {},
   "source": [
    "## Final Adjustments"
   ]
  },
  {
   "cell_type": "code",
   "execution_count": 96,
   "metadata": {
    "ExecuteTime": {
     "end_time": "2020-10-18T21:09:22.110925Z",
     "start_time": "2020-10-18T21:09:22.095303Z"
    },
    "scrolled": false
   },
   "outputs": [],
   "source": [
    "temp = [s.rstrip('_') for s in df_clean.columns]\n",
    "temp = [s.replace('__', '_') for s in temp]\n",
    "temp = [s.rstrip('.') for s in temp]\n",
    "df_clean.columns = temp"
   ]
  },
  {
   "cell_type": "code",
   "execution_count": 97,
   "metadata": {
    "ExecuteTime": {
     "end_time": "2020-10-18T21:09:22.179939Z",
     "start_time": "2020-10-18T21:09:22.110925Z"
    }
   },
   "outputs": [
    {
     "data": {
      "text/html": [
       "<div>\n",
       "<style scoped>\n",
       "    .dataframe tbody tr th:only-of-type {\n",
       "        vertical-align: middle;\n",
       "    }\n",
       "\n",
       "    .dataframe tbody tr th {\n",
       "        vertical-align: top;\n",
       "    }\n",
       "\n",
       "    .dataframe thead th {\n",
       "        text-align: right;\n",
       "    }\n",
       "</style>\n",
       "<table border=\"1\" class=\"dataframe\">\n",
       "  <thead>\n",
       "    <tr style=\"text-align: right;\">\n",
       "      <th></th>\n",
       "      <th>survey_id</th>\n",
       "      <th>age</th>\n",
       "      <th>gender</th>\n",
       "      <th>ethnicity</th>\n",
       "      <th>marital_status</th>\n",
       "      <th>education_completed</th>\n",
       "      <th>household_size</th>\n",
       "      <th>no_one</th>\n",
       "      <th>spouse</th>\n",
       "      <th>children</th>\n",
       "      <th>...</th>\n",
       "      <th>website_non_city_based_ethnic</th>\n",
       "      <th>social_networks_non_city_based_ethnic</th>\n",
       "      <th>people_non_city_based_ethnic</th>\n",
       "      <th>other_non_city_based_ethnic</th>\n",
       "      <th>paper_non_city_based_general</th>\n",
       "      <th>tv_radio_non_city_based_general</th>\n",
       "      <th>website_non_city_based_general</th>\n",
       "      <th>social_networks_non_city_based_general</th>\n",
       "      <th>people_non_city_based_general</th>\n",
       "      <th>other_non_city_based_general</th>\n",
       "    </tr>\n",
       "  </thead>\n",
       "  <tbody>\n",
       "    <tr>\n",
       "      <th>0</th>\n",
       "      <td>80314</td>\n",
       "      <td>NaN</td>\n",
       "      <td>NaN</td>\n",
       "      <td>4.0</td>\n",
       "      <td>NaN</td>\n",
       "      <td>NaN</td>\n",
       "      <td>NaN</td>\n",
       "      <td>NaN</td>\n",
       "      <td>NaN</td>\n",
       "      <td>NaN</td>\n",
       "      <td>...</td>\n",
       "      <td>NaN</td>\n",
       "      <td>NaN</td>\n",
       "      <td>NaN</td>\n",
       "      <td>NaN</td>\n",
       "      <td>NaN</td>\n",
       "      <td>NaN</td>\n",
       "      <td>NaN</td>\n",
       "      <td>NaN</td>\n",
       "      <td>NaN</td>\n",
       "      <td>NaN</td>\n",
       "    </tr>\n",
       "    <tr>\n",
       "      <th>1</th>\n",
       "      <td>60171</td>\n",
       "      <td>60.0</td>\n",
       "      <td>0.0</td>\n",
       "      <td>1.0</td>\n",
       "      <td>1.0</td>\n",
       "      <td>13.0</td>\n",
       "      <td>6.0</td>\n",
       "      <td>0.0</td>\n",
       "      <td>0.0</td>\n",
       "      <td>1.0</td>\n",
       "      <td>...</td>\n",
       "      <td>NaN</td>\n",
       "      <td>NaN</td>\n",
       "      <td>NaN</td>\n",
       "      <td>NaN</td>\n",
       "      <td>NaN</td>\n",
       "      <td>NaN</td>\n",
       "      <td>NaN</td>\n",
       "      <td>NaN</td>\n",
       "      <td>NaN</td>\n",
       "      <td>NaN</td>\n",
       "    </tr>\n",
       "    <tr>\n",
       "      <th>2</th>\n",
       "      <td>1011601</td>\n",
       "      <td>23.0</td>\n",
       "      <td>1.0</td>\n",
       "      <td>1.0</td>\n",
       "      <td>3.0</td>\n",
       "      <td>16.0</td>\n",
       "      <td>3.0</td>\n",
       "      <td>0.0</td>\n",
       "      <td>0.0</td>\n",
       "      <td>0.0</td>\n",
       "      <td>...</td>\n",
       "      <td>0.0</td>\n",
       "      <td>0.0</td>\n",
       "      <td>1.0</td>\n",
       "      <td>0.0</td>\n",
       "      <td>0.0</td>\n",
       "      <td>0.0</td>\n",
       "      <td>0.0</td>\n",
       "      <td>0.0</td>\n",
       "      <td>1.0</td>\n",
       "      <td>0.0</td>\n",
       "    </tr>\n",
       "    <tr>\n",
       "      <th>3</th>\n",
       "      <td>50046</td>\n",
       "      <td>73.0</td>\n",
       "      <td>1.0</td>\n",
       "      <td>1.0</td>\n",
       "      <td>4.0</td>\n",
       "      <td>13.0</td>\n",
       "      <td>1.0</td>\n",
       "      <td>1.0</td>\n",
       "      <td>0.0</td>\n",
       "      <td>0.0</td>\n",
       "      <td>...</td>\n",
       "      <td>NaN</td>\n",
       "      <td>NaN</td>\n",
       "      <td>NaN</td>\n",
       "      <td>NaN</td>\n",
       "      <td>NaN</td>\n",
       "      <td>NaN</td>\n",
       "      <td>NaN</td>\n",
       "      <td>NaN</td>\n",
       "      <td>NaN</td>\n",
       "      <td>NaN</td>\n",
       "    </tr>\n",
       "    <tr>\n",
       "      <th>4</th>\n",
       "      <td>10494</td>\n",
       "      <td>29.0</td>\n",
       "      <td>0.0</td>\n",
       "      <td>2.0</td>\n",
       "      <td>3.0</td>\n",
       "      <td>17.0</td>\n",
       "      <td>1.0</td>\n",
       "      <td>1.0</td>\n",
       "      <td>0.0</td>\n",
       "      <td>0.0</td>\n",
       "      <td>...</td>\n",
       "      <td>NaN</td>\n",
       "      <td>NaN</td>\n",
       "      <td>NaN</td>\n",
       "      <td>NaN</td>\n",
       "      <td>NaN</td>\n",
       "      <td>NaN</td>\n",
       "      <td>NaN</td>\n",
       "      <td>NaN</td>\n",
       "      <td>NaN</td>\n",
       "      <td>NaN</td>\n",
       "    </tr>\n",
       "  </tbody>\n",
       "</table>\n",
       "<p>5 rows × 197 columns</p>\n",
       "</div>"
      ],
      "text/plain": [
       "   survey_id   age  gender  ethnicity  marital_status  education_completed  \\\n",
       "0      80314   NaN     NaN        4.0             NaN                  NaN   \n",
       "1      60171  60.0     0.0        1.0             1.0                 13.0   \n",
       "2    1011601  23.0     1.0        1.0             3.0                 16.0   \n",
       "3      50046  73.0     1.0        1.0             4.0                 13.0   \n",
       "4      10494  29.0     0.0        2.0             3.0                 17.0   \n",
       "\n",
       "   household_size  no_one  spouse  children  ...  \\\n",
       "0             NaN     NaN     NaN       NaN  ...   \n",
       "1             6.0     0.0     0.0       1.0  ...   \n",
       "2             3.0     0.0     0.0       0.0  ...   \n",
       "3             1.0     1.0     0.0       0.0  ...   \n",
       "4             1.0     1.0     0.0       0.0  ...   \n",
       "\n",
       "   website_non_city_based_ethnic  social_networks_non_city_based_ethnic  \\\n",
       "0                            NaN                                    NaN   \n",
       "1                            NaN                                    NaN   \n",
       "2                            0.0                                    0.0   \n",
       "3                            NaN                                    NaN   \n",
       "4                            NaN                                    NaN   \n",
       "\n",
       "   people_non_city_based_ethnic  other_non_city_based_ethnic  \\\n",
       "0                           NaN                          NaN   \n",
       "1                           NaN                          NaN   \n",
       "2                           1.0                          0.0   \n",
       "3                           NaN                          NaN   \n",
       "4                           NaN                          NaN   \n",
       "\n",
       "   paper_non_city_based_general  tv_radio_non_city_based_general  \\\n",
       "0                           NaN                              NaN   \n",
       "1                           NaN                              NaN   \n",
       "2                           0.0                              0.0   \n",
       "3                           NaN                              NaN   \n",
       "4                           NaN                              NaN   \n",
       "\n",
       "   website_non_city_based_general  social_networks_non_city_based_general  \\\n",
       "0                             NaN                                     NaN   \n",
       "1                             NaN                                     NaN   \n",
       "2                             0.0                                     0.0   \n",
       "3                             NaN                                     NaN   \n",
       "4                             NaN                                     NaN   \n",
       "\n",
       "   people_non_city_based_general  other_non_city_based_general  \n",
       "0                            NaN                           NaN  \n",
       "1                            NaN                           NaN  \n",
       "2                            1.0                           0.0  \n",
       "3                            NaN                           NaN  \n",
       "4                            NaN                           NaN  \n",
       "\n",
       "[5 rows x 197 columns]"
      ]
     },
     "execution_count": 97,
     "metadata": {},
     "output_type": "execute_result"
    }
   ],
   "source": [
    "df_clean.head()"
   ]
  },
  {
   "cell_type": "code",
   "execution_count": 98,
   "metadata": {
    "ExecuteTime": {
     "end_time": "2020-10-18T21:09:22.433861Z",
     "start_time": "2020-10-18T21:09:22.179939Z"
    },
    "scrolled": false
   },
   "outputs": [
    {
     "name": "stdout",
     "output_type": "stream",
     "text": [
      "survey_id\n",
      "[   80314    60171  1011601 ... 11081000 10953000 10945000]\n",
      "--------------------------------------------------\n",
      "age\n",
      "[nan 60. 23. 73. 29. 34. 28. 47. 25. 22. 43. 44. 32. 40. 70. 68. 46. 27.\n",
      " 72. 36. 49. 75. 76. 69. 74. 19. 65. 55. 67. 81. 45. 78. 24. 61. 52. 66.\n",
      " 57. 51. 58. 41. 86. 42. 48. 20. 18. 26. 21. 31. 64. 56. 37. 71. 33. 39.\n",
      " 30. 77. 50. 35. 80. 38. 87. 54. 82. 62. 53. 89. 63. 59. 84. 83. 98. 79.\n",
      " 85. 88.]\n",
      "--------------------------------------------------\n",
      "gender\n",
      "[nan  0.  1.]\n",
      "--------------------------------------------------\n",
      "ethnicity\n",
      "[ 4.  1.  2.  5. nan  3.  6.]\n",
      "--------------------------------------------------\n",
      "marital_status\n",
      "[nan  1.  3.  4.  2.]\n",
      "--------------------------------------------------\n",
      "education_completed\n",
      "[nan 13. 16. 17. 12. 14. 10.  7.  9.  6.  8. 15.  5. 11.  3.  4.  0.  2.]\n",
      "--------------------------------------------------\n",
      "household_size\n",
      "[nan  6.  3.  1.  2.  5.  4.  8.  7.]\n",
      "--------------------------------------------------\n",
      "no_one\n",
      "[nan  0.  1.]\n",
      "--------------------------------------------------\n",
      "spouse\n",
      "[nan  0.  1.]\n",
      "--------------------------------------------------\n",
      "children\n",
      "[nan  1.  0.]\n",
      "--------------------------------------------------\n",
      "grand_children\n",
      "[nan  0.  1.]\n",
      "--------------------------------------------------\n",
      "parent\n",
      "[nan  0.  1.]\n",
      "--------------------------------------------------\n",
      "brother_sister\n",
      "[nan  0.  1.]\n",
      "--------------------------------------------------\n",
      "friends\n",
      "[nan  0.  1.]\n",
      "--------------------------------------------------\n",
      "religion\n",
      "[nan  6.  2.  4.  5.  3.  1.  7.]\n",
      "--------------------------------------------------\n",
      "full_time_employment\n",
      "[nan  0.  1.]\n",
      "--------------------------------------------------\n",
      "part_time_employment\n",
      "[nan  0.  1.]\n",
      "--------------------------------------------------\n",
      "student\n",
      "[nan  0.  1.]\n",
      "--------------------------------------------------\n",
      "homemaker\n",
      "[nan  0.  1.]\n",
      "--------------------------------------------------\n",
      "retired\n",
      "[nan  1.  0.]\n",
      "--------------------------------------------------\n",
      "income\n",
      "[nan  4.  1.  8.  6.  5.  3.  7.  2.]\n",
      "--------------------------------------------------\n",
      "achieving_ends_meet\n",
      "[nan  0.  1.]\n",
      "--------------------------------------------------\n",
      "us_born\n",
      "[nan  0.  1.]\n",
      "--------------------------------------------------\n",
      "duration_of_residency\n",
      "[  nan  0.5  11.   50.    7.   20.    2.   47.   13.   30.   12.   32.\n",
      "  9.   21.   27.   23.   15.    4.    8.   35.    3.   25.   19.   78.\n",
      "  1.   42.   29.   39.    6.   10.   22.    5.   17.   16.   18.   33.\n",
      " 38.   45.    0.25  0.9  24.   36.    1.5  34.   51.   37.   41.   44.\n",
      " 14.   43.   28.   31.   26.   48.   65.   40.   53.   55.    6.5  49.\n",
      " 59.   67.    0.75 54.   66.   46.  ]\n",
      "--------------------------------------------------\n",
      "primary_language\n",
      "[nan  1.  0.]\n",
      "--------------------------------------------------\n",
      "english_speaking\n",
      "[nan  1.  3.  2.  4.]\n",
      "--------------------------------------------------\n",
      "english_difficulties\n",
      "[nan  2.  3.  4.  1.]\n",
      "--------------------------------------------------\n",
      "familiarity_with_america\n",
      "[nan  3.  2.  4.  1.]\n",
      "--------------------------------------------------\n",
      "familiarity_with_ethnic_origin\n",
      "[nan  3.  4.  1.  2.]\n",
      "--------------------------------------------------\n",
      "identify_ethnically\n",
      "[nan  4.  3.  2.  1.]\n",
      "--------------------------------------------------\n",
      "belonging\n",
      "[nan  2.  4.  1.  3.]\n",
      "--------------------------------------------------\n",
      "discrimination\n",
      "[nan  0.  1.]\n",
      "--------------------------------------------------\n",
      "present_health\n",
      "[nan  2.  3.  1.  4.  5.]\n",
      "--------------------------------------------------\n",
      "present_mental_health\n",
      "[nan  3.  2.  1.  4.  5.]\n",
      "--------------------------------------------------\n",
      "present_oral_health\n",
      "[nan  3.  1.  2.  4.  5.]\n",
      "--------------------------------------------------\n",
      "hygiene_assistance\n",
      "[nan  0.  1.]\n",
      "--------------------------------------------------\n",
      "smoking\n",
      "[nan  0.  1.]\n",
      "--------------------------------------------------\n",
      "drinking\n",
      "[nan  0.  1.]\n",
      "--------------------------------------------------\n",
      "regular_exercise\n",
      "[nan  0.  1.]\n",
      "--------------------------------------------------\n",
      "healthy_diet\n",
      "[nan  1.  0.]\n",
      "--------------------------------------------------\n",
      "hypertension\n",
      "[nan  0.  1.]\n",
      "--------------------------------------------------\n",
      "diabetes\n",
      "[nan  0.  1.]\n",
      "--------------------------------------------------\n",
      "arthritis\n",
      "[nan  0.  1.]\n",
      "--------------------------------------------------\n",
      "physical_check_up\n",
      "[nan  1.  0.]\n",
      "--------------------------------------------------\n",
      "dentist_check_up\n",
      "[nan  0.  1.]\n",
      "--------------------------------------------------\n",
      "urgentcare\n",
      "[nan  0.  1.]\n",
      "--------------------------------------------------\n",
      "folkmedicine\n",
      "[nan  0.  1.]\n",
      "--------------------------------------------------\n",
      "primary_care\n",
      "[nan  1.  0.]\n",
      "--------------------------------------------------\n",
      "health_insurance\n",
      "[nan  0.  1.]\n",
      "--------------------------------------------------\n",
      "dental_insurance\n",
      "[nan  0.  1.]\n",
      "--------------------------------------------------\n",
      "unmet_health_need\n",
      "[nan  0.  1.]\n",
      "--------------------------------------------------\n",
      "unmet_dental_needs\n",
      "[nan  0.  1.]\n",
      "--------------------------------------------------\n",
      "transportation_medical\n",
      "[nan  0.  1.]\n",
      "--------------------------------------------------\n",
      "interpretation_medical\n",
      "[nan  0.  1.]\n",
      "--------------------------------------------------\n",
      "comunication_problem\n",
      "[nan  0.  1.]\n",
      "--------------------------------------------------\n",
      "preferance\n",
      "[nan  1.  0.]\n",
      "--------------------------------------------------\n",
      "language\n",
      "['Viet' 'Chinese Simplified' 'English' 'Chinese Traditional' 'Tagalog' nan\n",
      " 'Eng_Chinese only' 'Gujarati' 'Korean' 'Hindi']\n",
      "--------------------------------------------------\n",
      "users\n",
      "[nan  1.  0.]\n",
      "--------------------------------------------------\n",
      "family\n",
      "[nan 1 0 '3']\n",
      "--------------------------------------------------\n",
      "close_friend\n",
      "[nan  0.  1.]\n",
      "--------------------------------------------------\n",
      "acquaintances\n",
      "[nan  0.  1.]\n",
      "--------------------------------------------------\n",
      "heal_professionals\n",
      "[nan  1.  0.]\n",
      "--------------------------------------------------\n",
      "mobile_apps\n",
      "[nan  0.  1.]\n",
      "--------------------------------------------------\n",
      "email\n",
      "[nan  0.  1.]\n",
      "--------------------------------------------------\n",
      "social_networks\n",
      "[nan  0.  1.]\n",
      "--------------------------------------------------\n",
      "online_communities\n",
      "[nan  0.  1.]\n",
      "--------------------------------------------------\n",
      "health_website\n",
      "[nan  1.  0.]\n",
      "--------------------------------------------------\n",
      "quality_of_life\n",
      "[nan  8.  5. 10.  9.  6.  7.  4.  1.  3.  2.  0.]\n",
      "--------------------------------------------------\n",
      "satisfied_with_life_1\n",
      "[nan  2.  5.  7.  6.  4.  3.  1.]\n",
      "--------------------------------------------------\n",
      "satisfied_with_life_2\n",
      "[nan  2.  6.  7.  4.  5.  3.  1.]\n",
      "--------------------------------------------------\n",
      "general_practitioner\n",
      "[nan  0.  1.]\n",
      "--------------------------------------------------\n",
      "religious_leader\n",
      "[nan  0.  1.]\n",
      "--------------------------------------------------\n",
      "weakness\n",
      "[nan  0.  1.]\n",
      "--------------------------------------------------\n",
      "shame\n",
      "[nan  0.  1.]\n",
      "--------------------------------------------------\n",
      "disappointment\n",
      "[nan  0.  1.]\n",
      "--------------------------------------------------\n",
      "disclosure\n",
      "[nan  0.  1.]\n",
      "--------------------------------------------------\n",
      "antidepressants\n",
      "[nan 1 0 '11']\n",
      "--------------------------------------------------\n",
      "danger\n",
      "[nan  1.  0.]\n",
      "--------------------------------------------------\n",
      "recovery\n",
      "[nan  0.  1.]\n",
      "--------------------------------------------------\n",
      "treatment\n",
      "[nan  0.  1.]\n",
      "--------------------------------------------------\n",
      "counseling\n",
      "[nan  1.  0.]\n",
      "--------------------------------------------------\n",
      "preference\n",
      "[nan  0.  1.]\n",
      "--------------------------------------------------\n",
      "knowledge\n",
      "[nan  1.  3.  4.  2.]\n",
      "--------------------------------------------------\n",
      "diagnosed\n",
      "[nan  0.  1.]\n",
      "--------------------------------------------------\n",
      "concern_for_self_ad\n",
      "[nan  1.  2.  3.  4.]\n",
      "--------------------------------------------------\n",
      "concern_for_others_ad\n",
      "[nan  1.  2.  3.  4.]\n",
      "--------------------------------------------------\n",
      "prevention\n",
      "[nan  1.  2.  4.  3.]\n",
      "--------------------------------------------------\n",
      "plan_ad\n",
      "[nan  0.  1.]\n",
      "--------------------------------------------------\n",
      "education_ad\n",
      "[nan  0.  1.]\n",
      "--------------------------------------------------\n",
      "services_ad\n",
      "[nan  0.  1.]\n",
      "--------------------------------------------------\n",
      "language_barrier_ad\n",
      "[nan  0.  1.]\n",
      "--------------------------------------------------\n",
      "fate_ad\n",
      "[nan  0.  1.]\n",
      "--------------------------------------------------\n",
      "aging_ad\n",
      "[nan  0.  1.]\n",
      "--------------------------------------------------\n",
      "embarrassing_ad\n",
      "[nan  0.  1.]\n",
      "--------------------------------------------------\n",
      "avoidance_ad\n",
      "[nan  0.  1.]\n",
      "--------------------------------------------------\n",
      "cure_ad\n",
      "[nan  1.  0.]\n",
      "--------------------------------------------------\n",
      "nursing_home_ad\n",
      "[nan  0.  1.]\n",
      "--------------------------------------------------\n",
      "advanced_directives\n",
      "[nan  0.  1.]\n",
      "--------------------------------------------------\n",
      "have_an_advanced_directive\n",
      "[nan  0.  1.]\n",
      "--------------------------------------------------\n",
      "superstition\n",
      "[nan  2.  1.  3.  4.]\n",
      "--------------------------------------------------\n",
      "see_family\n",
      "[nan  4.  3.  0.  1.  2.  5.]\n",
      "--------------------------------------------------\n",
      "close_family\n",
      "[nan  3.  2.  5.  0.  1.  4.]\n",
      "--------------------------------------------------\n",
      "helpful_family\n",
      "[nan  5.  3.  2.  1.  0.  4.]\n",
      "--------------------------------------------------\n",
      "see_friends\n",
      "[nan  4.  5.  3.  1.  0.  2.]\n",
      "--------------------------------------------------\n",
      "close_friends\n",
      "[nan  4.  5.  2.  3.  1.  0.]\n",
      "--------------------------------------------------\n",
      "helpful_friends\n",
      "[nan  4.  5.  0.  3.  2.  1.]\n",
      "--------------------------------------------------\n",
      "family_respect\n",
      "[nan  4.  3.  2.  1.]\n",
      "--------------------------------------------------\n",
      "similar_values\n",
      "[nan  4.  3.  2.  1.]\n",
      "--------------------------------------------------\n",
      "successful_family\n",
      "[nan  4.  3.  2.  1.]\n",
      "--------------------------------------------------\n",
      "trust\n",
      "[nan  4.  3.  1.  2.]\n",
      "--------------------------------------------------\n",
      "loyalty\n",
      "[nan  4.  3.  2.  1.]\n",
      "--------------------------------------------------\n",
      "family_pride\n",
      "[nan  4.  3.  2.  1.]\n",
      "--------------------------------------------------\n",
      "expression\n",
      "[nan  4.  3.  2.  1.]\n",
      "--------------------------------------------------\n",
      "spend_time_together\n",
      "[nan  4.  3.  2.  1.]\n",
      "--------------------------------------------------\n",
      "feel_close\n",
      "[nan  4.  2.  1.  3.]\n",
      "--------------------------------------------------\n",
      "togetherness\n",
      "[nan  4.  2.  3.  1.]\n",
      "--------------------------------------------------\n",
      "religious_attendance\n",
      "[nan  4.  1.  2.  3.]\n",
      "--------------------------------------------------\n",
      "religious_importance\n",
      "[nan  4.  2.  1.  3.]\n",
      "--------------------------------------------------\n",
      "close_knit_community\n",
      "[nan  3.  1.  2.  4.  5.]\n",
      "--------------------------------------------------\n",
      "helpful_community\n",
      "[nan  3.  2.  4.  5.  1.]\n",
      "--------------------------------------------------\n",
      "community_shares_values\n",
      "[nan  3.  1.  2.  4.  5.]\n",
      "--------------------------------------------------\n",
      "get_along\n",
      "[nan  3.  2.  4.  5.  1.]\n",
      "--------------------------------------------------\n",
      "community_trust\n",
      "[nan  3.  2.  4.  5.  1.]\n",
      "--------------------------------------------------\n",
      "residency\n",
      "[  nan  5.    3.    8.   21.   20.    0.5  37.    1.   15.    0.25  0.9\n",
      "  1.5   2.    7.    4.    4.5   6.    9.   10.   11.   12.   13.   14.\n",
      " 16.   17.   18.   19.   22.   23.   24.   25.   26.   27.   28.   29.\n",
      " 30.   31.   32.   34.   35.   36.   38.   40.   42.   46.   55.    0.33\n",
      " 33.   45.    2.5  44.   50.  ]\n",
      "--------------------------------------------------\n",
      "place_to_live\n",
      "[nan  3.  4.  2.  1.]\n",
      "--------------------------------------------------\n",
      "raising_children\n",
      "[nan  3.  4.  2.  1.]\n",
      "--------------------------------------------------\n",
      "place_to_work\n",
      "[nan  3.  4.  2.  1.]\n",
      "--------------------------------------------------\n",
      "small_businesses\n",
      "[nan 3 2 4 1 '33']\n",
      "--------------------------------------------------\n",
      "place_to_retire\n",
      "[nan  3.  2.  4.  1.]\n",
      "--------------------------------------------------\n",
      "arts_and_culture\n",
      "[nan  3.  4.  2.  1.]\n",
      "--------------------------------------------------\n",
      "safety\n",
      "[nan 3 4 2 1 '33']\n",
      "--------------------------------------------------\n",
      "traffic\n",
      "[nan  1.  3.  2.  4.]\n",
      "--------------------------------------------------\n",
      "qualtiy_of_life\n",
      "[nan  3.  2.  4.  1.]\n",
      "--------------------------------------------------\n",
      "quality_of_service\n",
      "[nan  3.  1.  2.  4.]\n",
      "--------------------------------------------------\n",
      "parks_and_recs\n",
      "[nan  3.  5.  2.  4.  1.]\n",
      "--------------------------------------------------\n",
      "libraries\n",
      "[nan  3.  5.  4.  2.  1.]\n",
      "--------------------------------------------------\n",
      "public_safety\n",
      "[nan  5.  3.  2.  4.  1.]\n",
      "--------------------------------------------------\n",
      "airport\n",
      "[nan  5.  3.  2.  4.  1.]\n",
      "--------------------------------------------------\n",
      "austin_energy\n",
      "[nan  3.  2.  4.  5.  1.]\n",
      "--------------------------------------------------\n",
      "court\n",
      "[nan  5.  3.  2.  4.  1.]\n",
      "--------------------------------------------------\n",
      "social_services\n",
      "[nan  5.  3.  2.  4.  1.]\n",
      "--------------------------------------------------\n",
      "aware_of_aarc\n",
      "[nan 0 1 '3' '5']\n",
      "--------------------------------------------------\n",
      "visit_frequency\n",
      "[nan  1.  3.  2.  4.]\n",
      "--------------------------------------------------\n",
      "activities\n",
      "[nan  1.  3.  2.  4.]\n",
      "--------------------------------------------------\n",
      "ems_classes\n",
      "[nan 0 1 '3']\n",
      "--------------------------------------------------\n",
      "fire_alarm\n",
      "[nan  0.  1.]\n",
      "--------------------------------------------------\n",
      "public_computer\n",
      "[nan 0 1 '3']\n",
      "--------------------------------------------------\n",
      "library_internet_acess\n",
      "[nan 1 0 '3']\n",
      "--------------------------------------------------\n",
      "literature\n",
      "[nan 1 0 '3']\n",
      "--------------------------------------------------\n",
      "citizenship_class\n",
      "[nan 1 0 '3']\n",
      "--------------------------------------------------\n",
      "small_business\n",
      "[nan 0 1 '3']\n",
      "--------------------------------------------------\n",
      "english_classes\n",
      "[nan 0 1 '3']\n",
      "--------------------------------------------------\n",
      "9_1_1\n",
      "[nan  1.  0.]\n",
      "--------------------------------------------------\n",
      "3_1_1\n",
      "[nan 0 1 '3']\n",
      "--------------------------------------------------\n",
      "apd_languages\n",
      "[nan 0 1 '3']\n",
      "--------------------------------------------------\n",
      "district\n",
      "[nan 0 1 '3']\n",
      "--------------------------------------------------\n",
      "housing\n",
      "[nan 4 2 '5' 1 3 '6']\n",
      "--------------------------------------------------\n",
      "status_of_ownership\n",
      "[nan 0 1 '3']\n",
      "--------------------------------------------------\n",
      "satisfaction_with_housing\n",
      "[nan  3.  4.  2.  1.]\n",
      "--------------------------------------------------\n",
      "nursing_home\n",
      "[nan 0 1 '11' '3']\n",
      "--------------------------------------------------\n",
      "smoke_detector\n",
      "[nan  1.  0.]\n",
      "--------------------------------------------------\n",
      "recycle\n",
      "[nan  0.  1.]\n",
      "--------------------------------------------------\n",
      "compost\n",
      "[nan 1 0 '3']\n",
      "--------------------------------------------------\n",
      "public_transportation\n",
      "[nan  1.  0.]\n",
      "--------------------------------------------------\n",
      "bicycling\n"
     ]
    },
    {
     "name": "stdout",
     "output_type": "stream",
     "text": [
      "[nan  0.  1.]\n",
      "--------------------------------------------------\n",
      "carpooling\n",
      "[nan  0.  1.]\n",
      "--------------------------------------------------\n",
      "personal_car\n",
      "[nan  0.  1.]\n",
      "--------------------------------------------------\n",
      "car_share\n",
      "[nan  0.  1.]\n",
      "--------------------------------------------------\n",
      "walking\n",
      "[nan  0.  1.]\n",
      "--------------------------------------------------\n",
      "access_to_a_computer\n",
      "[nan 1 0 '11']\n",
      "--------------------------------------------------\n",
      "mobile_devices\n",
      "[nan  1.  0.]\n",
      "--------------------------------------------------\n",
      "home_phone\n",
      "[nan  0.  1.]\n",
      "--------------------------------------------------\n",
      "public_meeting\n",
      "[nan 0 1 '0']\n",
      "--------------------------------------------------\n",
      "council_meeting\n",
      "[nan 0 1 '0']\n",
      "--------------------------------------------------\n",
      "contact_city_official\n",
      "[nan 0 1 '0']\n",
      "--------------------------------------------------\n",
      "city_election\n",
      "[nan 0 1 '0']\n",
      "--------------------------------------------------\n",
      "focus_group\n",
      "[nan 0 1 '3' '4' '0']\n",
      "--------------------------------------------------\n",
      "informed\n",
      "[nan  2.  4.  3.  1.  5.]\n",
      "--------------------------------------------------\n",
      "city_effort_satisfaction\n",
      "[nan 2 3 4 5 1 '0']\n",
      "--------------------------------------------------\n",
      "paper_city_based\n",
      "[nan 1 0 '2']\n",
      "--------------------------------------------------\n",
      "tv_radio_city_based\n",
      "[nan  0.  1.]\n",
      "--------------------------------------------------\n",
      "website_city_based\n",
      "[nan  0.  1.]\n",
      "--------------------------------------------------\n",
      "social_networks_city_based\n",
      "[nan  0.  1.]\n",
      "--------------------------------------------------\n",
      "people_city_based\n",
      "[nan  0.  1.]\n",
      "--------------------------------------------------\n",
      "other_city_based\n",
      "[nan 0 1 '10']\n",
      "--------------------------------------------------\n",
      "paper_non_city_based_ethnic\n",
      "[nan  1.  0.]\n",
      "--------------------------------------------------\n",
      "tv_radio_non_city_based_ethnic\n",
      "[nan  0.  1.]\n",
      "--------------------------------------------------\n",
      "website_non_city_based_ethnic\n",
      "[nan  0.  1.]\n",
      "--------------------------------------------------\n",
      "social_networks_non_city_based_ethnic\n",
      "[nan  0.  1.]\n",
      "--------------------------------------------------\n",
      "people_non_city_based_ethnic\n",
      "[nan  1.  0.]\n",
      "--------------------------------------------------\n",
      "other_non_city_based_ethnic\n",
      "[nan  0.  1.]\n",
      "--------------------------------------------------\n",
      "paper_non_city_based_general\n",
      "[nan  0.  1.]\n",
      "--------------------------------------------------\n",
      "tv_radio_non_city_based_general\n",
      "[nan  0.  1.]\n",
      "--------------------------------------------------\n",
      "website_non_city_based_general\n",
      "[nan  0.  1.]\n",
      "--------------------------------------------------\n",
      "social_networks_non_city_based_general\n",
      "[nan  0.  1.]\n",
      "--------------------------------------------------\n",
      "people_non_city_based_general\n",
      "[nan  1.  0.]\n",
      "--------------------------------------------------\n",
      "other_non_city_based_general\n",
      "[nan  0.  1.]\n",
      "--------------------------------------------------\n"
     ]
    }
   ],
   "source": [
    "for column in df_clean.columns:\n",
    "    print(column)\n",
    "    print(df_clean[column].unique())\n",
    "    print('-'*50)"
   ]
  },
  {
   "cell_type": "code",
   "execution_count": 99,
   "metadata": {
    "ExecuteTime": {
     "end_time": "2020-10-18T21:09:22.712530Z",
     "start_time": "2020-10-18T21:09:22.433861Z"
    }
   },
   "outputs": [],
   "source": [
    "df_clean.drop(df_clean[df_clean['family'] == '3'].index, axis=0, inplace=True)\n",
    "df_clean.drop(df_clean[df_clean['antidepressants'] == '11'].index, axis=0, inplace=True)\n",
    "df_clean.drop(df_clean[df_clean['small_businesses'] == '33'].index, axis=0, inplace=True)\n",
    "df_clean.drop(df_clean[df_clean['safety'] == '33'].index, axis=0, inplace=True)\n",
    "df_clean.drop(df_clean[df_clean['aware_of_aarc'] == '3'].index, axis=0, inplace=True)\n",
    "df_clean.drop(df_clean[df_clean['aware_of_aarc'] == '5'].index, axis=0, inplace=True)\n",
    "df_clean.drop(df_clean[df_clean['ems_classes'] == '3'].index, axis=0, inplace=True)\n",
    "df_clean.drop(df_clean[df_clean['public_computer'] == '3'].index, axis=0, inplace=True)\n",
    "df_clean.drop(df_clean[df_clean['library_internet_acess'] == '3'].index, axis=0, inplace=True)\n",
    "df_clean.drop(df_clean[df_clean['literature'] == '3'].index, axis=0, inplace=True)\n",
    "df_clean.drop(df_clean[df_clean['citizenship_class'] == '3'].index, axis=0, inplace=True)\n",
    "df_clean.drop(df_clean[df_clean['small_business'] == '3'].index, axis=0, inplace=True)\n",
    "df_clean.drop(df_clean[df_clean['english_classes'] == '3'].index, axis=0, inplace=True)\n",
    "df_clean.drop(df_clean[df_clean['3_1_1'] == '3'].index, axis=0, inplace=True)\n",
    "df_clean.drop(df_clean[df_clean['apd_languages'] == '3'].index, axis=0, inplace=True)\n",
    "df_clean.drop(df_clean[df_clean['district'] == '3'].index, axis=0, inplace=True)\n",
    "df_clean.drop(df_clean[df_clean['housing'] == '5'].index, axis=0, inplace=True)\n",
    "df_clean.drop(df_clean[df_clean['housing'] == '6'].index, axis=0, inplace=True)\n",
    "df_clean.drop(df_clean[df_clean['status_of_ownership'] == '3'].index, axis=0, inplace=True)\n",
    "df_clean.drop(df_clean[df_clean['nursing_home'] == '11'].index, axis=0, inplace=True)\n",
    "df_clean.drop(df_clean[df_clean['nursing_home'] == '3'].index, axis=0, inplace=True)\n",
    "df_clean.drop(df_clean[df_clean['compost'] == '3'].index, axis=0, inplace=True)\n",
    "df_clean.drop(df_clean[df_clean['access_to_a_computer'] == '11'].index, axis=0, inplace=True)\n",
    "df_clean.drop(df_clean[df_clean['public_meeting'] == '0'].index, axis=0, inplace=True)\n",
    "df_clean.drop(df_clean[df_clean['council_meeting'] == '0'].index, axis=0, inplace=True)\n",
    "df_clean.drop(df_clean[df_clean['contact_city_official'] == '0'].index, axis=0, inplace=True)\n",
    "df_clean.drop(df_clean[df_clean['city_election'] == '0'].index, axis=0, inplace=True)\n",
    "df_clean.drop(df_clean[df_clean['focus_group'] == '0'].index, axis=0, inplace=True)\n",
    "df_clean.drop(df_clean[df_clean['focus_group'] == '4'].index, axis=0, inplace=True)\n",
    "df_clean.drop(df_clean[df_clean['focus_group'] == '3'].index, axis=0, inplace=True)\n",
    "df_clean.drop(df_clean[df_clean['city_effort_satisfaction'] == '0'].index, axis=0, inplace=True)\n",
    "df_clean.drop(df_clean[df_clean['paper_city_based'] == '2'].index, axis=0, inplace=True)\n",
    "df_clean.drop(df_clean[df_clean['other_city_based'] == '10'].index, axis=0, inplace=True)\n",
    "df_clean.drop([0, 19, 20], axis=0, inplace=True) # almost all variables are missing"
   ]
  },
  {
   "cell_type": "code",
   "execution_count": 100,
   "metadata": {
    "ExecuteTime": {
     "end_time": "2020-10-18T21:09:22.734674Z",
     "start_time": "2020-10-18T21:09:22.712530Z"
    }
   },
   "outputs": [
    {
     "data": {
      "text/plain": [
       "array(['Chinese Simplified', 'English', 'Chinese Traditional', 'Viet',\n",
       "       'Tagalog', 'Eng_Chinese only', 'Gujarati', 'Korean', 'Hindi'],\n",
       "      dtype=object)"
      ]
     },
     "execution_count": 100,
     "metadata": {},
     "output_type": "execute_result"
    }
   ],
   "source": [
    "df_clean['language'].unique()"
   ]
  },
  {
   "cell_type": "code",
   "execution_count": 101,
   "metadata": {
    "ExecuteTime": {
     "end_time": "2020-10-18T21:09:22.750294Z",
     "start_time": "2020-10-18T21:09:22.734674Z"
    }
   },
   "outputs": [
    {
     "data": {
      "text/plain": [
       "array([nan,  1.,  0.])"
      ]
     },
     "execution_count": 101,
     "metadata": {},
     "output_type": "execute_result"
    }
   ],
   "source": [
    "df_clean['users'].unique()"
   ]
  },
  {
   "cell_type": "code",
   "execution_count": 102,
   "metadata": {
    "ExecuteTime": {
     "end_time": "2020-10-18T21:09:22.781548Z",
     "start_time": "2020-10-18T21:09:22.750294Z"
    }
   },
   "outputs": [],
   "source": [
    "# language is a detailed version of ethnicity \n",
    "# users is not identified clearly - which question is linked to it\n",
    "df_clean.drop(['language', 'users'], axis=1, inplace=True)"
   ]
  },
  {
   "cell_type": "markdown",
   "metadata": {},
   "source": [
    "## Dummy Variables"
   ]
  },
  {
   "cell_type": "code",
   "execution_count": 103,
   "metadata": {
    "ExecuteTime": {
     "end_time": "2020-10-18T21:09:23.019439Z",
     "start_time": "2020-10-18T21:09:22.781548Z"
    },
    "scrolled": false
   },
   "outputs": [
    {
     "name": "stdout",
     "output_type": "stream",
     "text": [
      "gender\n",
      "no_one\n",
      "spouse\n",
      "children\n",
      "grand_children\n",
      "parent\n",
      "brother_sister\n",
      "friends\n",
      "full_time_employment\n",
      "part_time_employment\n",
      "student\n",
      "homemaker\n",
      "retired\n",
      "achieving_ends_meet\n",
      "us_born\n",
      "primary_language\n",
      "discrimination\n",
      "hygiene_assistance\n",
      "smoking\n",
      "drinking\n",
      "regular_exercise\n",
      "healthy_diet\n",
      "hypertension\n",
      "diabetes\n",
      "arthritis\n",
      "physical_check_up\n",
      "dentist_check_up\n",
      "urgentcare\n",
      "folkmedicine\n",
      "primary_care\n",
      "health_insurance\n",
      "dental_insurance\n",
      "unmet_health_need\n",
      "unmet_dental_needs\n",
      "transportation_medical\n",
      "interpretation_medical\n",
      "comunication_problem\n",
      "preferance\n",
      "family\n",
      "close_friend\n",
      "acquaintances\n",
      "heal_professionals\n",
      "mobile_apps\n",
      "email\n",
      "social_networks\n",
      "online_communities\n",
      "health_website\n",
      "general_practitioner\n",
      "religious_leader\n",
      "weakness\n",
      "shame\n",
      "disappointment\n",
      "disclosure\n",
      "antidepressants\n",
      "danger\n",
      "recovery\n",
      "treatment\n",
      "counseling\n",
      "preference\n",
      "diagnosed\n",
      "plan_ad\n",
      "education_ad\n",
      "services_ad\n",
      "language_barrier_ad\n",
      "fate_ad\n",
      "aging_ad\n",
      "embarrassing_ad\n",
      "avoidance_ad\n",
      "cure_ad\n",
      "nursing_home_ad\n",
      "advanced_directives\n",
      "have_an_advanced_directive\n",
      "aware_of_aarc\n",
      "ems_classes\n",
      "fire_alarm\n",
      "public_computer\n",
      "library_internet_acess\n",
      "literature\n",
      "citizenship_class\n",
      "small_business\n",
      "english_classes\n",
      "9_1_1\n",
      "3_1_1\n",
      "apd_languages\n",
      "district\n",
      "status_of_ownership\n",
      "nursing_home\n",
      "smoke_detector\n",
      "recycle\n",
      "compost\n",
      "public_transportation\n",
      "bicycling\n",
      "carpooling\n",
      "personal_car\n",
      "car_share\n",
      "walking\n",
      "access_to_a_computer\n",
      "mobile_devices\n",
      "home_phone\n",
      "public_meeting\n",
      "council_meeting\n",
      "contact_city_official\n",
      "city_election\n",
      "focus_group\n",
      "paper_city_based\n",
      "tv_radio_city_based\n",
      "website_city_based\n",
      "social_networks_city_based\n",
      "people_city_based\n",
      "other_city_based\n",
      "paper_non_city_based_ethnic\n",
      "tv_radio_non_city_based_ethnic\n",
      "website_non_city_based_ethnic\n",
      "social_networks_non_city_based_ethnic\n",
      "people_non_city_based_ethnic\n",
      "other_non_city_based_ethnic\n",
      "paper_non_city_based_general\n",
      "tv_radio_non_city_based_general\n",
      "website_non_city_based_general\n",
      "social_networks_non_city_based_general\n",
      "people_non_city_based_general\n",
      "other_non_city_based_general\n"
     ]
    }
   ],
   "source": [
    "for column in df_clean.columns:\n",
    "    uniques = df_clean[column].unique()\n",
    "    if len(uniques) <= 3:\n",
    "        print(column)"
   ]
  },
  {
   "cell_type": "markdown",
   "metadata": {},
   "source": [
    "## Categorical Variables"
   ]
  },
  {
   "cell_type": "code",
   "execution_count": 104,
   "metadata": {
    "ExecuteTime": {
     "end_time": "2020-10-18T21:09:23.135335Z",
     "start_time": "2020-10-18T21:09:23.019439Z"
    }
   },
   "outputs": [
    {
     "name": "stdout",
     "output_type": "stream",
     "text": [
      "survey_id\n",
      "age\n",
      "ethnicity\n",
      "marital_status\n",
      "education_completed\n",
      "household_size\n",
      "no_one\n",
      "spouse\n",
      "children\n",
      "grand_children\n",
      "parent\n",
      "brother_sister\n",
      "friends\n",
      "religion\n",
      "income\n",
      "duration_of_residency\n",
      "english_speaking\n",
      "english_difficulties\n",
      "familiarity_with_america\n",
      "familiarity_with_ethnic_origin\n",
      "identify_ethnically\n",
      "belonging\n",
      "present_health\n",
      "present_mental_health\n",
      "present_oral_health\n",
      "quality_of_life\n",
      "satisfied_with_life_1\n",
      "satisfied_with_life_2\n",
      "knowledge\n",
      "concern_for_self_ad\n",
      "concern_for_others_ad\n",
      "prevention\n",
      "superstition\n",
      "see_family\n",
      "close_family\n",
      "helpful_family\n",
      "see_friends\n",
      "close_friends\n",
      "helpful_friends\n",
      "family_respect\n",
      "similar_values\n",
      "successful_family\n",
      "trust\n",
      "loyalty\n",
      "family_pride\n",
      "expression\n",
      "spend_time_together\n",
      "feel_close\n",
      "togetherness\n",
      "religious_attendance\n",
      "religious_importance\n",
      "close_knit_community\n",
      "helpful_community\n",
      "community_shares_values\n",
      "get_along\n",
      "community_trust\n",
      "residency\n",
      "place_to_live\n",
      "raising_children\n",
      "place_to_work\n",
      "small_businesses\n",
      "place_to_retire\n",
      "arts_and_culture\n",
      "safety\n",
      "traffic\n",
      "qualtiy_of_life\n",
      "quality_of_service\n",
      "parks_and_recs\n",
      "libraries\n",
      "public_safety\n",
      "airport\n",
      "austin_energy\n",
      "court\n",
      "social_services\n",
      "visit_frequency\n",
      "activities\n",
      "housing\n",
      "satisfaction_with_housing\n",
      "informed\n",
      "city_effort_satisfaction\n"
     ]
    }
   ],
   "source": [
    "for column in df_clean.columns:\n",
    "    uniques = df_clean[column].unique()\n",
    "    if len(uniques) != 3:\n",
    "        print(column)"
   ]
  },
  {
   "cell_type": "code",
   "execution_count": 105,
   "metadata": {
    "ExecuteTime": {
     "end_time": "2020-10-18T21:09:37.207063Z",
     "start_time": "2020-10-18T21:09:23.135335Z"
    }
   },
   "outputs": [],
   "source": [
    "df_clean.to_excel('clean_asian_american_data.xlsx')"
   ]
  }
 ],
 "metadata": {
  "hide_input": false,
  "kernelspec": {
   "display_name": "Python 3",
   "language": "python",
   "name": "python3"
  },
  "language_info": {
   "codemirror_mode": {
    "name": "ipython",
    "version": 3
   },
   "file_extension": ".py",
   "mimetype": "text/x-python",
   "name": "python",
   "nbconvert_exporter": "python",
   "pygments_lexer": "ipython3",
   "version": "3.8.3"
  },
  "toc": {
   "base_numbering": 1,
   "nav_menu": {},
   "number_sections": true,
   "sideBar": true,
   "skip_h1_title": false,
   "title_cell": "Table of Contents",
   "title_sidebar": "Contents",
   "toc_cell": false,
   "toc_position": {
    "height": "calc(100% - 180px)",
    "left": "10px",
    "top": "150px",
    "width": "211px"
   },
   "toc_section_display": true,
   "toc_window_display": true
  },
  "varInspector": {
   "cols": {
    "lenName": 16,
    "lenType": 16,
    "lenVar": 40
   },
   "kernels_config": {
    "python": {
     "delete_cmd_postfix": "",
     "delete_cmd_prefix": "del ",
     "library": "var_list.py",
     "varRefreshCmd": "print(var_dic_list())"
    },
    "r": {
     "delete_cmd_postfix": ") ",
     "delete_cmd_prefix": "rm(",
     "library": "var_list.r",
     "varRefreshCmd": "cat(var_dic_list()) "
    }
   },
   "types_to_exclude": [
    "module",
    "function",
    "builtin_function_or_method",
    "instance",
    "_Feature"
   ],
   "window_display": false
  }
 },
 "nbformat": 4,
 "nbformat_minor": 4
}
